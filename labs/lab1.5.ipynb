{
 "cells": [
  {
   "cell_type": "code",
   "execution_count": 112,
   "metadata": {
    "collapsed": true
   },
   "outputs": [],
   "source": [
    "import numpy as np\n",
    "import matplotlib.pyplot as plt"
   ]
  },
  {
   "cell_type": "code",
   "execution_count": 113,
   "metadata": {
    "collapsed": true,
    "deletable": true,
    "editable": true
   },
   "outputs": [],
   "source": [
    "ATrot = np.array([1* 60 + 17.50, 1*60 + 17.12, 60 + 16.18, 60 +16.94, 60 + 17.57, 60+ 17.59, 60 + 17.53, 60 + 18.06])\n",
    "ATcyl = np.array([60 +37.60, 60 +38.07, 60 +37.13, 60 + 37.54, 60 + 37.62, 60 + 36.84, 60 +37.40, 60 + 37.38, 60 +37.52])\n",
    "\n",
    "\n",
    "mcyl = 1.6189\n",
    "Rcyl = 0.0781/2. # ISU "
   ]
  },
  {
   "cell_type": "code",
   "execution_count": 114,
   "metadata": {
    "collapsed": false,
    "deletable": true,
    "editable": true
   },
   "outputs": [
    {
     "name": "stdout",
     "output_type": "stream",
     "text": [
      "(9.7455555555555549, 7.7311250000000005)\n"
     ]
    }
   ],
   "source": [
    "Trot = ATrot.mean() / 10.\n",
    "Tcyl = ATcyl.mean() / 10.\n",
    "print(Tcyl, Trot)"
   ]
  },
  {
   "cell_type": "code",
   "execution_count": 104,
   "metadata": {
    "collapsed": false,
    "deletable": true,
    "editable": true
   },
   "outputs": [],
   "source": [
    "g = 9.814"
   ]
  },
  {
   "cell_type": "code",
   "execution_count": 105,
   "metadata": {
    "collapsed": false,
    "deletable": true,
    "editable": true,
    "scrolled": true
   },
   "outputs": [
    {
     "name": "stdout",
     "output_type": "stream",
     "text": [
      "0.00123433232862\n",
      "0.000776791189432\n"
     ]
    }
   ],
   "source": [
    "Icyl = (mcyl *(Rcyl*Rcyl)/2.)\n",
    "print(Icyl)\n",
    "\n",
    "\n",
    "I0 = (Trot/Tcyl)**2 * Icyl\n",
    "print(I0)"
   ]
  },
  {
   "cell_type": "code",
   "execution_count": 116,
   "metadata": {
    "collapsed": false,
    "deletable": true,
    "editable": true
   },
   "outputs": [
    {
     "name": "stdout",
     "output_type": "stream",
     "text": [
      "System ratio = k =  243.302888296\n"
     ]
    }
   ],
   "source": [
    "import math \n",
    "r = 121 /1000.\n",
    "k = g * r / (2. * math.pi * I0)\n",
    "print \"System ratio = k = \", k"
   ]
  },
  {
   "cell_type": "code",
   "execution_count": 118,
   "metadata": {
    "collapsed": false,
    "deletable": true,
    "editable": true
   },
   "outputs": [
    {
     "name": "stdout",
     "output_type": "stream",
     "text": [
      "Time =  [  83.84    203.1275  159.      129.225   103.605    85.305    67.725\n",
      "   55.545    44.51     35.66  ]\n",
      "w0 =  [ 2876.19049582  2965.29044654  2940.07210217  2892.55504809  2924.05790607\n",
      "  2926.44835694  2850.64004301  2905.56567004  2923.94112068  2915.19681487]\n"
     ]
    }
   ],
   "source": [
    "m = np.array([141.,  60., 76., 92., 116., 141., 173., 215., 270., 336.])\n",
    "m /= 1000.\n",
    "T = np.array([83.84,\n",
    "              (3. * (64.84 + 65.31) + 2.*(60. + 45.62 + 60. + 45.41)) / 4.,\n",
    "              3. * (53.35 + 52.65) / 2.,\n",
    "              3. * (43.84 + 42.31) / 2.,\n",
    "              3. * (34.72 + 34.35) / 2.,\n",
    "              3. * (28.28 + 28.59) / 2.,\n",
    "              3. * (22.50 + 22.65) / 2.,\n",
    "              3. * (18.25 + 18.78) / 2.,\n",
    "              2. * (22.41 + 22.10) / 2.,\n",
    "              2. * (17.91 + 17.75) / 2.])\n",
    "print \"Time = \", T\n",
    "W0 = m * T* k\n",
    "print \"w0 = \", W0"
   ]
  },
  {
   "cell_type": "code",
   "execution_count": 120,
   "metadata": {
    "collapsed": false,
    "deletable": true,
    "editable": true
   },
   "outputs": [
    {
     "name": "stdout",
     "output_type": "stream",
     "text": [
      "Frequency =  [ 457.75993468  471.94063227  467.92700811  460.36443407  465.37826964\n",
      "  465.75872171  453.69345382  462.43513887  465.35968267  463.96798317]\n",
      "mean frequency =  463.4585259\n"
     ]
    },
    {
     "data": {
      "image/png": "[encoded data removed]",
      "text/plain": [
       "<matplotlib.figure.Figure at 0x7f9e18347850>"
      ]
     },
     "metadata": {},
     "output_type": "display_data"
    }
   ],
   "source": [
    "T0 = W0 / (2. * math.pi)\n",
    "print \"Frequency = \" , T0\n",
    "print \"mean frequency = \", T0.mean()\n",
    "\n",
    "plt.figure(figsize=(14,5))\n",
    "plt.title(\"T(m) diagram\")\n",
    "plt.scatter(m, T)\n",
    "plt.show()\n",
    "TR = [466]\n"
   ]
  },
  {
   "cell_type": "code",
   "execution_count": 109,
   "metadata": {
    "collapsed": true,
    "deletable": true,
    "editable": true
   },
   "outputs": [],
   "source": [
    "angl = 10. # (grad)\n",
    "mangl = 141. / 1000.\n",
    "tAngl = [5. * 60 + 32.18, 5. * 6. + 36.68]"
   ]
  },
  {
   "cell_type": "code",
   "execution_count": null,
   "metadata": {
    "collapsed": true,
    "deletable": true,
    "editable": true
   },
   "outputs": [],
   "source": []
  }
 ],
 "metadata": {
  "kernelspec": {
   "display_name": "Python 2",
   "language": "python",
   "name": "python2"
  },
  "language_info": {
   "codemirror_mode": {
    "name": "ipython",
    "version": 2
   },
   "file_extension": ".py",
   "mimetype": "text/x-python",
   "name": "python",
   "nbconvert_exporter": "python",
   "pygments_lexer": "ipython2",
   "version": "2.7.12"
  }
 },
 "nbformat": 4,
 "nbformat_minor": 2
}
