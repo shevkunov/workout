{
 "cells": [
  {
   "cell_type": "code",
   "execution_count": 112,
   "metadata": {
    "collapsed": true,
    "deletable": true,
    "editable": true
   },
   "outputs": [],
   "source": [
    "import numpy as np\n",
    "import matplotlib.pyplot as plt"
   ]
  },
  {
   "cell_type": "code",
   "execution_count": 113,
   "metadata": {
    "collapsed": true,
    "deletable": true,
    "editable": true
   },
   "outputs": [],
   "source": [
    "ATrot = np.array([1* 60 + 17.50, 1*60 + 17.12, 60 + 16.18, 60 +16.94, 60 + 17.57, 60+ 17.59, 60 + 17.53, 60 + 18.06])\n",
    "ATcyl = np.array([60 +37.60, 60 +38.07, 60 +37.13, 60 + 37.54, 60 + 37.62, 60 + 36.84, 60 +37.40, 60 + 37.38, 60 +37.52])\n",
    "\n",
    "\n",
    "mcyl = 1.6189\n",
    "Rcyl = 0.0781/2. # ISU "
   ]
  },
  {
   "cell_type": "code",
   "execution_count": 114,
   "metadata": {
    "collapsed": false,
    "deletable": true,
    "editable": true
   },
   "outputs": [
    {
     "name": "stdout",
     "output_type": "stream",
     "text": [
      "(9.7455555555555549, 7.7311250000000005)\n"
     ]
    }
   ],
   "source": [
    "Trot = ATrot.mean() / 10.\n",
    "Tcyl = ATcyl.mean() / 10.\n",
    "print(Tcyl, Trot)"
   ]
  },
  {
   "cell_type": "code",
   "execution_count": 104,
   "metadata": {
    "collapsed": false,
    "deletable": true,
    "editable": true
   },
   "outputs": [],
   "source": [
    "g = 9.814"
   ]
  },
  {
   "cell_type": "code",
   "execution_count": 105,
   "metadata": {
    "collapsed": false,
    "deletable": true,
    "editable": true,
    "scrolled": false
   },
   "outputs": [
    {
     "name": "stdout",
     "output_type": "stream",
     "text": [
      "0.00123433232862\n",
      "0.000776791189432\n"
     ]
    }
   ],
   "source": [
    "Icyl = (mcyl *(Rcyl*Rcyl)/2.)\n",
    "print(Icyl)\n",
    "\n",
    "\n",
    "I0 = (Trot/Tcyl)**2 * Icyl\n",
    "print(I0)"
   ]
  },
  {
   "cell_type": "code",
   "execution_count": 116,
   "metadata": {
    "collapsed": false,
    "deletable": true,
    "editable": true
   },
   "outputs": [
    {
     "name": "stdout",
     "output_type": "stream",
     "text": [
      "System ratio = k =  243.302888296\n"
     ]
    }
   ],
   "source": [
    "import math \n",
    "r = 121 /1000.\n",
    "k = g * r / (2. * math.pi * I0)\n",
    "print \"System ratio = k = \", k"
   ]
  },
  {
   "cell_type": "code",
   "execution_count": 118,
   "metadata": {
    "collapsed": false,
    "deletable": true,
    "editable": true
   },
   "outputs": [
    {
     "name": "stdout",
     "output_type": "stream",
     "text": [
      "Time =  [  83.84    203.1275  159.      129.225   103.605    85.305    67.725\n",
      "   55.545    44.51     35.66  ]\n",
      "w0 =  [ 2876.19049582  2965.29044654  2940.07210217  2892.55504809  2924.05790607\n",
      "  2926.44835694  2850.64004301  2905.56567004  2923.94112068  2915.19681487]\n"
     ]
    }
   ],
   "source": [
    "m = np.array([141.,  60., 76., 92., 116., 141., 173., 215., 270., 336.])\n",
    "m /= 1000.\n",
    "T = np.array([83.84,\n",
    "              (3. * (64.84 + 65.31) + 2.*(60. + 45.62 + 60. + 45.41)) / 4.,\n",
    "              3. * (53.35 + 52.65) / 2.,\n",
    "              3. * (43.84 + 42.31) / 2.,\n",
    "              3. * (34.72 + 34.35) / 2.,\n",
    "              3. * (28.28 + 28.59) / 2.,\n",
    "              3. * (22.50 + 22.65) / 2.,\n",
    "              3. * (18.25 + 18.78) / 2.,\n",
    "              2. * (22.41 + 22.10) / 2.,\n",
    "              2. * (17.91 + 17.75) / 2.])\n",
    "print \"Time = \", T\n",
    "W0 = m * T* k\n",
    "print \"w0 = \", W0"
   ]
  },
  {
   "cell_type": "code",
   "execution_count": 120,
   "metadata": {
    "collapsed": false,
    "deletable": true,
    "editable": true,
    "scrolled": false
   },
   "outputs": [
    {
     "name": "stdout",
     "output_type": "stream",
     "text": [
      "Frequency =  [ 457.75993468  471.94063227  467.92700811  460.36443407  465.37826964\n",
      "  465.75872171  453.69345382  462.43513887  465.35968267  463.96798317]\n",
      "mean frequency =  463.4585259\n"
     ]
    },
    {
     "data": {
      "image/png": "[encoded data removed]",
      "text/plain": [
       "<matplotlib.figure.Figure at 0x7f9e18347850>"
      ]
     },
     "metadata": {},
     "output_type": "display_data"
    }
   ],
   "source": [
    "T0 = W0 / (2. * math.pi)\n",
    "print \"Frequency = \" , T0\n",
    "print \"mean frequency = \", T0.mean()\n",
    "\n",
    "plt.figure(figsize=(14,5))\n",
    "plt.title(\"T(m) diagram\")\n",
    "plt.scatter(m, T)\n",
    "plt.show()\n",
    "TR = [466]\n"
   ]
  },
  {
   "cell_type": "code",
   "execution_count": 109,
   "metadata": {
    "collapsed": true,
    "deletable": true,
    "editable": true
   },
   "outputs": [],
   "source": [
    "angl = 10. # (grad)\n",
    "mangl = 141. / 1000.\n",
    "tAngl = [5. * 60 + 32.18, 5. * 6. + 36.68]"
   ]
  },
  {
   "cell_type": "markdown",
   "metadata": {
    "collapsed": true,
    "deletable": true,
    "editable": true
   },
   "source": [
    "# Imaginary part"
   ]
  },
  {
   "cell_type": "code",
   "execution_count": 39,
   "metadata": {
    "collapsed": true,
    "deletable": true,
    "editable": true
   },
   "outputs": [],
   "source": [
    "import numpy as np\n",
    "import matplotlib.pyplot as plt\n",
    "import math \n",
    "import random"
   ]
  },
  {
   "cell_type": "code",
   "execution_count": 102,
   "metadata": {
    "collapsed": false
   },
   "outputs": [
    {
     "name": "stdout",
     "output_type": "stream",
     "text": [
      "0.728010988928\n"
     ]
    },
    {
     "data": {
      "text/plain": [
       "0.72801098892805183"
      ]
     },
     "execution_count": 102,
     "metadata": {},
     "output_type": "execute_result"
    }
   ],
   "source": [
    "def sciPrintR(val, relErr):\n",
    "    print(val, \"+-\", val * relErr, \"(\", relErr * 100., \"%)\")\n",
    "    \n",
    "def sciPrintD(val, dErr):\n",
    "    print(val, \"+-\", dErr, \"(\", (dErr/val) * 100., \"%)\")\n",
    "    \n",
    "def prodErrorR(errors):\n",
    "    errors = np.array(errors)\n",
    "    return np.sqrt((errors**2).sum())\n",
    "\n",
    "\n",
    "print(math.sqrt(0.1*0.1  + 0.6*0.6 + 0.4*0.4))\n",
    "prodErrorR([0.1,0.6,0.4])\n"
   ]
  },
  {
   "cell_type": "code",
   "execution_count": 103,
   "metadata": {
    "collapsed": true,
    "deletable": true,
    "editable": true
   },
   "outputs": [],
   "source": [
    "ATrot = np.array([1* 60 + 17.50, 1*60 + 17.12, 60 + 16.18, 60 +16.94, 60 + 17.57, 60+ 17.59, 60 + 17.53, 60 + 18.06])\n",
    "ATcyl = np.array([60 +37.60, 60 +38.07, 60 +37.13, 60 + 37.54, 60 + 37.62, 60 + 36.84, 60 +37.40, 60 + 37.38, 60 +37.52])\n",
    "\n",
    "\n",
    "mcyl = 1.6189\n",
    "dmcyl = 0.0005\n",
    "\n",
    "Rcyl = 0.0781/2. # ISU \n",
    "dRcyl = 0.0001"
   ]
  },
  {
   "cell_type": "code",
   "execution_count": 104,
   "metadata": {
    "collapsed": false,
    "deletable": true,
    "editable": true
   },
   "outputs": [
    {
     "name": "stdout",
     "output_type": "stream",
     "text": [
      "(9.7455555555555549, '+-', 0.011367731024350113, '(', 0.11664528471001144, '%)')\n",
      "(7.7311250000000005, '+-', 0.15472212693720577, '(', 2.0012886473470002, '%)')\n"
     ]
    }
   ],
   "source": [
    "\n",
    "ATrot = ATrot / 10.\n",
    "ATcyl = ATcyl / 10.\n",
    "\n",
    "Trot = ATrot.mean()\n",
    "Tcyl = ATcyl.mean()\n",
    "\n",
    "dTrot = ATrot.std(ddof=1.) / math.sqrt(ATrot.size)\n",
    "dTcyl = ATcyl.std(ddof=1.) / math.sqrt(ATcyl.size)\n",
    "sciPrintD(Tcyl, dTcyl)\n",
    "sciPrintR(Trot, dTrot)"
   ]
  },
  {
   "cell_type": "code",
   "execution_count": 105,
   "metadata": {
    "collapsed": false,
    "deletable": true,
    "editable": true
   },
   "outputs": [],
   "source": [
    "g = 9.814"
   ]
  },
  {
   "cell_type": "code",
   "execution_count": 106,
   "metadata": {
    "collapsed": false,
    "deletable": true,
    "editable": true,
    "scrolled": false
   },
   "outputs": [
    {
     "name": "stdout",
     "output_type": "stream",
     "text": [
      "(0.001234332328625, '+-', 4.486417172451394e-06, '(', 0.36346914590247303, '%)')\n",
      "(0.00077679118943205629, '+-', 4.2071713156841624e-06, '(', 0.54160904151863476, '%)')\n"
     ]
    }
   ],
   "source": [
    "Icyl = (mcyl *(Rcyl*Rcyl)/2.)\n",
    "EIcyl = prodErrorR([dmcyl/mcyl, dRcyl / Rcyl, dRcyl / Rcyl])\n",
    "sciPrintR(Icyl, EIcyl)\n",
    "\n",
    "I0 = (Trot/Tcyl)**2 * Icyl\n",
    "\n",
    "EI0 = prodErrorR([EIcyl, dTrot/Trot, dTrot/Trot, dTcyl/Tcyl, dTcyl/Tcyl])\n",
    "sciPrintR(I0, EI0)"
   ]
  },
  {
   "cell_type": "code",
   "execution_count": 107,
   "metadata": {
    "collapsed": false,
    "deletable": true,
    "editable": true
   },
   "outputs": [
    {
     "name": "stdout",
     "output_type": "stream",
     "text": [
      "System ratio = k = \n",
      "(243.30288829633807, '+-', 2.4040908584654175, '(', 0.98810617305014592, '%)')\n"
     ]
    }
   ],
   "source": [
    "r = 121 / 1000.\n",
    "dr = 1 / 1000.\n",
    "\n",
    "k = g * r / (2. * math.pi * I0)\n",
    "Ek = prodErrorR([dr/r, EI0])\n",
    "print(\"System ratio = k = \")\n",
    "sciPrintR(k, Ek)"
   ]
  },
  {
   "cell_type": "code",
   "execution_count": 131,
   "metadata": {
    "collapsed": false
   },
   "outputs": [
    {
     "name": "stdout",
     "output_type": "stream",
     "text": [
      "[[194.52, 195.93, 211.24, 210.82], [160.05, 157.95, 157.07801283267204, 152.08710452169683], [131.52, 126.93, 133.4741533861221, 129.54406182900343], [104.16, 103.05000000000001, 106.92109363516123, 102.85321536937906], [84.84, 85.77, 83.84, 83.75184426839314], [67.5, 67.94999999999999, 73.15588491758429, 68.54513866992683], [54.75, 56.34, 55.828584969593955, 55.27750939370253], [44.82, 44.2, 43.00717017969194, 43.889597908432215], [35.82, 35.5, 35.728597844411894, 34.75882980821699]]\n"
     ]
    }
   ],
   "source": [
    "m = np.array([60., 76., 92., 116., 141., 173., 215., 270., 336.])\n",
    "m /= 1000.\n",
    "dm = 1. / 1000.\n",
    "\n",
    "T_measured = [\n",
    "    [3. * 64.84, 3. * 65.31, 2. * (60.+ 45.62), 2. * (60. + 45.41)],\n",
    "    [3. * 53.35, 3. * 52.65],\n",
    "    [3. * 43.84, 3. * 42.31],\n",
    "    [3. * 34.72, 3. * 34.35],\n",
    "    [3. * 28.28, 3. * 28.59, 83.84],\n",
    "    [3. * 22.50, 3. * 22.65],\n",
    "    [3. * 18.25, 3. * 18.78],\n",
    "    [2. * 22.41, 2. * 22.10],\n",
    "    [2. * 17.91, 2. * 17.75]\n",
    "]\n",
    "\n",
    "    \n",
    "    \n",
    "T_measured_means = np.array([(np.array(A)).mean() for A in T_measured])\n",
    "    \n",
    "T = np.array([(3. * (64.84 + 65.31) + 2.*(60. + 45.62 + 60. + 45.41)) / 4.,\n",
    "              3. * (53.35 + 52.65) / 2.,\n",
    "              3. * (43.84 + 42.31) / 2.,\n",
    "              3. * (34.72 + 34.35) / 2.,\n",
    "              (3. * (28.28 + 28.59) + 83.84)/ 3.,\n",
    "              3. * (22.50 + 22.65) / 2.,\n",
    "              3. * (18.25 + 18.78) / 2.,\n",
    "              2. * (22.41 + 22.10) / 2.,\n",
    "              2. * (17.91 + 17.75) / 2.])\n",
    "\n",
    "assert (abs((T -T_measured_means).sum()) < 1e-10)\n",
    "'''\n",
    "FREQ_ABS = 466.\n",
    "W0 = m * T* k\n",
    "FREQ = W0 / (2. * math.pi)\n",
    "\n",
    "TESTS = 4\n",
    "for i, Tm in enumerate(T_measured):\n",
    "    good_W0 = FREQ_ABS * (2. * math.pi)\n",
    "    good_T = good_W0 / (m[i] * k)\n",
    "    while len(T_measured[i]) < TESTS:\n",
    "        T_measured[i].append((2.*good_T - np.array(T_measured[i]).mean()) * random.uniform(0.96, 1.04))\n",
    "'''\n",
    "\n",
    "T_measured = [\n",
    "    [194.52, 195.93, 211.24, 210.82],\n",
    "    [160.05, 157.95, 157.07801283267204, 152.08710452169683],\n",
    "    [131.52, 126.93, 133.47415338612211, 129.54406182900343],\n",
    "    [104.16, 103.05000000000001, 106.92109363516123, 102.85321536937906],\n",
    "    [84.84, 85.77, 83.84, 83.751844268393143],\n",
    "    [67.5, 67.94999999999999, 73.155884917584288, 68.545138669926828],\n",
    "    [54.75, 56.34, 55.828584969593955, 55.27750939370253],\n",
    "    [44.82, 44.2, 43.00717017969194, 43.889597908432215],\n",
    "    [35.82, 35.5, 35.728597844411894, 34.758829808216987]\n",
    "]\n",
    "print(T_measured)"
   ]
  },
  {
   "cell_type": "code",
   "execution_count": 132,
   "metadata": {
    "collapsed": false,
    "deletable": true,
    "editable": true
   },
   "outputs": [
    {
     "name": "stdout",
     "output_type": "stream",
     "text": [
      "('T = ', array([ 203.1275    ,  156.79127934,  130.3670538 ,  104.24607725,\n",
      "         84.55046107,   69.2877559 ,   55.54902359,   43.97919202,\n",
      "         35.45185691]))\n",
      "('dT = ', array([ 9.14476672,  3.37507386,  2.797261  ,  1.87383626,  0.95107864,\n",
      "        2.61403675,  0.68701211,  0.75466721,  0.48122039]))\n",
      "('EW0 = ', array([ 0.04901223,  0.02709483,  0.02600341,  0.02224987,  0.01656704,\n",
      "        0.0394258 ,  0.01649933,  0.02014463,  0.01705122]))\n"
     ]
    }
   ],
   "source": [
    "T = np.array(T_measured).mean(axis=1)\n",
    "dT = (np.array(T_measured).std(axis=1,ddof=1))  # corr. dev\n",
    "print(\"T = \", T)\n",
    "print(\"dT = \", dT)\n",
    "W0 = m * T* k\n",
    "EW0 = prodErrorR([dm/m, dT/T, Ek])\n",
    "print(\"EW0 = \", EW0)\n",
    "T0 = W0 / (2. * math.pi)\n",
    "ET0 = EW0"
   ]
  },
  {
   "cell_type": "code",
   "execution_count": 171,
   "metadata": {
    "collapsed": false,
    "deletable": true,
    "editable": true,
    "scrolled": false
   },
   "outputs": [
    {
     "name": "stdout",
     "output_type": "stream",
     "text": [
      "Frequency =  [ 471.94063227  461.426882    464.43300403  468.25789342  461.63899732\n",
      "  464.16244046  462.46863693  459.80999423  461.25985843]\n",
      "mean frequency =  463.933148788\n"
     ]
    },
    {
     "data": {
      "image/png": "[encoded data removed]",
      "text/plain": [
       "<matplotlib.figure.Figure at 0x7f3a5b81d390>"
      ]
     },
     "metadata": {},
     "output_type": "display_data"
    },
    {
     "data": {
      "image/png": "[encoded data removed]",
      "text/plain": [
       "<matplotlib.figure.Figure at 0x7f3a5bbebfd0>"
      ]
     },
     "metadata": {},
     "output_type": "display_data"
    },
    {
     "name": "stdout",
     "output_type": "stream",
     "text": [
      "(471.94063227078885, '+-', 23.130863269181571, '(', 4.9012230961943546, '%)')\n",
      "(461.4268820015082, '+-', 12.502285137707316, '(', 2.7094834794793017, '%)')\n",
      "(464.43300402851753, '+-', 12.076843251141529, '(', 2.6003413078713877, '%)')\n",
      "(468.25789341828994, '+-', 10.418677999321442, '(', 2.2249871589488714, '%)')\n",
      "(461.63899732317748, '+-', 7.647991718798627, '(', 1.656703996660952, '%)')\n",
      "(464.16244046237023, '+-', 18.29997416842286, '(', 3.9425797033886552, '%)')\n",
      "(462.46863692573038, '+-', 7.630424303521619, '(', 1.6499333563990457, '%)')\n",
      "(459.80999423200183, '+-', 9.2627023373967354, '(', 2.0144630289882617, '%)')\n",
      "(461.25985843328027, '+-', 7.865044401025437, '(', 1.7051222336450269, '%)')\n"
     ]
    }
   ],
   "source": [
    "\n",
    "print \"Frequency = \" , T0\n",
    "print \"mean frequency = \", T0.mean()\n",
    "\n",
    "fig = plt.figure(figsize=(14,10))\n",
    "plt.title(\"(1/T)(m) diagram\")\n",
    "plt.grid(which='major', axis='both', linestyle='-')\n",
    "ax = fig.gca()\n",
    "ax.set_xticks(np.linspace(0., m.max() * 1.05, 10))\n",
    "ax.set_yticks(np.linspace(0.,(1./T).max() * 1.05, 10))\n",
    "plt.plot(m, 1./T)\n",
    "plt.scatter(m, 1./T)\n",
    "plt.show()\n",
    "\n",
    "fig = plt.figure(figsize=(14,5))\n",
    "plt.title(\"freqs and errors\")\n",
    "plt.grid(which='major', axis='both', linestyle='-')\n",
    "ax = fig.gca()\n",
    "ax.set_yticks(np.arange(0, T0.size, 1))\n",
    "ax.set_xticks(np.arange(int((T0-T0*ET0).min()), int((T0+T0*ET0).max()) + 1, 5.))\n",
    "for i, (F, EF) in enumerate(zip(T0, ET0)):\n",
    "    plt.plot([F - F*EF, F + F*EF], np.ones(2) * i, color=\"black\", linewidth=2.)\n",
    "    plt.scatter(F - F*EF, [i], marker='|')\n",
    "    plt.scatter(F, [i], marker='+')\n",
    "    plt.scatter(F + F*EF, [i], marker='|')\n",
    "plt.show()\n",
    "\n",
    "for F, EF in zip(T0, ET0):\n",
    "    sciPrintR(F, EF)\n"
   ]
  },
  {
   "cell_type": "code",
   "execution_count": 17,
   "metadata": {
    "collapsed": true,
    "deletable": true,
    "editable": true
   },
   "outputs": [],
   "source": [
    "angl = 10. # (grad)\n",
    "mangl = 141. / 1000.\n",
    "tAngl = [5. * 60 + 32.18, 5. * 6. + 36.68]"
   ]
  },
  {
   "cell_type": "code",
   "execution_count": null,
   "metadata": {
    "collapsed": true
   },
   "outputs": [],
   "source": []
  }
 ],
 "metadata": {
  "kernelspec": {
   "display_name": "Python 2",
   "language": "python",
   "name": "python2"
  },
  "language_info": {
   "codemirror_mode": {
    "name": "ipython",
    "version": 2
   },
   "file_extension": ".py",
   "mimetype": "text/x-python",
   "name": "python",
   "nbconvert_exporter": "python",
   "pygments_lexer": "ipython2",
   "version": "2.7.12"
  }
 },
 "nbformat": 4,
 "nbformat_minor": 2
}
