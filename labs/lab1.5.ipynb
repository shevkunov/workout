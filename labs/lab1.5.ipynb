{
 "cells": [
  {
   "cell_type": "code",
   "execution_count": 112,
   "metadata": {
    "collapsed": true,
    "deletable": true,
    "editable": true
   },
   "outputs": [],
   "source": [
    "import numpy as np\n",
    "import matplotlib.pyplot as plt"
   ]
  },
  {
   "cell_type": "code",
   "execution_count": 113,
   "metadata": {
    "collapsed": true,
    "deletable": true,
    "editable": true
   },
   "outputs": [],
   "source": [
    "ATrot = np.array([1* 60 + 17.50, 1*60 + 17.12, 60 + 16.18, 60 +16.94, 60 + 17.57, 60+ 17.59, 60 + 17.53, 60 + 18.06])\n",
    "ATcyl = np.array([60 +37.60, 60 +38.07, 60 +37.13, 60 + 37.54, 60 + 37.62, 60 + 36.84, 60 +37.40, 60 + 37.38, 60 +37.52])\n",
    "\n",
    "\n",
    "mcyl = 1.6189\n",
    "Rcyl = 0.0781/2. # ISU "
   ]
  },
  {
   "cell_type": "code",
   "execution_count": 114,
   "metadata": {
    "collapsed": false,
    "deletable": true,
    "editable": true
   },
   "outputs": [
    {
     "name": "stdout",
     "output_type": "stream",
     "text": [
      "(9.7455555555555549, 7.7311250000000005)\n"
     ]
    }
   ],
   "source": [
    "Trot = ATrot.mean() / 10.\n",
    "Tcyl = ATcyl.mean() / 10.\n",
    "print(Tcyl, Trot)"
   ]
  },
  {
   "cell_type": "code",
   "execution_count": 104,
   "metadata": {
    "collapsed": false,
    "deletable": true,
    "editable": true
   },
   "outputs": [],
   "source": [
    "g = 9.814"
   ]
  },
  {
   "cell_type": "code",
   "execution_count": 105,
   "metadata": {
    "collapsed": false,
    "deletable": true,
    "editable": true,
    "scrolled": false
   },
   "outputs": [
    {
     "name": "stdout",
     "output_type": "stream",
     "text": [
      "0.00123433232862\n",
      "0.000776791189432\n"
     ]
    }
   ],
   "source": [
    "Icyl = (mcyl *(Rcyl*Rcyl)/2.)\n",
    "print(Icyl)\n",
    "\n",
    "\n",
    "I0 = (Trot/Tcyl)**2 * Icyl\n",
    "print(I0)"
   ]
  },
  {
   "cell_type": "code",
   "execution_count": 116,
   "metadata": {
    "collapsed": false,
    "deletable": true,
    "editable": true
   },
   "outputs": [
    {
     "name": "stdout",
     "output_type": "stream",
     "text": [
      "System ratio = k =  243.302888296\n"
     ]
    }
   ],
   "source": [
    "import math \n",
    "r = 121 /1000.\n",
    "k = g * r / (2. * math.pi * I0)\n",
    "print \"System ratio = k = \", k"
   ]
  },
  {
   "cell_type": "code",
   "execution_count": 118,
   "metadata": {
    "collapsed": false,
    "deletable": true,
    "editable": true
   },
   "outputs": [
    {
     "name": "stdout",
     "output_type": "stream",
     "text": [
      "Time =  [  83.84    203.1275  159.      129.225   103.605    85.305    67.725\n",
      "   55.545    44.51     35.66  ]\n",
      "w0 =  [ 2876.19049582  2965.29044654  2940.07210217  2892.55504809  2924.05790607\n",
      "  2926.44835694  2850.64004301  2905.56567004  2923.94112068  2915.19681487]\n"
     ]
    }
   ],
   "source": [
    "m = np.array([141.,  60., 76., 92., 116., 141., 173., 215., 270., 336.])\n",
    "m /= 1000.\n",
    "T = np.array([83.84,\n",
    "              (3. * (64.84 + 65.31) + 2.*(60. + 45.62 + 60. + 45.41)) / 4.,\n",
    "              3. * (53.35 + 52.65) / 2.,\n",
    "              3. * (43.84 + 42.31) / 2.,\n",
    "              3. * (34.72 + 34.35) / 2.,\n",
    "              3. * (28.28 + 28.59) / 2.,\n",
    "              3. * (22.50 + 22.65) / 2.,\n",
    "              3. * (18.25 + 18.78) / 2.,\n",
    "              2. * (22.41 + 22.10) / 2.,\n",
    "              2. * (17.91 + 17.75) / 2.])\n",
    "print \"Time = \", T\n",
    "W0 = m * T* k\n",
    "print \"w0 = \", W0"
   ]
  },
  {
   "cell_type": "code",
   "execution_count": 120,
   "metadata": {
    "collapsed": false,
    "deletable": true,
    "editable": true,
    "scrolled": false
   },
   "outputs": [
    {
     "name": "stdout",
     "output_type": "stream",
     "text": [
      "Frequency =  [ 457.75993468  471.94063227  467.92700811  460.36443407  465.37826964\n",
      "  465.75872171  453.69345382  462.43513887  465.35968267  463.96798317]\n",
      "mean frequency =  463.4585259\n"
     ]
    },
    {
     "data": {
      "image/png": "[encoded data removed]",
      "text/plain": [
       "<matplotlib.figure.Figure at 0x7f9e18347850>"
      ]
     },
     "metadata": {},
     "output_type": "display_data"
    }
   ],
   "source": [
    "T0 = W0 / (2. * math.pi)\n",
    "print \"Frequency = \" , T0\n",
    "print \"mean frequency = \", T0.mean()\n",
    "\n",
    "plt.figure(figsize=(14,5))\n",
    "plt.title(\"T(m) diagram\")\n",
    "plt.scatter(m, T)\n",
    "plt.show()\n",
    "TR = [466]\n"
   ]
  },
  {
   "cell_type": "code",
   "execution_count": 109,
   "metadata": {
    "collapsed": true,
    "deletable": true,
    "editable": true
   },
   "outputs": [],
   "source": [
    "angl = 10. # (grad)\n",
    "mangl = 141. / 1000.\n",
    "tAngl = [5. * 60 + 32.18, 5. * 6. + 36.68]"
   ]
  },
  {
   "cell_type": "markdown",
   "metadata": {
    "collapsed": true,
    "deletable": true,
    "editable": true
   },
   "source": [
    "# Imaginary part"
   ]
  },
  {
   "cell_type": "code",
   "execution_count": 2,
   "metadata": {
    "collapsed": true,
    "deletable": true,
    "editable": true
   },
   "outputs": [],
   "source": [
    "import numpy as np\n",
    "import matplotlib.pyplot as plt\n",
    "import math \n",
    "import random"
   ]
  },
  {
   "cell_type": "code",
   "execution_count": 34,
   "metadata": {
    "collapsed": false,
    "deletable": true,
    "editable": true
   },
   "outputs": [
    {
     "name": "stdout",
     "output_type": "stream",
     "text": [
      "0.728010988928\n"
     ]
    },
    {
     "data": {
      "text/plain": [
       "0.72801098892805183"
      ]
     },
     "execution_count": 34,
     "metadata": {},
     "output_type": "execute_result"
    }
   ],
   "source": [
    "def sciPrintR(val, relErr, name=None):\n",
    "    if name != None:\n",
    "        print name, val, \"+-\", val * relErr, \"(\", relErr * 100., \"%)\"\n",
    "    else:\n",
    "        print val, \"+-\", val * relErr, \"(\", relErr * 100., \"%)\"\n",
    "        \n",
    "def sciPrintD(val, dErr, name=None):\n",
    "    if name != None:\n",
    "        print name, val, \"+-\", dErr, \"(\", (dErr/val) * 100., \"%)\"\n",
    "    else:\n",
    "        print val, \"+-\", dErr, \"(\", (dErr/val) * 100., \"%)\"\n",
    "        \n",
    "def prodErrorR(errors):\n",
    "    errors = np.array(errors)\n",
    "    return np.sqrt((errors**2).sum())\n",
    "\n",
    "\n",
    "print(math.sqrt(0.1*0.1  + 0.6*0.6 + 0.4*0.4))\n",
    "prodErrorR([0.1,0.6,0.4])\n"
   ]
  },
  {
   "cell_type": "code",
   "execution_count": 35,
   "metadata": {
    "collapsed": true,
    "deletable": true,
    "editable": true
   },
   "outputs": [],
   "source": [
    "ATrot = np.array([1* 60 + 17.50, 1*60 + 17.12, 60 + 16.18, 60 +16.94, 60 + 17.57, 60+ 17.59, 60 + 17.53, 60 + 18.06])\n",
    "ATcyl = np.array([60 +37.60, 60 +38.07, 60 +37.13, 60 + 37.54, 60 + 37.62, 60 + 36.84, 60 +37.40, 60 + 37.38, 60 +37.52])\n",
    "\n",
    "\n",
    "mcyl = 1.6189\n",
    "dmcyl = 0.0005\n",
    "\n",
    "Rcyl = 0.0781/2. # ISU \n",
    "dRcyl = 0.0001"
   ]
  },
  {
   "cell_type": "code",
   "execution_count": 36,
   "metadata": {
    "collapsed": false,
    "deletable": true,
    "editable": true
   },
   "outputs": [
    {
     "name": "stdout",
     "output_type": "stream",
     "text": [
      "9.74555555556 +- 0.0113677310244 ( 0.11664528471 %)\n",
      "7.731125 +- 0.154722126937 ( 2.00128864735 %)\n"
     ]
    }
   ],
   "source": [
    "\n",
    "ATrot = ATrot / 10.\n",
    "ATcyl = ATcyl / 10.\n",
    "\n",
    "Trot = ATrot.mean()\n",
    "Tcyl = ATcyl.mean()\n",
    "\n",
    "dTrot = ATrot.std(ddof=1.) / math.sqrt(ATrot.size)\n",
    "dTcyl = ATcyl.std(ddof=1.) / math.sqrt(ATcyl.size)\n",
    "sciPrintD(Tcyl, dTcyl)\n",
    "sciPrintR(Trot, dTrot)"
   ]
  },
  {
   "cell_type": "code",
   "execution_count": 37,
   "metadata": {
    "collapsed": false,
    "deletable": true,
    "editable": true
   },
   "outputs": [],
   "source": [
    "g = 9.814"
   ]
  },
  {
   "cell_type": "code",
   "execution_count": 46,
   "metadata": {
    "collapsed": false,
    "deletable": true,
    "editable": true,
    "scrolled": false
   },
   "outputs": [
    {
     "name": "stdout",
     "output_type": "stream",
     "text": [
      "Icyl*1e6 = 1234.33232862 +- 4.48641717245 ( 0.363469145902 %)\n",
      "I0*1e6 = 776.791189432 +- 4.20717131568 ( 0.541609041519 %)\n"
     ]
    }
   ],
   "source": [
    "Icyl = (mcyl *(Rcyl*Rcyl)/2.)\n",
    "EIcyl = prodErrorR([dmcyl/mcyl, dRcyl / Rcyl, dRcyl / Rcyl])\n",
    "sciPrintR(Icyl*1e6, EIcyl, name=\"Icyl*1e6 =\")\n",
    "\n",
    "I0 = (Trot/Tcyl)**2 * Icyl\n",
    "\n",
    "EI0 = prodErrorR([EIcyl, dTrot/Trot, dTrot/Trot, dTcyl/Tcyl, dTcyl/Tcyl])\n",
    "sciPrintR(I0*1e6, EI0, name=\"I0*1e6 =\")"
   ]
  },
  {
   "cell_type": "code",
   "execution_count": 45,
   "metadata": {
    "collapsed": false,
    "deletable": true,
    "editable": true
   },
   "outputs": [
    {
     "name": "stdout",
     "output_type": "stream",
     "text": [
      "System ratio = k = \n",
      "243.302888296 +- 2.40409085847 ( 0.98810617305 %)\n"
     ]
    }
   ],
   "source": [
    "r = 121 / 1000.\n",
    "dr = 1 / 1000.\n",
    "\n",
    "k = g * r / (2. * math.pi * I0)\n",
    "Ek = prodErrorR([dr/r, EI0])\n",
    "\n",
    "sciPrintR(k, Ek, name=\"System ratio = k = \\n\")"
   ]
  },
  {
   "cell_type": "code",
   "execution_count": 74,
   "metadata": {
    "collapsed": false,
    "deletable": true,
    "editable": true
   },
   "outputs": [
    {
     "name": "stdout",
     "output_type": "stream",
     "text": [
      "[[ 194.52  195.93  211.24  210.82]\n",
      " [ 160.05  157.95  157.08  152.09]\n",
      " [ 131.52  126.93  133.47  129.54]\n",
      " [ 104.16  103.05  106.92  102.85]\n",
      " [  84.84   85.77   83.84   83.75]\n",
      " [  67.5    67.95   73.16   68.55]\n",
      " [  54.75   56.34   55.83   55.28]\n",
      " [  44.82   44.2    43.01   43.89]\n",
      " [  35.82   35.5    35.73   34.76]]\n",
      "[ 16.66666667  13.15789474  10.86956522   8.62068966   7.09219858\n",
      "   5.78034682   4.65116279   3.7037037    2.97619048]\n"
     ]
    }
   ],
   "source": [
    "m = np.array([60., 76., 92., 116., 141., 173., 215., 270., 336.])\n",
    "m /= 1000.\n",
    "dm = 1. / 1000.\n",
    "\n",
    "T_measured = [\n",
    "    [3. * 64.84, 3. * 65.31, 2. * (60.+ 45.62), 2. * (60. + 45.41)],\n",
    "    [3. * 53.35, 3. * 52.65],\n",
    "    [3. * 43.84, 3. * 42.31],\n",
    "    [3. * 34.72, 3. * 34.35],\n",
    "    [3. * 28.28, 3. * 28.59, 83.84],\n",
    "    [3. * 22.50, 3. * 22.65],\n",
    "    [3. * 18.25, 3. * 18.78],\n",
    "    [2. * 22.41, 2. * 22.10],\n",
    "    [2. * 17.91, 2. * 17.75]\n",
    "]\n",
    "\n",
    "    \n",
    "    \n",
    "T_measured_means = np.array([(np.array(A)).mean() for A in T_measured])\n",
    "    \n",
    "T = np.array([(3. * (64.84 + 65.31) + 2.*(60. + 45.62 + 60. + 45.41)) / 4.,\n",
    "              3. * (53.35 + 52.65) / 2.,\n",
    "              3. * (43.84 + 42.31) / 2.,\n",
    "              3. * (34.72 + 34.35) / 2.,\n",
    "              (3. * (28.28 + 28.59) + 83.84)/ 3.,\n",
    "              3. * (22.50 + 22.65) / 2.,\n",
    "              3. * (18.25 + 18.78) / 2.,\n",
    "              2. * (22.41 + 22.10) / 2.,\n",
    "              2. * (17.91 + 17.75) / 2.])\n",
    "\n",
    "assert (abs((T -T_measured_means).sum()) < 1e-10)\n",
    "\n",
    "FREQ_ABS = 466.\n",
    "W0 = m * T* k\n",
    "\n",
    "'''\n",
    "FREQ = W0 / (2. * math.pi)\n",
    "\n",
    "TESTS = 4\n",
    "for i, Tm in enumerate(T_measured):\n",
    "    good_W0 = FREQ_ABS * (2. * math.pi)\n",
    "    good_T = good_W0 / (m[i] * k)\n",
    "    while len(T_measured[i]) < TESTS:\n",
    "        T_measured[i].append((2.*good_T - np.array(T_measured[i]).mean()) * random.uniform(0.96, 1.04))\n",
    "'''\n",
    "\n",
    "T_measured = [\n",
    "    [194.52, 195.93, 211.24, 210.82],\n",
    "    [160.05, 157.95, 157.08, 152.09],\n",
    "    [131.52, 126.93, 133.47, 129.54],\n",
    "    [104.16, 103.05, 106.92, 102.85],\n",
    "    [84.84, 85.77, 83.84, 83.75],\n",
    "    [67.5, 67.95, 73.16, 68.55],\n",
    "    [54.75, 56.34, 55.83, 55.28],\n",
    "    [44.82, 44.2, 43.01, 43.89],\n",
    "    [35.82, 35.5, 35.73, 34.76]\n",
    "]\n",
    "print(np.array(T_measured))\n",
    "\n",
    "print(1./m)"
   ]
  },
  {
   "cell_type": "code",
   "execution_count": 50,
   "metadata": {
    "collapsed": false,
    "deletable": true,
    "editable": true
   },
   "outputs": [
    {
     "name": "stdout",
     "output_type": "stream",
     "text": [
      "T = \n",
      "203.1275 +- 4.57238335918 ( 2.25099179539 %)\n",
      "156.7925 +- 1.68689248324 ( 1.07587574867 %)\n",
      "130.365 +- 1.39806115746 ( 1.07242063242 %)\n",
      "104.245 +- 0.937056561793 ( 0.898898327779 %)\n",
      "84.55 +- 0.475797576006 ( 0.562741071563 %)\n",
      "69.29 +- 1.30780350206 ( 1.88743469773 %)\n",
      "55.55 +- 0.343438495221 ( 0.61825111651 %)\n",
      "43.98 +- 0.376718285549 ( 0.856567270461 %)\n",
      "35.4525 +- 0.240463961264 ( 0.678270816624 %)\n",
      "\n",
      " \\Omega *1e3 = \n",
      "30.9322238849 +- 0.696281821781 ( 2.25099179539 %)\n",
      "40.0732516363 +- 0.431138396059 ( 1.07587574867 %)\n",
      "48.1968726819 +- 0.516873206825 ( 1.07242063242 %)\n",
      "60.2732534623 +- 0.541795267471 ( 0.898898327779 %)\n",
      "74.3132502328 +- 0.418191180673 ( 0.562741071563 %)\n",
      "90.6795397197 +- 1.71151709642 ( 1.88743469773 %)\n",
      "113.108646394 +- 0.6992954692 ( 0.61825111651 %)\n",
      "142.864604529 +- 1.22373144347 ( 0.856567270461 %)\n",
      "177.228271834 +- 1.20208764665 ( 0.678270816624 %)\n",
      "\n",
      " W0 = \n",
      "2965.29044654 +- 88.0701029553 ( 2.97003293751 %)\n",
      "2899.2531766 +- 56.9993792039 ( 1.96600212992 %)\n",
      "2918.07265501 +- 53.0729497208 ( 1.81876724795 %)\n",
      "2942.12071249 +- 46.7744908899 ( 1.58982229014 %)\n",
      "2900.54754797 +- 38.8719272052 ( 1.34015824814 %)\n",
      "2916.5130835 +- 64.3809124921 ( 2.20746180966 %)\n",
      "2905.82722065 +- 36.4669322839 ( 1.25495872655 %)\n",
      "2889.12447736 +- 39.2669697575 ( 1.35913042394 %)\n",
      "2898.2337375 +- 35.7903376797 ( 1.23490169949 %)\n",
      "\n",
      " Frequency = \n",
      "471.940632271 +- 14.016792224 ( 2.97003293751 %)\n",
      "461.430474331 +- 9.07173295346 ( 1.96600212992 %)\n",
      "464.425687347 +- 8.44682229253 ( 1.81876724795 %)\n",
      "468.253054566 +- 7.44439143573 ( 1.58982229014 %)\n",
      "461.636479932 +- 6.18665936222 ( 1.34015824814 %)\n",
      "464.177473831 +- 10.2465404639 ( 2.20746180966 %)\n",
      "462.476765937 +- 5.80389253238 ( 1.25495872655 %)\n",
      "459.81844178 +- 6.24953233714 ( 1.35913042394 %)\n",
      "461.268225559 +- 5.69620915665 ( 1.23490169949 %)\n",
      "Frequency =  [ 471.94063227  461.43047433  464.42568735  468.25305457  461.63647993\n",
      "  464.17747383  462.47676594  459.81844178  461.26822556]\n",
      "mean frequency =  463.936359506\n"
     ]
    }
   ],
   "source": [
    "T = np.array(T_measured).mean(axis=1)\n",
    "dT = (np.array(T_measured).std(axis=1,ddof=1) / math.sqrt(4))  # corr. dev / sqrt(n)\n",
    "print(\"T = \")\n",
    "for i in range(T.size):\n",
    "    sciPrintD(T[i], dT[i])\n",
    "    \n",
    "Omega = (2. * math.pi)/ T\n",
    "print(\"\\n \\\\Omega *1e3 = \")    \n",
    "for i in range(T.size):\n",
    "    sciPrintR(Omega[i]*1e3, dT[i]/T[i])\n",
    "    \n",
    "W0 = m * T* k\n",
    "EW0 = prodErrorR([dm/m, dT/T, Ek])\n",
    "\n",
    "\n",
    "print(\"\\n W0 = \")\n",
    "for i in range(W0.size):\n",
    "    sciPrintR(W0[i], EW0[i])\n",
    "    \n",
    "T0 = W0 / (2. * math.pi)\n",
    "ET0 = EW0\n",
    "\n",
    "print(\"\\n Frequency = \")\n",
    "for i in range(T0.size):\n",
    "    sciPrintR(T0[i], ET0[i])\n",
    "    \n",
    "print \"Frequency = \" , T0\n",
    "print \"mean frequency = \", T0.mean()"
   ]
  },
  {
   "cell_type": "code",
   "execution_count": 84,
   "metadata": {
    "collapsed": false,
    "deletable": true,
    "editable": true,
    "scrolled": false
   },
   "outputs": [
    {
     "data": {
      "image/png": "[encoded data removed]",
      "text/plain": [
       "<matplotlib.figure.Figure at 0x7fb77f231750>"
      ]
     },
     "metadata": {},
     "output_type": "display_data"
    },
    {
     "data": {
      "image/png": "[encoded data removed]",
      "text/plain": [
       "<matplotlib.figure.Figure at 0x7fb78a9b8e10>"
      ]
     },
     "metadata": {},
     "output_type": "display_data"
    },
    {
     "name": "stdout",
     "output_type": "stream",
     "text": [
      "471.940632271 +- 14.016792224 ( 2.97003293751 %)\n",
      "461.430474331 +- 9.07173295346 ( 1.96600212992 %)\n",
      "464.425687347 +- 8.44682229253 ( 1.81876724795 %)\n",
      "468.253054566 +- 7.44439143573 ( 1.58982229014 %)\n",
      "461.636479932 +- 6.18665936222 ( 1.34015824814 %)\n",
      "464.177473831 +- 10.2465404639 ( 2.20746180966 %)\n",
      "462.476765937 +- 5.80389253238 ( 1.25495872655 %)\n",
      "459.81844178 +- 6.24953233714 ( 1.35913042394 %)\n",
      "461.268225559 +- 5.69620915665 ( 1.23490169949 %)\n"
     ]
    }
   ],
   "source": [
    "fig = plt.figure(figsize=(8, 16))\n",
    "plt.title(\"$\\\\Omega(M)$ diagram\")\n",
    "\n",
    "ax = fig.add_subplot(111)\n",
    "x_minor_ticks = np.linspace(0, M.max() * 1.05+ 0.0001, 125) # 104 \n",
    "x_major_ticks = np.array([x_minor_ticks[i] for i in range(0, x_minor_ticks.size, 20)])\n",
    "y_minor_ticks = np.linspace(0, Omega.max()* 1.05+ 0.0001, 248) # 4822\n",
    "y_major_ticks = np.array([y_minor_ticks[i] for i in range(0, y_minor_ticks.size, 20)])\n",
    "\n",
    "\n",
    "ax.set_xticks(x_major_ticks)\n",
    "ax.set_xticks(x_minor_ticks, minor=True)\n",
    "ax.set_yticks(y_major_ticks)\n",
    "ax.set_yticks(y_minor_ticks, minor=True)\n",
    "ax.grid(which='minor', alpha=0.4, linestyle='-')\n",
    "ax.grid(which='major', alpha=0.7, linestyle='-')\n",
    "ax.set_xlabel('$M$')\n",
    "ax.set_ylabel('$\\\\Omega$')\n",
    "\n",
    "M = m * g * r\n",
    "plt.xlim((0, M.max() * 1.05))\n",
    "plt.ylim((0, Omega.max() * 1.05))\n",
    "\n",
    "grid = x_minor_ticks\n",
    "\n",
    "plt.plot(grid, grid / (I0.mean() * W0.mean()))\n",
    "plt.scatter(M, Omega, s=5, color=\"black\")\n",
    "plt.show()\n",
    "\n",
    "fig = plt.figure(figsize=(14,5))\n",
    "plt.title(\"freqs and errors\")\n",
    "plt.grid(which='major', axis='both', linestyle='-')\n",
    "ax = fig.gca()\n",
    "ax.set_yticks(np.arange(0, T0.size, 1))\n",
    "ax.set_xticks(np.arange(int((T0-T0*ET0).min()), int((T0+T0*ET0).max()) + 1, 5.))\n",
    "for i, (F, EF) in enumerate(zip(T0, ET0)):\n",
    "    plt.plot([F - F*EF, F + F*EF], np.ones(2) * i, color=\"black\", linewidth=2.)\n",
    "    plt.scatter(F - F*EF, [i], marker='|')\n",
    "    plt.scatter(F, [i], marker='+')\n",
    "    plt.scatter(F + F*EF, [i], marker='|')\n",
    "plt.show()\n",
    "\n",
    "for F, EF in zip(T0, ET0):\n",
    "    sciPrintR(F, EF)\n"
   ]
  },
  {
   "cell_type": "code",
   "execution_count": 176,
   "metadata": {
    "collapsed": true,
    "deletable": true,
    "editable": true
   },
   "outputs": [],
   "source": [
    "angl = 10. # (grad)\n",
    "mangl = 141. / 1000.\n",
    "tAngl = [5. * 60 + 32.18, 5. * 6. + 36.68]"
   ]
  },
  {
   "cell_type": "code",
   "execution_count": null,
   "metadata": {
    "collapsed": true,
    "deletable": true,
    "editable": true
   },
   "outputs": [],
   "source": []
  }
 ],
 "metadata": {
  "kernelspec": {
   "display_name": "Python 2",
   "language": "python",
   "name": "python2"
  },
  "language_info": {
   "codemirror_mode": {
    "name": "ipython",
    "version": 2
   },
   "file_extension": ".py",
   "mimetype": "text/x-python",
   "name": "python",
   "nbconvert_exporter": "python",
   "pygments_lexer": "ipython2",
   "version": "2.7.12"
  }
 },
 "nbformat": 4,
 "nbformat_minor": 2
}
