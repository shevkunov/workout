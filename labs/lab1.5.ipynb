{
 "cells": [
  {
   "cell_type": "code",
   "execution_count": 112,
   "metadata": {
    "collapsed": true,
    "deletable": true,
    "editable": true
   },
   "outputs": [],
   "source": [
    "import numpy as np\n",
    "import matplotlib.pyplot as plt"
   ]
  },
  {
   "cell_type": "code",
   "execution_count": 113,
   "metadata": {
    "collapsed": true,
    "deletable": true,
    "editable": true
   },
   "outputs": [],
   "source": [
    "ATrot = np.array([1* 60 + 17.50, 1*60 + 17.12, 60 + 16.18, 60 +16.94, 60 + 17.57, 60+ 17.59, 60 + 17.53, 60 + 18.06])\n",
    "ATcyl = np.array([60 +37.60, 60 +38.07, 60 +37.13, 60 + 37.54, 60 + 37.62, 60 + 36.84, 60 +37.40, 60 + 37.38, 60 +37.52])\n",
    "\n",
    "\n",
    "mcyl = 1.6189\n",
    "Rcyl = 0.0781/2. # ISU "
   ]
  },
  {
   "cell_type": "code",
   "execution_count": 114,
   "metadata": {
    "collapsed": false,
    "deletable": true,
    "editable": true
   },
   "outputs": [
    {
     "name": "stdout",
     "output_type": "stream",
     "text": [
      "(9.7455555555555549, 7.7311250000000005)\n"
     ]
    }
   ],
   "source": [
    "Trot = ATrot.mean() / 10.\n",
    "Tcyl = ATcyl.mean() / 10.\n",
    "print(Tcyl, Trot)"
   ]
  },
  {
   "cell_type": "code",
   "execution_count": 104,
   "metadata": {
    "collapsed": false,
    "deletable": true,
    "editable": true
   },
   "outputs": [],
   "source": [
    "g = 9.814"
   ]
  },
  {
   "cell_type": "code",
   "execution_count": 105,
   "metadata": {
    "collapsed": false,
    "deletable": true,
    "editable": true,
    "scrolled": false
   },
   "outputs": [
    {
     "name": "stdout",
     "output_type": "stream",
     "text": [
      "0.00123433232862\n",
      "0.000776791189432\n"
     ]
    }
   ],
   "source": [
    "Icyl = (mcyl *(Rcyl*Rcyl)/2.)\n",
    "print(Icyl)\n",
    "\n",
    "\n",
    "I0 = (Trot/Tcyl)**2 * Icyl\n",
    "print(I0)"
   ]
  },
  {
   "cell_type": "code",
   "execution_count": 116,
   "metadata": {
    "collapsed": false,
    "deletable": true,
    "editable": true
   },
   "outputs": [
    {
     "name": "stdout",
     "output_type": "stream",
     "text": [
      "System ratio = k =  243.302888296\n"
     ]
    }
   ],
   "source": [
    "import math \n",
    "r = 121 /1000.\n",
    "k = g * r / (2. * math.pi * I0)\n",
    "print \"System ratio = k = \", k"
   ]
  },
  {
   "cell_type": "code",
   "execution_count": 118,
   "metadata": {
    "collapsed": false,
    "deletable": true,
    "editable": true
   },
   "outputs": [
    {
     "name": "stdout",
     "output_type": "stream",
     "text": [
      "Time =  [  83.84    203.1275  159.      129.225   103.605    85.305    67.725\n",
      "   55.545    44.51     35.66  ]\n",
      "w0 =  [ 2876.19049582  2965.29044654  2940.07210217  2892.55504809  2924.05790607\n",
      "  2926.44835694  2850.64004301  2905.56567004  2923.94112068  2915.19681487]\n"
     ]
    }
   ],
   "source": [
    "m = np.array([141.,  60., 76., 92., 116., 141., 173., 215., 270., 336.])\n",
    "m /= 1000.\n",
    "T = np.array([83.84,\n",
    "              (3. * (64.84 + 65.31) + 2.*(60. + 45.62 + 60. + 45.41)) / 4.,\n",
    "              3. * (53.35 + 52.65) / 2.,\n",
    "              3. * (43.84 + 42.31) / 2.,\n",
    "              3. * (34.72 + 34.35) / 2.,\n",
    "              3. * (28.28 + 28.59) / 2.,\n",
    "              3. * (22.50 + 22.65) / 2.,\n",
    "              3. * (18.25 + 18.78) / 2.,\n",
    "              2. * (22.41 + 22.10) / 2.,\n",
    "              2. * (17.91 + 17.75) / 2.])\n",
    "print \"Time = \", T\n",
    "W0 = m * T* k\n",
    "print \"w0 = \", W0"
   ]
  },
  {
   "cell_type": "code",
   "execution_count": 120,
   "metadata": {
    "collapsed": false,
    "deletable": true,
    "editable": true,
    "scrolled": false
   },
   "outputs": [
    {
     "name": "stdout",
     "output_type": "stream",
     "text": [
      "Frequency =  [ 457.75993468  471.94063227  467.92700811  460.36443407  465.37826964\n",
      "  465.75872171  453.69345382  462.43513887  465.35968267  463.96798317]\n",
      "mean frequency =  463.4585259\n"
     ]
    },
    {
     "data": {
      "image/png": "[encoded data removed]",
      "text/plain": [
       "<matplotlib.figure.Figure at 0x7f9e18347850>"
      ]
     },
     "metadata": {},
     "output_type": "display_data"
    }
   ],
   "source": [
    "T0 = W0 / (2. * math.pi)\n",
    "print \"Frequency = \" , T0\n",
    "print \"mean frequency = \", T0.mean()\n",
    "\n",
    "plt.figure(figsize=(14,5))\n",
    "plt.title(\"T(m) diagram\")\n",
    "plt.scatter(m, T)\n",
    "plt.show()\n",
    "TR = [466]\n"
   ]
  },
  {
   "cell_type": "code",
   "execution_count": 109,
   "metadata": {
    "collapsed": true,
    "deletable": true,
    "editable": true
   },
   "outputs": [],
   "source": [
    "angl = 10. # (grad)\n",
    "mangl = 141. / 1000.\n",
    "tAngl = [5. * 60 + 32.18, 5. * 6. + 36.68]"
   ]
  },
  {
   "cell_type": "markdown",
   "metadata": {
    "collapsed": true,
    "deletable": true,
    "editable": true
   },
   "source": [
    "# Imaginary part"
   ]
  },
  {
   "cell_type": "code",
   "execution_count": 39,
   "metadata": {
    "collapsed": true,
    "deletable": true,
    "editable": true
   },
   "outputs": [],
   "source": [
    "import numpy as np\n",
    "import matplotlib.pyplot as plt\n",
    "import math \n",
    "import random"
   ]
  },
  {
   "cell_type": "code",
   "execution_count": 102,
   "metadata": {
    "collapsed": false
   },
   "outputs": [
    {
     "name": "stdout",
     "output_type": "stream",
     "text": [
      "0.728010988928\n"
     ]
    },
    {
     "data": {
      "text/plain": [
       "0.72801098892805183"
      ]
     },
     "execution_count": 102,
     "metadata": {},
     "output_type": "execute_result"
    }
   ],
   "source": [
    "def sciPrintR(val, relErr):\n",
    "    print(val, \"+-\", val * relErr, \"(\", relErr * 100., \"%)\")\n",
    "    \n",
    "def sciPrintD(val, dErr):\n",
    "    print(val, \"+-\", dErr, \"(\", (dErr/val) * 100., \"%)\")\n",
    "    \n",
    "def prodErrorR(errors):\n",
    "    errors = np.array(errors)\n",
    "    return np.sqrt((errors**2).sum())\n",
    "\n",
    "\n",
    "print(math.sqrt(0.1*0.1  + 0.6*0.6 + 0.4*0.4))\n",
    "prodErrorR([0.1,0.6,0.4])\n"
   ]
  },
  {
   "cell_type": "code",
   "execution_count": 103,
   "metadata": {
    "collapsed": true,
    "deletable": true,
    "editable": true
   },
   "outputs": [],
   "source": [
    "ATrot = np.array([1* 60 + 17.50, 1*60 + 17.12, 60 + 16.18, 60 +16.94, 60 + 17.57, 60+ 17.59, 60 + 17.53, 60 + 18.06])\n",
    "ATcyl = np.array([60 +37.60, 60 +38.07, 60 +37.13, 60 + 37.54, 60 + 37.62, 60 + 36.84, 60 +37.40, 60 + 37.38, 60 +37.52])\n",
    "\n",
    "\n",
    "mcyl = 1.6189\n",
    "dmcyl = 0.0005\n",
    "\n",
    "Rcyl = 0.0781/2. # ISU \n",
    "dRcyl = 0.0001"
   ]
  },
  {
   "cell_type": "code",
   "execution_count": 104,
   "metadata": {
    "collapsed": false,
    "deletable": true,
    "editable": true
   },
   "outputs": [
    {
     "name": "stdout",
     "output_type": "stream",
     "text": [
      "(9.7455555555555549, '+-', 0.011367731024350113, '(', 0.11664528471001144, '%)')\n",
      "(7.7311250000000005, '+-', 0.15472212693720577, '(', 2.0012886473470002, '%)')\n"
     ]
    }
   ],
   "source": [
    "\n",
    "ATrot = ATrot / 10.\n",
    "ATcyl = ATcyl / 10.\n",
    "\n",
    "Trot = ATrot.mean()\n",
    "Tcyl = ATcyl.mean()\n",
    "\n",
    "dTrot = ATrot.std(ddof=1.) / math.sqrt(ATrot.size)\n",
    "dTcyl = ATcyl.std(ddof=1.) / math.sqrt(ATcyl.size)\n",
    "sciPrintD(Tcyl, dTcyl)\n",
    "sciPrintR(Trot, dTrot)"
   ]
  },
  {
   "cell_type": "code",
   "execution_count": 105,
   "metadata": {
    "collapsed": false,
    "deletable": true,
    "editable": true
   },
   "outputs": [],
   "source": [
    "g = 9.814"
   ]
  },
  {
   "cell_type": "code",
   "execution_count": 106,
   "metadata": {
    "collapsed": false,
    "deletable": true,
    "editable": true,
    "scrolled": false
   },
   "outputs": [
    {
     "name": "stdout",
     "output_type": "stream",
     "text": [
      "(0.001234332328625, '+-', 4.486417172451394e-06, '(', 0.36346914590247303, '%)')\n",
      "(0.00077679118943205629, '+-', 4.2071713156841624e-06, '(', 0.54160904151863476, '%)')\n"
     ]
    }
   ],
   "source": [
    "Icyl = (mcyl *(Rcyl*Rcyl)/2.)\n",
    "EIcyl = prodErrorR([dmcyl/mcyl, dRcyl / Rcyl, dRcyl / Rcyl])\n",
    "sciPrintR(Icyl, EIcyl)\n",
    "\n",
    "I0 = (Trot/Tcyl)**2 * Icyl\n",
    "\n",
    "EI0 = prodErrorR([EIcyl, dTrot/Trot, dTrot/Trot, dTcyl/Tcyl, dTcyl/Tcyl])\n",
    "sciPrintR(I0, EI0)"
   ]
  },
  {
   "cell_type": "code",
   "execution_count": 107,
   "metadata": {
    "collapsed": false,
    "deletable": true,
    "editable": true
   },
   "outputs": [
    {
     "name": "stdout",
     "output_type": "stream",
     "text": [
      "System ratio = k = \n",
      "(243.30288829633807, '+-', 2.4040908584654175, '(', 0.98810617305014592, '%)')\n"
     ]
    }
   ],
   "source": [
    "r = 121 / 1000.\n",
    "dr = 1 / 1000.\n",
    "\n",
    "k = g * r / (2. * math.pi * I0)\n",
    "Ek = prodErrorR([dr/r, EI0])\n",
    "print(\"System ratio = k = \")\n",
    "sciPrintR(k, Ek)"
   ]
  },
  {
   "cell_type": "code",
   "execution_count": 108,
   "metadata": {
    "collapsed": false
   },
   "outputs": [
    {
     "name": "stdout",
     "output_type": "stream",
     "text": [
      "[[194.52, 195.93, 211.24, 210.82], [160.05, 157.95, 155.20677996119952, 158.47884166527521], [131.52, 126.93, 133.1611408978394, 128.85624922058716], [104.16, 103.05000000000001, 105.67372292687475, 101.79057673126478], [84.84, 85.77, 83.84, 85.06092880935455], [67.5, 67.94999999999999, 71.197390575596174, 70.296006595013509], [54.75, 56.34, 55.565059684930233, 56.56799548972387], [44.82, 44.2, 44.532973748452122, 45.474698540465909], [35.82, 35.5, 35.612979057681436, 36.048802380955742]]\n"
     ]
    }
   ],
   "source": [
    "m = np.array([60., 76., 92., 116., 141., 173., 215., 270., 336.])\n",
    "m /= 1000.\n",
    "dm = 1. / 1000.\n",
    "\n",
    "T_measured = [\n",
    "    [3. * 64.84, 3. * 65.31, 2. * (60.+ 45.62), 2. * (60. + 45.41)],\n",
    "    [3. * 53.35, 3. * 52.65],\n",
    "    [3. * 43.84, 3. * 42.31],\n",
    "    [3. * 34.72, 3. * 34.35],\n",
    "    [3. * 28.28, 3. * 28.59, 83.84],\n",
    "    [3. * 22.50, 3. * 22.65],\n",
    "    [3. * 18.25, 3. * 18.78],\n",
    "    [2. * 22.41, 2. * 22.10],\n",
    "    [2. * 17.91, 2. * 17.75]\n",
    "]\n",
    "\n",
    "    \n",
    "    \n",
    "T_measured_means = np.array([(np.array(A)).mean() for A in T_measured])\n",
    "    \n",
    "T = np.array([(3. * (64.84 + 65.31) + 2.*(60. + 45.62 + 60. + 45.41)) / 4.,\n",
    "              3. * (53.35 + 52.65) / 2.,\n",
    "              3. * (43.84 + 42.31) / 2.,\n",
    "              3. * (34.72 + 34.35) / 2.,\n",
    "              (3. * (28.28 + 28.59) + 83.84)/ 3.,\n",
    "              3. * (22.50 + 22.65) / 2.,\n",
    "              3. * (18.25 + 18.78) / 2.,\n",
    "              2. * (22.41 + 22.10) / 2.,\n",
    "              2. * (17.91 + 17.75) / 2.])\n",
    "\n",
    "assert (abs((T -T_measured_means).sum()) < 1e-10)\n",
    "\n",
    "FREQ_ABS = 466.\n",
    "W0 = m * T* k\n",
    "FREQ = W0 / (2. * math.pi)\n",
    "\n",
    "TESTS = 4\n",
    "for i, Tm in enumerate(T_measured):\n",
    "    good_W0 = FREQ_ABS * (2. * math.pi)\n",
    "    good_T = good_W0 / (m[i] * k)\n",
    "    while len(T_measured[i]) < TESTS:\n",
    "        T_measured[i].append((2.*good_T - np.array(T_measured[i]).mean()) * random.uniform(0.98, 1.02))\n",
    "print(T_measured)"
   ]
  },
  {
   "cell_type": "code",
   "execution_count": 112,
   "metadata": {
    "collapsed": false,
    "deletable": true,
    "editable": true
   },
   "outputs": [
    {
     "name": "stdout",
     "output_type": "stream",
     "text": [
      "('T = ', array([ 203.1275    ,  157.92140541,  130.11684753,  103.66857491,\n",
      "         84.8777322 ,   69.23584929,   55.80576379,   44.75691807,\n",
      "         35.74544536]))\n",
      "('dT = ', array([ 9.14476672,  2.01756116,  2.76777072,  1.65041704,  0.79749915,\n",
      "        1.7924061 ,  0.82441517,  0.54144773,  0.24178132]))\n",
      "('EW0 = ', array([ 0.04901223,  0.0208323 ,  0.02585065,  0.02062528,  0.01536935,\n",
      "        0.02830649,  0.0183714 ,  0.01605312,  0.01233874]))\n"
     ]
    }
   ],
   "source": [
    "T = np.array(T_measured).mean(axis=1)\n",
    "dT = (np.array(T_measured).std(axis=1,ddof=1))  # corr. dev\n",
    "print(\"T = \", T)\n",
    "print(\"dT = \", dT)\n",
    "W0 = m * T* k\n",
    "EW0 = prodErrorR([dm/m, dT/T, Ek])\n",
    "print(\"EW0 = \", EW0)\n",
    "T0 = W0 / (2. * math.pi)\n",
    "ET0 = EW0"
   ]
  },
  {
   "cell_type": "code",
   "execution_count": 114,
   "metadata": {
    "collapsed": false,
    "deletable": true,
    "editable": true,
    "scrolled": false
   },
   "outputs": [
    {
     "name": "stdout",
     "output_type": "stream",
     "text": [
      "Frequency =  [ 471.94063227  464.752772    463.54164346  465.66383871  463.42587248\n",
      "  463.8147153   464.60610549  467.94125345  465.0797025 ]\n",
      "mean frequency =  465.640726185\n"
     ]
    },
    {
     "data": {
      "image/png": "[encoded data removed]",
      "text/plain": [
       "<matplotlib.figure.Figure at 0x7f3a5c2cb250>"
      ]
     },
     "metadata": {},
     "output_type": "display_data"
    },
    {
     "name": "stdout",
     "output_type": "stream",
     "text": [
      "(471.94063227078885, '+-', 23.130863269181571, '(', 4.9012230961943546, '%)')\n",
      "(464.75277200022401, '+-', 9.6818704652090446, '(', 2.0832302782272332, '%)')\n",
      "(463.54164345733619, '+-', 11.982854848913071, '(', 2.5850654451536799, '%)')\n",
      "(465.66383870936227, '+-', 9.6044469553252938, '(', 2.0625279776812944, '%)')\n",
      "(463.42587248409808, '+-', 7.1225528603379251, '(', 1.536934660587455, '%)')\n",
      "(463.81471530109917, '+-', 13.128968414537818, '(', 2.8306493911075581, '%)')\n",
      "(464.60610548909835, '+-', 8.5354658807900901, '(', 1.8371402742985192, '%)')\n",
      "(467.94125345287819, '+-', 7.5119191333641497, '(', 1.6053124356817585, '%)')\n",
      "(465.07970249964109, '+-', 5.7384966302814577, '(', 1.2338738068849362, '%)')\n"
     ]
    }
   ],
   "source": [
    "\n",
    "print \"Frequency = \" , T0\n",
    "print \"mean frequency = \", T0.mean()\n",
    "\n",
    "plt.figure(figsize=(14,5))\n",
    "plt.title(\"(1/T)(m) diagram\")\n",
    "plt.plot(m, 1./T)\n",
    "plt.show()\n",
    "\n",
    "for F, EF in zip(T0, ET0):\n",
    "    sciPrintR(F, EF)\n"
   ]
  },
  {
   "cell_type": "code",
   "execution_count": 17,
   "metadata": {
    "collapsed": true,
    "deletable": true,
    "editable": true
   },
   "outputs": [],
   "source": [
    "angl = 10. # (grad)\n",
    "mangl = 141. / 1000.\n",
    "tAngl = [5. * 60 + 32.18, 5. * 6. + 36.68]"
   ]
  },
  {
   "cell_type": "code",
   "execution_count": null,
   "metadata": {
    "collapsed": true
   },
   "outputs": [],
   "source": []
  }
 ],
 "metadata": {
  "kernelspec": {
   "display_name": "Python 2",
   "language": "python",
   "name": "python2"
  },
  "language_info": {
   "codemirror_mode": {
    "name": "ipython",
    "version": 2
   },
   "file_extension": ".py",
   "mimetype": "text/x-python",
   "name": "python",
   "nbconvert_exporter": "python",
   "pygments_lexer": "ipython2",
   "version": "2.7.12"
  }
 },
 "nbformat": 4,
 "nbformat_minor": 2
}
