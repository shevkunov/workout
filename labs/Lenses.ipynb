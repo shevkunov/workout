{
 "cells": [
  {
   "cell_type": "code",
   "execution_count": 14,
   "metadata": {},
   "outputs": [],
   "source": [
    "import numpy as np\n",
    "import matplotlib.pyplot as plt\n",
    "import pandas as pd\n",
    "import labwork"
   ]
  },
  {
   "cell_type": "code",
   "execution_count": 58,
   "metadata": {},
   "outputs": [
    {
     "name": "stdout",
     "output_type": "stream",
     "text": [
      "Help on module labwork:\n",
      "\n",
      "NAME\n",
      "    labwork\n",
      "\n",
      "FUNCTIONS\n",
      "    bordering(V)\n",
      "    \n",
      "    eval_mnk(x, y)\n",
      "    \n",
      "    linPlot(x, y, xlabel='', ylabel='', title='', figsize=(14, 7), fontsize=15, labplot=False, plot_to_zero=False)\n",
      "        Строит график измерений x,y и линейное приближение\n",
      "        зависимости по МНК (y = bx + a).\n",
      "        Возвращает: a, b, sigma_a, sigma_b\n",
      "    \n",
      "    plotIntervals(x, x_std, y, y_std, xlabel='Значения', ylabel='Номер измерения', title='', fontsize=15)\n",
      "        Строит сравнительный график значений x[i] c y[i],\n",
      "        где x_std[i] и y_std[i] - их стандартные отклонения\n",
      "    \n",
      "    plt_lab_figure(X_max, Y_max, X_min=0, Y_min=0, k_off_x=1.05, k_off_y=1.05)\n",
      "    \n",
      "    prodErrorR(errors)\n",
      "    \n",
      "    prodErrorR_degs(errors)\n",
      "    \n",
      "    sciPrintD(val, dErr, name=None)\n",
      "    \n",
      "    sciPrintR(val, relErr, name=None)\n",
      "    \n",
      "    sciRoundD(V, V_D, unit='')\n",
      "        По числу V и его абсолютной погрешности V_R\n",
      "        возвращает строку, в которой число округлено по\n",
      "        правилам лобораторных работ\n",
      "    \n",
      "    sciRoundR(V, V_R, unit='')\n",
      "        По числу V и его относительной погрешности V_R\n",
      "        возвращает строку, в которой число округлено по\n",
      "        правилам лобораторных работ\n",
      "    \n",
      "    sqrt(...)\n",
      "        sqrt(x)\n",
      "        \n",
      "        Return the square root of x.\n",
      "\n",
      "FILE\n",
      "    /home/shevkunov/code/workout/labs/labwork.py\n",
      "\n",
      "\n"
     ]
    }
   ],
   "source": [
    "help(labwork)"
   ]
  },
  {
   "cell_type": "code",
   "execution_count": 61,
   "metadata": {},
   "outputs": [],
   "source": [
    "def sumErrorR(vals, r_errs):\n",
    "    vals = np.array(vals)\n",
    "    errs = np.array(r_errs)\n",
    "    a_errs = vals * r_errs\n",
    "    return sumErrorD(a_errs) / (vals.sum())\n",
    "\n",
    "def sumErrorD(abs_errs):\n",
    "    return ((abs_errs ** 2).sum()) ** 0.5"
   ]
  },
  {
   "cell_type": "code",
   "execution_count": 62,
   "metadata": {},
   "outputs": [
    {
     "data": {
      "text/plain": [
       "1.0"
      ]
     },
     "execution_count": 62,
     "metadata": {},
     "output_type": "execute_result"
    }
   ],
   "source": [
    "sumErrorR([2, 3], [4./2, 3./3])"
   ]
  },
  {
   "cell_type": "markdown",
   "metadata": {},
   "source": [
    "### I. Опыт со зрительными трубами"
   ]
  },
  {
   "cell_type": "code",
   "execution_count": 92,
   "metadata": {},
   "outputs": [
    {
     "data": {
      "text/plain": [
       "6.0"
      ]
     },
     "execution_count": 92,
     "metadata": {},
     "output_type": "execute_result"
    }
   ],
   "source": [
    "19 - 5.5 - 7.5 "
   ]
  },
  {
   "cell_type": "code",
   "execution_count": 98,
   "metadata": {},
   "outputs": [
    {
     "name": "stdout",
     "output_type": "stream",
     "text": [
      "0.17320508075688773\n",
      "f1 =  10050 ± 170 [1e-3] (1.7000000000000002%)\n",
      "f2 =  14700 ± 170 [1e-3] (1.2000000000000002%)\n",
      "f3 =  40100 ± 170 [1e-3] (0.4%)\n"
     ]
    }
   ],
   "source": [
    "L_s = (3) ** 0.5 * 0.1\n",
    "print(L_s)\n",
    "l1 = 9.3 + 0.75  # they are seems to be the focuses\n",
    "l2 = 14 + 0.7\n",
    "l3 = 40.1\n",
    "# Santimeters\n",
    "print(\"f1 = \", labwork.sciRoundD(l1, L_s))\n",
    "print(\"f2 = \", labwork.sciRoundD(l2, L_s))\n",
    "print(\"f3 = \", labwork.sciRoundD(l3, L_s))"
   ]
  },
  {
   "cell_type": "code",
   "execution_count": 119,
   "metadata": {},
   "outputs": [
    {
     "name": "stdout",
     "output_type": "stream",
     "text": [
      "f4 =  40100 ± 200 [1e-3] (0.5%)\n"
     ]
    }
   ],
   "source": [
    "l4 = 29 - 16.5\n",
    "\n",
    "print(\"f4 = \", labwork.sciRoundD(l3, (4) ** 0.5 * 0.1))"
   ]
  },
  {
   "cell_type": "markdown",
   "metadata": {},
   "source": [
    "### II. Измерение через L, d"
   ]
  },
  {
   "cell_type": "code",
   "execution_count": 64,
   "metadata": {},
   "outputs": [
    {
     "data": {
      "text/plain": [
       "(61.8, 5.100000000000001, 36.5)"
      ]
     },
     "execution_count": 64,
     "metadata": {},
     "output_type": "execute_result"
    }
   ],
   "source": [
    "L = 61.8\n",
    "s_L = 0.5\n",
    "\n",
    "d1 = 33.7 - 28.6\n",
    "d2 = 50.0 - 13.5\n",
    "L, d1, d2"
   ]
  },
  {
   "cell_type": "code",
   "execution_count": 84,
   "metadata": {},
   "outputs": [],
   "source": [
    "def eval_f(L, d, s_L, s_d):\n",
    "    a = (L  - d) / 2.\n",
    "    s_a = sumErrorR([L, d], [s_L, s_d])\n",
    "    b = L - a\n",
    "    assert b == (L + d) / 2.  # s_b == s_a\n",
    "    # print(a, b)\n",
    "    s_f_inv = sumErrorR([1./a, 1./b], [s_a, s_a])\n",
    "    f = 1./ (1./a + 1./b)\n",
    "    return f, s_f_inv"
   ]
  },
  {
   "cell_type": "code",
   "execution_count": 89,
   "metadata": {},
   "outputs": [
    {
     "name": "stdout",
     "output_type": "stream",
     "text": [
      "F = 15340 ± 80 [1e-3 x см] (0.5%)\n",
      "F = 10060 ± 50 [1e-3 x см] (0.5%)\n"
     ]
    }
   ],
   "source": [
    "print(\"F = \" + labwork.sciRoundR(*eval_f(L, d1, 0.5 / L, 0.5 / L), \"см\"))\n",
    "print(\"F = \" + labwork.sciRoundR(*eval_f(L, d2, 0.5 / L, 0.5 / L), \"см\"))"
   ]
  },
  {
   "cell_type": "markdown",
   "metadata": {},
   "source": [
    "### III. Измерение через a_i, b_i"
   ]
  },
  {
   "cell_type": "code",
   "execution_count": 116,
   "metadata": {},
   "outputs": [],
   "source": [
    "F = 10.  # Probably\n",
    "\n",
    "shift = -0.2  # ДАННЫЕ ПОДОГНАНЫ, ЛИНЗА БЫЛА НЕ ПО ЦЕНТРУ !!!!!!!!!!!!!!!!\n",
    "\n",
    "a = np.array([\n",
    "    14.8,\n",
    "    20.3,\n",
    "    25.5,\n",
    "    30.7,\n",
    "    35.5,\n",
    "    40.5,\n",
    "    44.5,\n",
    "]) + shift\n",
    "\n",
    "b = np.array([\n",
    "    33.3,\n",
    "    20.3,\n",
    "    16.8,\n",
    "    15.1,\n",
    "    13.8,\n",
    "    13.2,\n",
    "    12.7,\n",
    "]) -shift"
   ]
  },
  {
   "cell_type": "code",
   "execution_count": 117,
   "metadata": {},
   "outputs": [
    {
     "data": {
      "image/png": "[encoded data removed]",
      "text/plain": [
       "<matplotlib.figure.Figure at 0x7f7bd3e517b8>"
      ]
     },
     "metadata": {},
     "output_type": "display_data"
    }
   ],
   "source": [
    "k1, k2, s_k1, s_k2 = labwork.eval_mnk(1/a, 1/b)\n",
    "grid = np.linspace((1/a).min(),  (1/a).max(), 1000)\n",
    "plt.figure(figsize=(12, 6))\n",
    "plt.scatter(1./a, 1./b, label=\"Измерения\", color=\"red\")\n",
    "plt.plot(grid, grid * k2 + k1, label=\"Оценка МНК\")\n",
    "plt.grid()\n",
    "plt.legend()\n",
    "plt.show()\n"
   ]
  },
  {
   "cell_type": "code",
   "execution_count": 118,
   "metadata": {},
   "outputs": [
    {
     "name": "stdout",
     "output_type": "stream",
     "text": [
      "9.981380397715794 +- 0.020418856635671202 ( 0.20456946656740976 %)\n"
     ]
    }
   ],
   "source": [
    "F_star = 1./k1\n",
    "labwork.sciPrintR(F_star, s_k1 / k1)"
   ]
  },
  {
   "cell_type": "markdown",
   "metadata": {},
   "source": [
    "### IV. Кеплер"
   ]
  },
  {
   "cell_type": "code",
   "execution_count": 32,
   "metadata": {},
   "outputs": [],
   "source": [
    "f = 25.0\n",
    "f1 = 10.\n",
    "f2 = 150\n",
    "f1_plus_f2 = 254\n",
    "x1 = 4.5\n",
    "x2 = 7"
   ]
  },
  {
   "cell_type": "code",
   "execution_count": 35,
   "metadata": {},
   "outputs": [
    {
     "data": {
      "text/plain": [
       "(0.6428571428571429, 0.06666666666666667)"
      ]
     },
     "execution_count": 35,
     "metadata": {},
     "output_type": "execute_result"
    }
   ],
   "source": [
    "Г_real = x1 / x2\n",
    "Г_obtained = f1 / f2\n",
    "Г_real, Г_obtained"
   ]
  },
  {
   "cell_type": "code",
   "execution_count": null,
   "metadata": {},
   "outputs": [],
   "source": [
    "Г_real, Г_obtained"
   ]
  },
  {
   "cell_type": "code",
   "execution_count": 37,
   "metadata": {},
   "outputs": [],
   "source": [
    "f = 150\n",
    "f1 = 250\n",
    "f2 = -130\n",
    "x1 = 3\n",
    "x2 = 1.5\n",
    "L = 11.8"
   ]
  },
  {
   "cell_type": "code",
   "execution_count": 38,
   "metadata": {},
   "outputs": [
    {
     "data": {
      "text/plain": [
       "(2.0, -1.9230769230769231)"
      ]
     },
     "execution_count": 38,
     "metadata": {},
     "output_type": "execute_result"
    }
   ],
   "source": [
    "Г_real = x1 / x2\n",
    "Г_obtained = f1 / f2\n",
    "Г_real, Г_obtained"
   ]
  },
  {
   "cell_type": "code",
   "execution_count": null,
   "metadata": {},
   "outputs": [],
   "source": []
  }
 ],
 "metadata": {
  "kernelspec": {
   "display_name": "Python 3",
   "language": "python",
   "name": "python3"
  },
  "language_info": {
   "codemirror_mode": {
    "name": "ipython",
    "version": 3
   },
   "file_extension": ".py",
   "mimetype": "text/x-python",
   "name": "python",
   "nbconvert_exporter": "python",
   "pygments_lexer": "ipython3",
   "version": "3.6.4"
  }
 },
 "nbformat": 4,
 "nbformat_minor": 2
}
