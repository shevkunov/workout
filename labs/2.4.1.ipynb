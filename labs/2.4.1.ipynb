{
 "cells": [
  {
   "cell_type": "code",
   "execution_count": 33,
   "metadata": {
    "collapsed": true
   },
   "outputs": [],
   "source": [
    "import numpy as np\n",
    "import pandas as pd\n",
    "import matplotlib.pyplot as plt \n",
    "from math import sqrt"
   ]
  },
  {
   "cell_type": "code",
   "execution_count": 83,
   "metadata": {
    "collapsed": true
   },
   "outputs": [],
   "source": [
    "\n",
    "def eval_mnk(x, y):\n",
    "    assert len(x) == len(y)\n",
    "    n = len(x)\n",
    "    b = ((x*y).mean() - (x).mean() * (y).mean()) / ((x**2).mean() - (x).mean()**2)\n",
    "    a = (y).mean() - b * (x).mean()\n",
    "    sigma_b = 1./sqrt(n) * sqrt(((y**2).mean() - (y).mean()**2)/((x**2).mean() - (x).mean()**2) - b**2)\n",
    "    sigma_a = sigma_b*sqrt((x**2).mean() - (x).mean()**2)\n",
    "    return a, b, sigma_a, sigma_b\n"
   ]
  },
  {
   "cell_type": "code",
   "execution_count": 134,
   "metadata": {
    "collapsed": false
   },
   "outputs": [],
   "source": [
    "D = np.array([\n",
    "    [25.2, 4.24, 10.12],  # T (C), P1, P2 (мм)\n",
    "    [26.2, 4.12, 10.21],\n",
    "    [27.1, 4.01, 10.35],\n",
    "    [28.0, 3.86, 10.55],\n",
    "    [29.0, 3.65, 10.76],\n",
    "    [30.0, 3.47, 10.95],\n",
    "    [31.0, 3.20, 11.19],\n",
    "    [32.0, 3.01, 11.38],\n",
    "    [33.0, 2.77, 11.62],\n",
    "    [33.9 ,2.55, 11.89]\n",
    "])\n",
    "\n",
    "condens = np.array([3.21 - 3.04] * 7 + [3.19 - 3.0, 2.95 - 2.79, 2.74 - 2.55])\n",
    "data_frame = pd.DataFrame()"
   ]
  },
  {
   "cell_type": "code",
   "execution_count": 135,
   "metadata": {
    "collapsed": false
   },
   "outputs": [
    {
     "data": {
      "text/html": [
       "<div>\n",
       "<style>\n",
       "    .dataframe thead tr:only-child th {\n",
       "        text-align: right;\n",
       "    }\n",
       "\n",
       "    .dataframe thead th {\n",
       "        text-align: left;\n",
       "    }\n",
       "\n",
       "    .dataframe tbody tr th {\n",
       "        vertical-align: top;\n",
       "    }\n",
       "</style>\n",
       "<table border=\"1\" class=\"dataframe\">\n",
       "  <thead>\n",
       "    <tr style=\"text-align: right;\">\n",
       "      <th></th>\n",
       "      <th>T_C</th>\n",
       "      <th>T_K</th>\n",
       "      <th>P1_mm</th>\n",
       "      <th>P2_mm</th>\n",
       "      <th>sum_P_mm</th>\n",
       "      <th>delta_P_mm</th>\n",
       "      <th>delta_P_pa</th>\n",
       "      <th>ln_delta_P_pa</th>\n",
       "      <th>condens, mm</th>\n",
       "    </tr>\n",
       "  </thead>\n",
       "  <tbody>\n",
       "    <tr>\n",
       "      <th>0</th>\n",
       "      <td>25.2</td>\n",
       "      <td>298.35</td>\n",
       "      <td>4.249906</td>\n",
       "      <td>10.12</td>\n",
       "      <td>14.369906</td>\n",
       "      <td>5.870094</td>\n",
       "      <td>782.483586</td>\n",
       "      <td>6.662473</td>\n",
       "      <td>0.17</td>\n",
       "    </tr>\n",
       "    <tr>\n",
       "      <th>1</th>\n",
       "      <td>26.2</td>\n",
       "      <td>299.35</td>\n",
       "      <td>4.129906</td>\n",
       "      <td>10.21</td>\n",
       "      <td>14.339906</td>\n",
       "      <td>6.080094</td>\n",
       "      <td>810.476586</td>\n",
       "      <td>6.697622</td>\n",
       "      <td>0.17</td>\n",
       "    </tr>\n",
       "    <tr>\n",
       "      <th>2</th>\n",
       "      <td>27.1</td>\n",
       "      <td>300.25</td>\n",
       "      <td>4.019906</td>\n",
       "      <td>10.35</td>\n",
       "      <td>14.369906</td>\n",
       "      <td>6.330094</td>\n",
       "      <td>843.801586</td>\n",
       "      <td>6.737917</td>\n",
       "      <td>0.17</td>\n",
       "    </tr>\n",
       "    <tr>\n",
       "      <th>3</th>\n",
       "      <td>28.0</td>\n",
       "      <td>301.15</td>\n",
       "      <td>3.869906</td>\n",
       "      <td>10.55</td>\n",
       "      <td>14.419906</td>\n",
       "      <td>6.680094</td>\n",
       "      <td>890.456586</td>\n",
       "      <td>6.791734</td>\n",
       "      <td>0.17</td>\n",
       "    </tr>\n",
       "    <tr>\n",
       "      <th>4</th>\n",
       "      <td>29.0</td>\n",
       "      <td>302.15</td>\n",
       "      <td>3.659906</td>\n",
       "      <td>10.76</td>\n",
       "      <td>14.419906</td>\n",
       "      <td>7.100094</td>\n",
       "      <td>946.442586</td>\n",
       "      <td>6.852710</td>\n",
       "      <td>0.17</td>\n",
       "    </tr>\n",
       "    <tr>\n",
       "      <th>5</th>\n",
       "      <td>30.0</td>\n",
       "      <td>303.15</td>\n",
       "      <td>3.479906</td>\n",
       "      <td>10.95</td>\n",
       "      <td>14.429906</td>\n",
       "      <td>7.470094</td>\n",
       "      <td>995.763586</td>\n",
       "      <td>6.903510</td>\n",
       "      <td>0.17</td>\n",
       "    </tr>\n",
       "    <tr>\n",
       "      <th>6</th>\n",
       "      <td>31.0</td>\n",
       "      <td>304.15</td>\n",
       "      <td>3.209906</td>\n",
       "      <td>11.19</td>\n",
       "      <td>14.399906</td>\n",
       "      <td>7.980094</td>\n",
       "      <td>1063.746586</td>\n",
       "      <td>6.969552</td>\n",
       "      <td>0.17</td>\n",
       "    </tr>\n",
       "    <tr>\n",
       "      <th>7</th>\n",
       "      <td>32.0</td>\n",
       "      <td>305.15</td>\n",
       "      <td>3.021071</td>\n",
       "      <td>11.38</td>\n",
       "      <td>14.401071</td>\n",
       "      <td>8.358929</td>\n",
       "      <td>1114.245243</td>\n",
       "      <td>7.015933</td>\n",
       "      <td>0.19</td>\n",
       "    </tr>\n",
       "    <tr>\n",
       "      <th>8</th>\n",
       "      <td>33.0</td>\n",
       "      <td>306.15</td>\n",
       "      <td>2.779323</td>\n",
       "      <td>11.62</td>\n",
       "      <td>14.399323</td>\n",
       "      <td>8.840677</td>\n",
       "      <td>1178.462257</td>\n",
       "      <td>7.071966</td>\n",
       "      <td>0.16</td>\n",
       "    </tr>\n",
       "    <tr>\n",
       "      <th>9</th>\n",
       "      <td>33.9</td>\n",
       "      <td>307.05</td>\n",
       "      <td>2.561071</td>\n",
       "      <td>11.89</td>\n",
       "      <td>14.451071</td>\n",
       "      <td>9.328929</td>\n",
       "      <td>1243.546243</td>\n",
       "      <td>7.125722</td>\n",
       "      <td>0.19</td>\n",
       "    </tr>\n",
       "  </tbody>\n",
       "</table>\n",
       "</div>"
      ],
      "text/plain": [
       "    T_C     T_K     P1_mm  P2_mm   sum_P_mm  delta_P_mm   delta_P_pa  \\\n",
       "0  25.2  298.35  4.249906  10.12  14.369906    5.870094   782.483586   \n",
       "1  26.2  299.35  4.129906  10.21  14.339906    6.080094   810.476586   \n",
       "2  27.1  300.25  4.019906  10.35  14.369906    6.330094   843.801586   \n",
       "3  28.0  301.15  3.869906  10.55  14.419906    6.680094   890.456586   \n",
       "4  29.0  302.15  3.659906  10.76  14.419906    7.100094   946.442586   \n",
       "5  30.0  303.15  3.479906  10.95  14.429906    7.470094   995.763586   \n",
       "6  31.0  304.15  3.209906  11.19  14.399906    7.980094  1063.746586   \n",
       "7  32.0  305.15  3.021071  11.38  14.401071    8.358929  1114.245243   \n",
       "8  33.0  306.15  2.779323  11.62  14.399323    8.840677  1178.462257   \n",
       "9  33.9  307.05  2.561071  11.89  14.451071    9.328929  1243.546243   \n",
       "\n",
       "   ln_delta_P_pa  condens, mm  \n",
       "0       6.662473         0.17  \n",
       "1       6.697622         0.17  \n",
       "2       6.737917         0.17  \n",
       "3       6.791734         0.17  \n",
       "4       6.852710         0.17  \n",
       "5       6.903510         0.17  \n",
       "6       6.969552         0.17  \n",
       "7       7.015933         0.19  \n",
       "8       7.071966         0.16  \n",
       "9       7.125722         0.19  "
      ]
     },
     "execution_count": 135,
     "metadata": {},
     "output_type": "execute_result"
    }
   ],
   "source": [
    "data_frame[\"T_C\"] = D[:, 0]\n",
    "data_frame[\"T_K\"] = D[:, 0] + 273.15\n",
    "data_frame[\"P1_mm\"] = D[:, 1] + condens *  0.7893 / 13.546 \n",
    "data_frame[\"P2_mm\"] = D[:, 2] \n",
    "\n",
    "data_frame[\"sum_P_mm\"] = data_frame[\"P2_mm\"].values + data_frame[\"P1_mm\"].values\n",
    "data_frame[\"delta_P_mm\"] = data_frame[\"P2_mm\"].values - data_frame[\"P1_mm\"].values\n",
    "data_frame[\"delta_P_pa\"] = data_frame[\"delta_P_mm\"].values * 133.3  \n",
    "data_frame[\"ln_delta_P_pa\"] = np.log(data_frame[\"delta_P_pa\"].values)  \n",
    "data_frame[\"condens, mm\"] = condens\n",
    "data_frame"
   ]
  },
  {
   "cell_type": "code",
   "execution_count": 136,
   "metadata": {
    "collapsed": false
   },
   "outputs": [
    {
     "data": {
      "image/png": "[encoded data removed]",
      "text/plain": [
       "<matplotlib.figure.Figure at 0x7fcd37b8ac88>"
      ]
     },
     "metadata": {},
     "output_type": "display_data"
    }
   ],
   "source": [
    "\n",
    "a, b, sigma_a, sigma_b = eval_mnk(data_frame[\"ln_delta_P_pa\"].values, 1./ data_frame[\"T_K\"].values)\n",
    "\n",
    "plt.figure(figsize=(14, 5))\n",
    "plt.plot(data_frame[\"ln_delta_P_pa\"].values, 1./ data_frame[\"T_K\"].values, label=\"<1./T_k> (ln_delta_P_pa)\")\n",
    "grid = np.array([(data_frame[\"ln_delta_P_pa\"].values).min(), (data_frame[\"ln_delta_P_pa\"].values).max()]) \n",
    "plt.plot(grid, grid * b + a, label=\"MSE line\")\n",
    "plt.legend()\n",
    "plt.show()\n"
   ]
  },
  {
   "cell_type": "code",
   "execution_count": 137,
   "metadata": {
    "collapsed": false
   },
   "outputs": [
    {
     "data": {
      "text/plain": [
       "(-5020.9518040832536, 213.91153350171479)"
      ]
     },
     "execution_count": 137,
     "metadata": {},
     "output_type": "execute_result"
    }
   ],
   "source": [
    "1./b, 1./a"
   ]
  },
  {
   "cell_type": "code",
   "execution_count": 138,
   "metadata": {
    "collapsed": false
   },
   "outputs": [
    {
     "name": "stdout",
     "output_type": "stream",
     "text": [
      "L =  41724.1094919\n",
      "Расхождение =  0.0140805885649\n"
     ]
    }
   ],
   "source": [
    "L = - 8.31 * 1./b\n",
    "print(\"L = \", L)\n",
    "\n",
    "print(\"Расхождение = \", abs(42320 - L) / 42320)"
   ]
  },
  {
   "cell_type": "code",
   "execution_count": null,
   "metadata": {
    "collapsed": true
   },
   "outputs": [],
   "source": []
  },
  {
   "cell_type": "code",
   "execution_count": null,
   "metadata": {
    "collapsed": true
   },
   "outputs": [],
   "source": []
  },
  {
   "cell_type": "code",
   "execution_count": null,
   "metadata": {
    "collapsed": true
   },
   "outputs": [],
   "source": []
  }
 ],
 "metadata": {
  "kernelspec": {
   "display_name": "Python 3",
   "language": "python",
   "name": "python3"
  },
  "language_info": {
   "codemirror_mode": {
    "name": "ipython",
    "version": 3
   },
   "file_extension": ".py",
   "mimetype": "text/x-python",
   "name": "python",
   "nbconvert_exporter": "python",
   "pygments_lexer": "ipython3",
   "version": "3.5.2"
  }
 },
 "nbformat": 4,
 "nbformat_minor": 2
}
