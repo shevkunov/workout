{
 "cells": [
  {
   "cell_type": "markdown",
   "metadata": {
    "collapsed": true,
    "deletable": true,
    "editable": true
   },
   "source": [
    "# Imaginary part"
   ]
  },
  {
   "cell_type": "code",
   "execution_count": 1,
   "metadata": {
    "collapsed": true,
    "deletable": true,
    "editable": true
   },
   "outputs": [],
   "source": [
    "import numpy as np\n",
    "import matplotlib.pyplot as plt\n",
    "import math \n",
    "import random"
   ]
  },
  {
   "cell_type": "code",
   "execution_count": 2,
   "metadata": {
    "collapsed": false,
    "deletable": true,
    "editable": true
   },
   "outputs": [
    {
     "name": "stdout",
     "output_type": "stream",
     "text": [
      "0.728010988928\n"
     ]
    },
    {
     "data": {
      "text/plain": [
       "0.72801098892805183"
      ]
     },
     "execution_count": 2,
     "metadata": {},
     "output_type": "execute_result"
    }
   ],
   "source": [
    "def sciPrintR(val, relErr, name=None):\n",
    "    if name != None:\n",
    "        print name, val, \"+-\", val * relErr, \"(\", relErr * 100., \"%)\"\n",
    "    else:\n",
    "        print val, \"+-\", val * relErr, \"(\", relErr * 100., \"%)\"\n",
    "        \n",
    "def sciPrintD(val, dErr, name=None):\n",
    "    if name != None:\n",
    "        print name, val, \"+-\", dErr, \"(\", (dErr/val) * 100., \"%)\"\n",
    "    else:\n",
    "        print val, \"+-\", dErr, \"(\", (dErr/val) * 100., \"%)\"\n",
    "        \n",
    "def prodErrorR(errors):\n",
    "    errors = np.array(errors)\n",
    "    return np.sqrt((errors**2).sum())\n",
    "\n",
    "\n",
    "print(math.sqrt(0.1*0.1  + 0.6*0.6 + 0.4*0.4))\n",
    "prodErrorR([0.1,0.6,0.4])\n"
   ]
  },
  {
   "cell_type": "code",
   "execution_count": 3,
   "metadata": {
    "collapsed": true,
    "deletable": true,
    "editable": true
   },
   "outputs": [],
   "source": [
    "ATrot = np.array([1* 60 + 17.50, 1*60 + 17.12, 60 + 16.18, 60 +16.94, 60 + 17.57, 60+ 17.59, 60 + 17.53, 60 + 18.06])\n",
    "ATcyl = np.array([60 +37.60, 60 +38.07, 60 +37.13, 60 + 37.54, 60 + 37.62, 60 + 36.84, 60 +37.40, 60 + 37.38, 60 +37.52])\n",
    "\n",
    "\n",
    "mcyl = 1.6189\n",
    "dmcyl = 0.0005\n",
    "\n",
    "Rcyl = 0.0781/2. # ISU \n",
    "dRcyl = 0.0001"
   ]
  },
  {
   "cell_type": "code",
   "execution_count": 4,
   "metadata": {
    "collapsed": false,
    "deletable": true,
    "editable": true
   },
   "outputs": [
    {
     "name": "stdout",
     "output_type": "stream",
     "text": [
      "9.74555555556 +- 0.0113677310244 ( 0.11664528471 %)\n",
      "7.731125 +- 0.154722126937 ( 2.00128864735 %)\n"
     ]
    }
   ],
   "source": [
    "\n",
    "ATrot = ATrot / 10.\n",
    "ATcyl = ATcyl / 10.\n",
    "\n",
    "Trot = ATrot.mean()\n",
    "Tcyl = ATcyl.mean()\n",
    "\n",
    "dTrot = ATrot.std(ddof=1.) / math.sqrt(ATrot.size)\n",
    "dTcyl = ATcyl.std(ddof=1.) / math.sqrt(ATcyl.size)\n",
    "sciPrintD(Tcyl, dTcyl)\n",
    "sciPrintR(Trot, dTrot)"
   ]
  },
  {
   "cell_type": "code",
   "execution_count": 5,
   "metadata": {
    "collapsed": false,
    "deletable": true,
    "editable": true
   },
   "outputs": [],
   "source": [
    "g = 9.814"
   ]
  },
  {
   "cell_type": "code",
   "execution_count": 6,
   "metadata": {
    "collapsed": false,
    "deletable": true,
    "editable": true,
    "scrolled": false
   },
   "outputs": [
    {
     "name": "stdout",
     "output_type": "stream",
     "text": [
      "Icyl*1e6 = 1234.33232862 +- 4.48641717245 ( 0.363469145902 %)\n",
      "I0*1e6 = 776.791189432 +- 4.20717131568 ( 0.541609041519 %)\n"
     ]
    }
   ],
   "source": [
    "Icyl = (mcyl *(Rcyl*Rcyl)/2.)\n",
    "EIcyl = prodErrorR([dmcyl/mcyl, dRcyl / Rcyl, dRcyl / Rcyl])\n",
    "sciPrintR(Icyl*1e6, EIcyl, name=\"Icyl*1e6 =\")\n",
    "\n",
    "I0 = (Trot/Tcyl)**2 * Icyl\n",
    "\n",
    "EI0 = prodErrorR([EIcyl, dTrot/Trot, dTrot/Trot, dTcyl/Tcyl, dTcyl/Tcyl])\n",
    "sciPrintR(I0*1e6, EI0, name=\"I0*1e6 =\")"
   ]
  },
  {
   "cell_type": "code",
   "execution_count": 7,
   "metadata": {
    "collapsed": false,
    "deletable": true,
    "editable": true
   },
   "outputs": [
    {
     "name": "stdout",
     "output_type": "stream",
     "text": [
      "System ratio = k = \n",
      "243.302888296 +- 2.40409085847 ( 0.98810617305 %)\n"
     ]
    }
   ],
   "source": [
    "r = 121 / 1000.\n",
    "dr = 1 / 1000.\n",
    "\n",
    "k = g * r / (2. * math.pi * I0)\n",
    "Ek = prodErrorR([dr/r, EI0])\n",
    "\n",
    "sciPrintR(k, Ek, name=\"System ratio = k = \\n\")"
   ]
  },
  {
   "cell_type": "code",
   "execution_count": 9,
   "metadata": {
    "collapsed": false,
    "deletable": true,
    "editable": true
   },
   "outputs": [
    {
     "name": "stdout",
     "output_type": "stream",
     "text": [
      "[[ 194.52  195.93  211.24  210.82]\n",
      " [ 160.05  157.95  157.08  152.09]\n",
      " [ 131.52  126.93  133.47  129.54]\n",
      " [ 104.16  103.05  106.92  102.85]\n",
      " [  84.84   85.77   83.84   83.75]\n",
      " [  67.5    67.95   73.16   68.55]\n",
      " [  54.75   56.34   55.83   55.28]\n",
      " [  44.82   44.2    43.01   43.89]\n",
      " [  35.82   35.5    35.73   34.76]]\n",
      "[ 16.66666667  13.15789474  10.86956522   8.62068966   7.09219858\n",
      "   5.78034682   4.65116279   3.7037037    2.97619048]\n"
     ]
    }
   ],
   "source": [
    "m = np.array([60., 76., 92., 116., 141., 173., 215., 270., 336.])\n",
    "m /= 1000.\n",
    "dm = 1. / 1000.\n",
    "\n",
    "T_measured = [\n",
    "    [194.52, 195.93, 211.24, 210.82],\n",
    "    [160.05, 157.95, 157.08, 152.09],\n",
    "    [131.52, 126.93, 133.47, 129.54],\n",
    "    [104.16, 103.05, 106.92, 102.85],\n",
    "    [84.84, 85.77, 83.84, 83.75],\n",
    "    [67.5, 67.95, 73.16, 68.55],\n",
    "    [54.75, 56.34, 55.83, 55.28],\n",
    "    [44.82, 44.2, 43.01, 43.89],\n",
    "    [35.82, 35.5, 35.73, 34.76]\n",
    "]\n",
    "    \n",
    "    \n",
    "T_measured_means = np.array([(np.array(A)).mean() for A in T_measured])\n",
    "\n",
    "FREQ_ABS = 466.\n",
    "\n",
    "print(np.array(T_measured))\n",
    "\n",
    "print(1./m)"
   ]
  },
  {
   "cell_type": "code",
   "execution_count": 10,
   "metadata": {
    "collapsed": false,
    "deletable": true,
    "editable": true
   },
   "outputs": [
    {
     "name": "stdout",
     "output_type": "stream",
     "text": [
      "T = \n",
      "203.1275 +- 4.57238335918 ( 2.25099179539 %)\n",
      "156.7925 +- 1.68689248324 ( 1.07587574867 %)\n",
      "130.365 +- 1.39806115746 ( 1.07242063242 %)\n",
      "104.245 +- 0.937056561793 ( 0.898898327779 %)\n",
      "84.55 +- 0.475797576006 ( 0.562741071563 %)\n",
      "69.29 +- 1.30780350206 ( 1.88743469773 %)\n",
      "55.55 +- 0.343438495221 ( 0.61825111651 %)\n",
      "43.98 +- 0.376718285549 ( 0.856567270461 %)\n",
      "35.4525 +- 0.240463961264 ( 0.678270816624 %)\n",
      "\n",
      " \\Omega *1e3 = \n",
      "30.9322238849 +- 0.696281821781 ( 2.25099179539 %)\n",
      "40.0732516363 +- 0.431138396059 ( 1.07587574867 %)\n",
      "48.1968726819 +- 0.516873206825 ( 1.07242063242 %)\n",
      "60.2732534623 +- 0.541795267471 ( 0.898898327779 %)\n",
      "74.3132502328 +- 0.418191180673 ( 0.562741071563 %)\n",
      "90.6795397197 +- 1.71151709642 ( 1.88743469773 %)\n",
      "113.108646394 +- 0.6992954692 ( 0.61825111651 %)\n",
      "142.864604529 +- 1.22373144347 ( 0.856567270461 %)\n",
      "177.228271834 +- 1.20208764665 ( 0.678270816624 %)\n",
      "\n",
      " W0 = \n",
      "2965.29044654 +- 88.0701029553 ( 2.97003293751 %)\n",
      "2899.2531766 +- 56.9993792039 ( 1.96600212992 %)\n",
      "2918.07265501 +- 53.0729497208 ( 1.81876724795 %)\n",
      "2942.12071249 +- 46.7744908899 ( 1.58982229014 %)\n",
      "2900.54754797 +- 38.8719272052 ( 1.34015824814 %)\n",
      "2916.5130835 +- 64.3809124921 ( 2.20746180966 %)\n",
      "2905.82722065 +- 36.4669322839 ( 1.25495872655 %)\n",
      "2889.12447736 +- 39.2669697575 ( 1.35913042394 %)\n",
      "2898.2337375 +- 35.7903376797 ( 1.23490169949 %)\n",
      "\n",
      " Frequency = \n",
      "471.940632271 +- 14.016792224 ( 2.97003293751 %)\n",
      "461.430474331 +- 9.07173295346 ( 1.96600212992 %)\n",
      "464.425687347 +- 8.44682229253 ( 1.81876724795 %)\n",
      "468.253054566 +- 7.44439143573 ( 1.58982229014 %)\n",
      "461.636479932 +- 6.18665936222 ( 1.34015824814 %)\n",
      "464.177473831 +- 10.2465404639 ( 2.20746180966 %)\n",
      "462.476765937 +- 5.80389253238 ( 1.25495872655 %)\n",
      "459.81844178 +- 6.24953233714 ( 1.35913042394 %)\n",
      "461.268225559 +- 5.69620915665 ( 1.23490169949 %)\n",
      "Frequency =  [ 471.94063227  461.43047433  464.42568735  468.25305457  461.63647993\n",
      "  464.17747383  462.47676594  459.81844178  461.26822556]\n",
      "mean frequency =  463.936359506\n"
     ]
    }
   ],
   "source": [
    "T = np.array(T_measured).mean(axis=1)\n",
    "dT = (np.array(T_measured).std(axis=1,ddof=1) / math.sqrt(4))  # corr. dev / sqrt(n)\n",
    "print(\"T = \")\n",
    "for i in range(T.size):\n",
    "    sciPrintD(T[i], dT[i])\n",
    "    \n",
    "Omega = (2. * math.pi)/ T\n",
    "print(\"\\n \\\\Omega *1e3 = \")    \n",
    "for i in range(T.size):\n",
    "    sciPrintR(Omega[i]*1e3, dT[i]/T[i])\n",
    "    \n",
    "W0 = m * T* k\n",
    "EW0 = prodErrorR([dm/m, dT/T, Ek])\n",
    "\n",
    "\n",
    "print(\"\\n W0 = \")\n",
    "for i in range(W0.size):\n",
    "    sciPrintR(W0[i], EW0[i])\n",
    "    \n",
    "T0 = W0 / (2. * math.pi)\n",
    "ET0 = EW0\n",
    "\n",
    "print(\"\\n Frequency = \")\n",
    "for i in range(T0.size):\n",
    "    sciPrintR(T0[i], ET0[i])\n",
    "    \n",
    "print \"Frequency = \" , T0\n",
    "print \"mean frequency = \", T0.mean()"
   ]
  },
  {
   "cell_type": "code",
   "execution_count": 13,
   "metadata": {
    "collapsed": false,
    "deletable": true,
    "editable": true,
    "scrolled": false
   },
   "outputs": [
    {
     "data": {
      "image/png": "[encoded data removed]",
      "text/plain": [
       "<matplotlib.figure.Figure at 0x7f2b698d2650>"
      ]
     },
     "metadata": {},
     "output_type": "display_data"
    },
    {
     "data": {
      "image/png": "[encoded data removed]",
      "text/plain": [
       "<matplotlib.figure.Figure at 0x7f2b698d2bd0>"
      ]
     },
     "metadata": {},
     "output_type": "display_data"
    },
    {
     "name": "stdout",
     "output_type": "stream",
     "text": [
      "471.940632271 +- 14.016792224 ( 2.97003293751 %)\n",
      "461.430474331 +- 9.07173295346 ( 1.96600212992 %)\n",
      "464.425687347 +- 8.44682229253 ( 1.81876724795 %)\n",
      "468.253054566 +- 7.44439143573 ( 1.58982229014 %)\n",
      "461.636479932 +- 6.18665936222 ( 1.34015824814 %)\n",
      "464.177473831 +- 10.2465404639 ( 2.20746180966 %)\n",
      "462.476765937 +- 5.80389253238 ( 1.25495872655 %)\n",
      "459.81844178 +- 6.24953233714 ( 1.35913042394 %)\n",
      "461.268225559 +- 5.69620915665 ( 1.23490169949 %)\n"
     ]
    }
   ],
   "source": [
    "fig = plt.figure(figsize=(8, 16))\n",
    "plt.title(\"$\\\\Omega(M)$ diagram\")\n",
    "M = m * g * r\n",
    "ax = fig.add_subplot(111)\n",
    "x_minor_ticks = np.linspace(0, M.max() * 1.05+ 0.0001, 125) # 104 \n",
    "x_major_ticks = np.array([x_minor_ticks[i] for i in range(0, x_minor_ticks.size, 20)])\n",
    "y_minor_ticks = np.linspace(0, Omega.max()* 1.05+ 0.0001, 248) # 4822\n",
    "y_major_ticks = np.array([y_minor_ticks[i] for i in range(0, y_minor_ticks.size, 20)])\n",
    "\n",
    "\n",
    "ax.set_xticks(x_major_ticks)\n",
    "ax.set_xticks(x_minor_ticks, minor=True)\n",
    "ax.set_yticks(y_major_ticks)\n",
    "ax.set_yticks(y_minor_ticks, minor=True)\n",
    "ax.grid(which='minor', alpha=0.4, linestyle='-')\n",
    "ax.grid(which='major', alpha=0.7, linestyle='-')\n",
    "ax.set_xlabel('$M$')\n",
    "ax.set_ylabel('$\\\\Omega$')\n",
    "\n",
    "\n",
    "plt.xlim((0, M.max() * 1.05))\n",
    "plt.ylim((0, Omega.max() * 1.05))\n",
    "\n",
    "grid = x_minor_ticks\n",
    "\n",
    "plt.plot(grid, grid / (I0.mean() * W0.mean()))\n",
    "plt.scatter(M, Omega, s=5, color=\"black\")\n",
    "plt.show()\n",
    "\n",
    "fig = plt.figure(figsize=(14,5))\n",
    "plt.title(\"freqs and errors\")\n",
    "plt.grid(which='major', axis='both', linestyle='-')\n",
    "ax = fig.gca()\n",
    "ax.set_yticks(np.arange(0, T0.size, 1))\n",
    "ax.set_xticks(np.arange(int((T0-T0*ET0).min()), int((T0+T0*ET0).max()) + 1, 5.))\n",
    "for i, (F, EF) in enumerate(zip(T0, ET0)):\n",
    "    plt.plot([F - F*EF, F + F*EF], np.ones(2) * i, color=\"black\", linewidth=2.)\n",
    "    plt.scatter(F - F*EF, [i], marker='|')\n",
    "    plt.scatter(F, [i], marker='+')\n",
    "    plt.scatter(F + F*EF, [i], marker='|')\n",
    "plt.show()\n",
    "\n",
    "for F, EF in zip(T0, ET0):\n",
    "    sciPrintR(F, EF)\n"
   ]
  },
  {
   "cell_type": "code",
   "execution_count": 14,
   "metadata": {
    "collapsed": false,
    "deletable": true,
    "editable": true
   },
   "outputs": [
    {
     "name": "stdout",
     "output_type": "stream",
     "text": [
      "0.442518197367 0.465019122657 0.42812736168\n",
      "pk =  0.442518197367 +- 0.0122972536589 ( 2.77892609435 %)\n",
      "wplot = 2909.13968212 +- 82.363959057 ( 2.83121362523 %)\n",
      "freqplot = 463.003960553 +- 13.1086312165 ( 2.83121362523 %)\n"
     ]
    }
   ],
   "source": [
    "x_cost = 0.4055/ 120\n",
    "y_cost = 0.1809 / 240\n",
    "pk = (246.* y_cost) / (124. * x_cost)\n",
    "pk1 = (246.* y_cost) / ((124.-6.) * x_cost)\n",
    "pk2 = ((246. - 8.)* y_cost) / (124. * x_cost)\n",
    "print pk, pk1, pk2\n",
    "dpk = (pk1 - pk2) / math.sqrt(9)\n",
    "sciPrintD(pk, dpk, name=\"pk = \")\n",
    "Epk = dpk/pk\n",
    "wplot = 1/(pk * I0)\n",
    "Ewplot = prodErrorR([Epk, EI0])\n",
    "sciPrintR(wplot, Ewplot, name=\"wplot =\")\n",
    "sciPrintR(wplot / (2. * math.pi), Ewplot, name=\"freqplot =\")"
   ]
  },
  {
   "cell_type": "code",
   "execution_count": 15,
   "metadata": {
    "collapsed": false,
    "deletable": true,
    "editable": true
   },
   "outputs": [
    {
     "name": "stdout",
     "output_type": "stream",
     "text": [
      "(334.43000000000001, 12039.48, 12039.48)\n"
     ]
    }
   ],
   "source": [
    "angl = 10. # (grad)\n",
    "mangl = 141. / 1000.\n",
    "tAngl = np.array([5. * 60 + 32.18, 5. * 60. + 36.68])\n",
    "ta = tAngl.mean() * (360. / angl)\n",
    "print(tAngl.mean(), tAngl.mean() * 360. / angl, ta)"
   ]
  },
  {
   "cell_type": "code",
   "execution_count": 16,
   "metadata": {
    "collapsed": false,
    "deletable": true,
    "editable": true
   },
   "outputs": [
    {
     "name": "stdout",
     "output_type": "stream",
     "text": [
      "\\OmegaTr * 1e9 =  521881.784527 +- 43.3475353194 ( 0.00830600657171 %)\n",
      "Mtr*1e6 =  1179.34536395 +- 32.7731419169 ( 2.77892659087 %)\n"
     ]
    }
   ],
   "source": [
    "sciPrintR((2. * math.pi) / ta * 1e9, 1/ta, name=\"\\OmegaTr * 1e9 = \")\n",
    "Mtr = (2. * math.pi) / (pk*ta)\n",
    "EMtr = prodErrorR([Epk, 0.2 / ta])\n",
    "sciPrintR(Mtr*1e6, EMtr, name=\"Mtr*1e6 = \")"
   ]
  },
  {
   "cell_type": "code",
   "execution_count": 17,
   "metadata": {
    "collapsed": false,
    "deletable": true,
    "editable": true
   },
   "outputs": [
    {
     "data": {
      "text/plain": [
       "array([ 0.07124964,  0.09024954,  0.10924945,  0.1377493 ,  0.16743665,\n",
       "        0.20543646,  0.25531121,  0.32062338,  0.39899798])"
      ]
     },
     "execution_count": 17,
     "metadata": {},
     "output_type": "execute_result"
    }
   ],
   "source": [
    "m*g*r"
   ]
  },
  {
   "cell_type": "code",
   "execution_count": null,
   "metadata": {
    "collapsed": true,
    "deletable": true,
    "editable": true
   },
   "outputs": [],
   "source": []
  }
 ],
 "metadata": {
  "kernelspec": {
   "display_name": "Python 2",
   "language": "python",
   "name": "python2"
  },
  "language_info": {
   "codemirror_mode": {
    "name": "ipython",
    "version": 2
   },
   "file_extension": ".py",
   "mimetype": "text/x-python",
   "name": "python",
   "nbconvert_exporter": "python",
   "pygments_lexer": "ipython2",
   "version": "2.7.12"
  }
 },
 "nbformat": 4,
 "nbformat_minor": 2
}
