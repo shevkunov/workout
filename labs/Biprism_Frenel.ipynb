{
 "cells": [
  {
   "cell_type": "code",
   "execution_count": 9,
   "metadata": {
    "collapsed": false,
    "deletable": true,
    "editable": true
   },
   "outputs": [],
   "source": [
    "import labwork\n",
    "from labwork import *\n",
    "import numpy as np\n",
    "import matplotlib.pyplot as plt"
   ]
  },
  {
   "cell_type": "code",
   "execution_count": 5,
   "metadata": {
    "collapsed": false,
    "deletable": true,
    "editable": true
   },
   "outputs": [
    {
     "name": "stdout",
     "output_type": "stream",
     "text": [
      "Help on module labwork:\n",
      "\n",
      "NAME\n",
      "    labwork\n",
      "\n",
      "FUNCTIONS\n",
      "    bordering(V)\n",
      "    \n",
      "    eval_mnk(x, y)\n",
      "    \n",
      "    linPlot(x, y, xlabel='', ylabel='', title='', figsize=(14, 7), fontsize=15, labplot=False, plot_to_zero=False)\n",
      "        Строит график измерений x,y и линейное приближение\n",
      "        зависимости по МНК (y = bx + a).\n",
      "        Возвращает: a, b, sigma_a, sigma_b\n",
      "    \n",
      "    plotIntervals(x, x_std, y, y_std, xlabel='Значения', ylabel='Номер измерения', title='', fontsize=15)\n",
      "        Строит сравнительный график значений x[i] c y[i],\n",
      "        где x_std[i] и y_std[i] - их стандартные отклонения\n",
      "    \n",
      "    plt_lab_figure(X_max, Y_max, X_min=0, Y_min=0, k_off_x=1.05, k_off_y=1.05)\n",
      "    \n",
      "    prodErrorR(errors)\n",
      "    \n",
      "    prodErrorR_degs(errors)\n",
      "    \n",
      "    sciPrintD(val, dErr, name=None)\n",
      "    \n",
      "    sciPrintR(val, relErr, name=None)\n",
      "    \n",
      "    sciRoundR(V, V_R, unit='')\n",
      "        По числу V и его относительной погрешности V_R\n",
      "        возвращает строку, в которой число округлено по\n",
      "        правилам лобораторных работ\n",
      "    \n",
      "    sqrt(...)\n",
      "        sqrt(x)\n",
      "        \n",
      "        Return the square root of x.\n",
      "\n",
      "FILE\n",
      "    /home/shevkunov/code/workout/labs/labwork.py\n",
      "\n",
      "\n"
     ]
    }
   ],
   "source": [
    "help(labwork)"
   ]
  },
  {
   "cell_type": "code",
   "execution_count": 7,
   "metadata": {
    "collapsed": true,
    "deletable": true,
    "editable": true
   },
   "outputs": [],
   "source": [
    "L = np.array([273, 259.6, 229.6, 169.6])\n",
    "x1_x2 = np.array([0.95, 0.9, 0.8, 0.6])\n"
   ]
  },
  {
   "cell_type": "code",
   "execution_count": 26,
   "metadata": {
    "collapsed": false,
    "deletable": true,
    "editable": true
   },
   "outputs": [],
   "source": [
    "alpha_i = x1_x2 / L"
   ]
  },
  {
   "cell_type": "code",
   "execution_count": 72,
   "metadata": {
    "collapsed": false,
    "deletable": true,
    "editable": true
   },
   "outputs": [
    {
     "name": "stdout",
     "output_type": "stream",
     "text": [
      "alpha_0 = 0.00347985347985 +- 0.000366302584129 ( 10.5263795229 %)\n",
      "alpha_1 = 0.00346687211094 +- 0.000385210327266 ( 11.1111778843 %)\n",
      "alpha_2 = 0.00348432055749 +- 0.000435542713513 ( 12.5000758778 %)\n",
      "alpha_3 = 0.00353773584906 +- 0.000589626331231 ( 16.6667709628 %)\n"
     ]
    }
   ],
   "source": [
    "errs = [prodErrorR([(0.1 / L)[i], (0.1 / x1_x2)[i]]) for i in range(len(L))]\n",
    "for i in range(4):\n",
    "    sciPrintR(alpha_i[i], errs[i], \"alpha_%d =\" % (i))"
   ]
  },
  {
   "cell_type": "code",
   "execution_count": 73,
   "metadata": {
    "collapsed": false,
    "deletable": true,
    "editable": true
   },
   "outputs": [
    {
     "data": {
      "text/plain": [
       "array([ 0.00898003,  0.00901366,  0.00896852,  0.00883311])"
      ]
     },
     "execution_count": 73,
     "metadata": {},
     "output_type": "execute_result"
    }
   ],
   "source": [
    "(x1_x2 / L).std(ddof=1) / (x1_x2 / L)"
   ]
  },
  {
   "cell_type": "code",
   "execution_count": 74,
   "metadata": {
    "collapsed": false,
    "deletable": true,
    "editable": true
   },
   "outputs": [],
   "source": [
    "alpha = (x1_x2 / L).mean()"
   ]
  },
  {
   "cell_type": "code",
   "execution_count": 75,
   "metadata": {
    "collapsed": false,
    "deletable": true,
    "editable": true
   },
   "outputs": [
    {
     "name": "stdout",
     "output_type": "stream",
     "text": [
      "alpha =  0.00349219549934 +- 0.000291018112724 ( 8.3333854814 %)\n",
      "alpha =  0.00349219549934 +- 3.12492005578e-05 ( 0.894829644094 %)\n"
     ]
    }
   ],
   "source": [
    "sciPrintR(alpha, np.array(errs).max() / (4) ** 0.5, \"alpha = \")  # разные способы оценить погрешность\n",
    "sciPrintR(alpha, (x1_x2 / L).std(ddof=1) / alpha, \"alpha = \")"
   ]
  },
  {
   "cell_type": "markdown",
   "metadata": {
    "deletable": true,
    "editable": true
   },
   "source": [
    "_________________"
   ]
  },
  {
   "cell_type": "code",
   "execution_count": 54,
   "metadata": {
    "collapsed": false,
    "deletable": true,
    "editable": true
   },
   "outputs": [
    {
     "data": {
      "text/plain": [
       "array([ 3.65445378,  3.66483242,  3.68105066])"
      ]
     },
     "execution_count": 54,
     "metadata": {},
     "output_type": "execute_result"
    }
   ],
   "source": [
    "f = np.array([241.6, 203.5, 163.5])\n",
    "F = 3.6\n",
    "d = 1. / (1. / F - 1. / f)\n",
    "d"
   ]
  },
  {
   "cell_type": "code",
   "execution_count": 117,
   "metadata": {
    "collapsed": false,
    "deletable": true,
    "editable": true
   },
   "outputs": [
    {
     "data": {
      "text/plain": [
       "array([ 1.        ,  0.8       ,  0.66666667])"
      ]
     },
     "execution_count": 117,
     "metadata": {},
     "output_type": "execute_result"
    }
   ],
   "source": [
    "k = np.array([5, 6, 6]) \n",
    "w = np.array([5, 4.8, 4])  # ширина полосы на экран, см\n",
    "Л2 = w / k\n",
    "Л2_err = 0.1 / 5 / ((5) ** 0.5)\n",
    "Л2"
   ]
  },
  {
   "cell_type": "code",
   "execution_count": 118,
   "metadata": {
    "collapsed": false,
    "deletable": true,
    "editable": true
   },
   "outputs": [
    {
     "data": {
      "text/plain": [
       "array([ 66.11111111,  55.52777778,  44.41666667])"
      ]
     },
     "execution_count": 118,
     "metadata": {},
     "output_type": "execute_result"
    }
   ],
   "source": [
    "Г = (f) / d\n",
    "Г_err = prodErrorR([1 / f.min(), 0.1 / F])\n",
    "Г"
   ]
  },
  {
   "cell_type": "code",
   "execution_count": 119,
   "metadata": {
    "collapsed": false,
    "deletable": true,
    "editable": true
   },
   "outputs": [
    {
     "data": {
      "text/plain": [
       "array([ 0.01512605,  0.0144072 ,  0.01500938])"
      ]
     },
     "execution_count": 119,
     "metadata": {},
     "output_type": "execute_result"
    }
   ],
   "source": [
    "Л1 = Л2 / Г\n",
    "Л1_err = prodErrorR([Г_err, Л2_err])\n",
    "Л1"
   ]
  },
  {
   "cell_type": "code",
   "execution_count": 120,
   "metadata": {
    "collapsed": true,
    "deletable": true,
    "editable": true
   },
   "outputs": [],
   "source": [
    "lambd = 660 * 1e-9 * 100"
   ]
  },
  {
   "cell_type": "code",
   "execution_count": 121,
   "metadata": {
    "collapsed": false,
    "deletable": true,
    "editable": true
   },
   "outputs": [
    {
     "name": "stdout",
     "output_type": "stream",
     "text": [
      "0.00436333333333 +- 0.000130098542906 ( 2.98163199938 %)\n",
      "0.00458104166667 +- 0.000136589804238 ( 2.98163199938 %)\n",
      "0.00439725 +- 0.000131109813093 ( 2.98163199938 %)\n"
     ]
    }
   ],
   "source": [
    "alpha_second = lambd / Л1\n",
    "for i in range(3):\n",
    "    sciPrintR(alpha_second[i], Л1_err)"
   ]
  },
  {
   "cell_type": "code",
   "execution_count": 128,
   "metadata": {
    "collapsed": false,
    "deletable": true,
    "editable": true
   },
   "outputs": [
    {
     "name": "stdout",
     "output_type": "stream",
     "text": [
      "0.00444720833333 +- 0.000132599386746 ( 2.98163199938 %)\n"
     ]
    }
   ],
   "source": [
    "sciPrintR(alpha_second.mean(), Л1_err)"
   ]
  },
  {
   "cell_type": "markdown",
   "metadata": {
    "deletable": true,
    "editable": true
   },
   "source": [
    "_______"
   ]
  },
  {
   "cell_type": "code",
   "execution_count": 125,
   "metadata": {
    "collapsed": false,
    "deletable": true,
    "editable": true
   },
   "outputs": [
    {
     "data": {
      "text/plain": [
       "0.03654598825831703"
      ]
     },
     "execution_count": 125,
     "metadata": {},
     "output_type": "execute_result"
    }
   ],
   "source": [
    "Г_вода = 208 / (1. / (1./F - 1./208))\n",
    "Л2_вода = 8.3 / 4\n",
    "Л1_вода = Л2_вода / Г_вода\n",
    "Л1_вода"
   ]
  },
  {
   "cell_type": "code",
   "execution_count": 144,
   "metadata": {
    "collapsed": false,
    "deletable": true,
    "editable": true
   },
   "outputs": [
    {
     "name": "stdout",
     "output_type": "stream",
     "text": [
      "0.0018059437751004016 +- 5.38465974892e-05 ( 2.98163199938 %)\n"
     ]
    }
   ],
   "source": [
    "alpha_aqua = lambd / Л1_вода\n",
    "sciPrintR(alpha_aqua, Л1_err)"
   ]
  },
  {
   "cell_type": "code",
   "execution_count": 133,
   "metadata": {
    "collapsed": false,
    "deletable": true,
    "editable": true
   },
   "outputs": [
    {
     "data": {
      "text/plain": [
       "1.9337232684008514"
      ]
     },
     "execution_count": 133,
     "metadata": {},
     "output_type": "execute_result"
    }
   ],
   "source": [
    "alpha / alpha_aqua"
   ]
  },
  {
   "cell_type": "code",
   "execution_count": 141,
   "metadata": {
    "collapsed": false,
    "deletable": true,
    "editable": true
   },
   "outputs": [
    {
     "data": {
      "text/plain": [
       "1.561191241854115"
      ]
     },
     "execution_count": 141,
     "metadata": {},
     "output_type": "execute_result"
    }
   ],
   "source": [
    "c = alpha_aqua /alpha_second.mean() \n",
    "x = (c - 1.3333) / (c - 1)\n",
    "x"
   ]
  },
  {
   "cell_type": "code",
   "execution_count": 143,
   "metadata": {
    "collapsed": false,
    "deletable": true,
    "editable": true
   },
   "outputs": [
    {
     "data": {
      "text/plain": [
       "0.029816319993794353"
      ]
     },
     "execution_count": 143,
     "metadata": {},
     "output_type": "execute_result"
    }
   ],
   "source": [
    "Л1_err, "
   ]
  },
  {
   "cell_type": "code",
   "execution_count": 138,
   "metadata": {
    "collapsed": false,
    "deletable": true,
    "editable": true
   },
   "outputs": [
    {
     "data": {
      "text/plain": [
       "0.14520000000000002"
      ]
     },
     "execution_count": 138,
     "metadata": {},
     "output_type": "execute_result"
    }
   ],
   "source": [
    "(1.33 - 1) * (1.44 - 1)"
   ]
  },
  {
   "cell_type": "code",
   "execution_count": 145,
   "metadata": {
    "collapsed": false,
    "deletable": true,
    "editable": true
   },
   "outputs": [
    {
     "data": {
      "text/plain": [
       "7.985282374584745"
      ]
     },
     "execution_count": 145,
     "metadata": {},
     "output_type": "execute_result"
    }
   ],
   "source": [
    "1.81 / (1.56 - 1.333333)"
   ]
  },
  {
   "cell_type": "code",
   "execution_count": null,
   "metadata": {
    "collapsed": true
   },
   "outputs": [],
   "source": []
  }
 ],
 "metadata": {
  "kernelspec": {
   "display_name": "Python 3",
   "language": "python",
   "name": "python3"
  },
  "language_info": {
   "codemirror_mode": {
    "name": "ipython",
    "version": 3
   },
   "file_extension": ".py",
   "mimetype": "text/x-python",
   "name": "python",
   "nbconvert_exporter": "python",
   "pygments_lexer": "ipython3",
   "version": "3.5.2"
  }
 },
 "nbformat": 4,
 "nbformat_minor": 2
}
