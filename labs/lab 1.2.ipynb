{
 "cells": [
  {
   "cell_type": "code",
   "execution_count": 91,
   "metadata": {
    "collapsed": false,
    "scrolled": true
   },
   "outputs": [],
   "source": [
    "import numpy as np\n",
    "import pandas as pd\n",
    "import matplotlib.pyplot as plt\n",
    "import math\n",
    "from matplotlib import style\n",
    "style.use(\"ggplot\")"
   ]
  },
  {
   "cell_type": "code",
   "execution_count": 77,
   "metadata": {
    "collapsed": false
   },
   "outputs": [
    {
     "name": "stdout",
     "output_type": "stream",
     "text": [
      "[-0.0002291685764049206, -0.00014563813777368386, 0.00668791472908721, 0.003836877877658424, 0.003187481889307431, -0.0011373159343947296, -0.0003736222678871802, -0.0031713814537613033, -0.0034608729090559683]\n"
     ]
    }
   ],
   "source": [
    "k = 4.041816237\n",
    "\n",
    "allTimes = [\n",
    "    [21.852, 21.813, 21.802, 21.805, 21.813, 21.818],\n",
    "    [20.658, 20.659, 20.635, 20.596, 20.599],\n",
    "    [19.415, 19.332, 19.376, 19.360, 19.408, 19.262, 19.323, 19.267, 19.139],\n",
    "    [18.323, 18.330, 18.317, 18.271, 18.314, 18.244],\n",
    "    [17.430, 17.411, 17.380, 17.357, 17.310, 17.255],\n",
    "    [16.703, 16.657, 16.682, 16.687, 16.706],\n",
    "    [16.139, 16.153, 16.078, 16.053, 16.059],\n",
    "    [15.834, 15.767, 15.806, 15.716, 15.766],\n",
    "    [15.671, 16.636, 15.605, 16.631, 15.549, 15.603]\n",
    "]\n",
    "\n",
    "epsTimes = [((allTimes[i][-2] - allTimes[i][-1]) / allTimes[i][-1]) for i in range(len(allTimes))]\n",
    "print(epsTimes)\n"
   ]
  },
  {
   "cell_type": "code",
   "execution_count": 70,
   "metadata": {
    "collapsed": false
   },
   "outputs": [
    {
     "name": "stdout",
     "output_type": "stream",
     "text": [
      "[ 8.  7.  6.  5.  4.  3.  2.  1.  0.]\n",
      "[ 21.818  20.599  19.139  18.244  17.255  16.706  16.059  15.766  15.603]\n"
     ]
    }
   ],
   "source": [
    "D = 90\n",
    "h = list(reversed([h / 10. for h in range(0, 125 - D // 2 + 1, 10)]))\n",
    "t = [allTimes[i][-1] for i in range(len(allTimes))]\n",
    "\n",
    "t = np.array(t)\n",
    "h = np.array(h)\n",
    "\n",
    "print(h)\n",
    "print(t)"
   ]
  },
  {
   "cell_type": "code",
   "execution_count": 71,
   "metadata": {
    "collapsed": false
   },
   "outputs": [
    {
     "name": "stdout",
     "output_type": "stream",
     "text": [
      "[ 4.3636  4.1198  3.8278  3.6488  3.451   3.3412  3.2118  3.1532  3.1206]\n"
     ]
    }
   ],
   "source": [
    "t = t / 5.\n",
    "print(t)"
   ]
  },
  {
   "cell_type": "code",
   "execution_count": 72,
   "metadata": {
    "collapsed": false
   },
   "outputs": [
    {
     "data": {
      "image/png": "[encoded data removed]",
      "text/plain": [
       "<matplotlib.figure.Figure at 0x7fd5291ec9e8>"
      ]
     },
     "metadata": {},
     "output_type": "display_data"
    }
   ],
   "source": [
    "plt.figure(figsize=(7, 7))\n",
    "plt.scatter(h*h, t*t)\n",
    "plt.show()"
   ]
  },
  {
   "cell_type": "code",
   "execution_count": 93,
   "metadata": {
    "collapsed": false
   },
   "outputs": [
    {
     "name": "stdout",
     "output_type": "stream",
     "text": [
      "Absolute T error =  0.082051173433\n",
      "Relative T error =  0.00424690629793\n",
      "Impulse relative error =  0.01470485103320716\n"
     ]
    }
   ],
   "source": [
    "def rmse(predictions, targets):\n",
    "    return np.sqrt(((predictions - targets) ** 2).mean())\n",
    "\n",
    "F = pd.DataFrame(allTimes[2])\n",
    "absErr = rmse(F, F.mean())[0]\n",
    "relErr = absErr / F.mean()[0];\n",
    "print(\"Absolute T error = \", absErr)\n",
    "print(\"Relative T error = \", relErr)\n",
    "\n",
    "Ek = 0.012 # calculated \n",
    "Em = 0.3 / 1012.5\n",
    "Et = 2 * relErr\n",
    "\n",
    "Ei = math.sqrt(Ek**2 + Em**2 + Et**2)\n",
    "print(\"Impulse relative error = \", Ei)"
   ]
  },
  {
   "cell_type": "code",
   "execution_count": null,
   "metadata": {
    "collapsed": true
   },
   "outputs": [],
   "source": []
  }
 ],
 "metadata": {
  "kernelspec": {
   "display_name": "Python 3",
   "language": "python",
   "name": "python3"
  },
  "language_info": {
   "codemirror_mode": {
    "name": "ipython",
    "version": 3
   },
   "file_extension": ".py",
   "mimetype": "text/x-python",
   "name": "python",
   "nbconvert_exporter": "python",
   "pygments_lexer": "ipython3",
   "version": "3.5.2"
  }
 },
 "nbformat": 4,
 "nbformat_minor": 2
}
