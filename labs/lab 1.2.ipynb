{
 "cells": [
  {
   "cell_type": "code",
   "execution_count": 1,
   "metadata": {
    "collapsed": false,
    "deletable": true,
    "editable": true,
    "scrolled": true
   },
   "outputs": [],
   "source": [
    "import numpy as np\n",
    "import pandas as pd\n",
    "import matplotlib.pyplot as plt\n",
    "import math\n",
    "from math import sqrt\n",
    "from matplotlib import style\n",
    "style.use(\"ggplot\")"
   ]
  },
  {
   "cell_type": "code",
   "execution_count": 2,
   "metadata": {
    "collapsed": false,
    "deletable": true,
    "editable": true
   },
   "outputs": [
    {
     "name": "stdout",
     "output_type": "stream",
     "text": [
      "0.048501794844\n"
     ]
    }
   ],
   "source": [
    "k = 4.041816237\n",
    "Ek = 0.012 # ~\n",
    "Dk = k * Ek\n",
    "print(Dk)"
   ]
  },
  {
   "cell_type": "code",
   "execution_count": 3,
   "metadata": {
    "collapsed": false,
    "deletable": true,
    "editable": true
   },
   "outputs": [
    {
     "data": {
      "text/plain": [
       "0.010247730689737666"
      ]
     },
     "execution_count": 3,
     "metadata": {},
     "output_type": "execute_result"
    }
   ],
   "source": [
    "def EDiff(a, b):\n",
    "    hi = max(a, b)\n",
    "    lo = min(a, b)\n",
    "    return (hi - lo) / hi\n",
    "\n",
    "EDiff(79.8811, 79.0625)"
   ]
  },
  {
   "cell_type": "code",
   "execution_count": 4,
   "metadata": {
    "collapsed": false,
    "deletable": true,
    "editable": true
   },
   "outputs": [],
   "source": [
    "allTimes = [\n",
    "    [21.852, 21.813, 21.802, 21.805, 21.813, 21.818],\n",
    "    [20.658, 20.659, 20.635, 20.596, 20.599],\n",
    "    [19.415, 19.332, 19.376, 19.360, 19.408, 19.262, 19.323, 19.267, 19.139],\n",
    "    [18.323, 18.330, 18.317, 18.271, 18.314, 18.244],\n",
    "    [17.430, 17.411, 17.380, 17.357, 17.310, 17.255],\n",
    "    [16.703, 16.657, 16.682, 16.687, 16.706],\n",
    "    [16.139, 16.153, 16.078, 16.053, 16.059],\n",
    "    [15.834, 15.767, 15.806, 15.716, 15.766],\n",
    "    [15.671, 15.636, 15.605, 15.631, 15.549, 15.603]\n",
    "]\n"
   ]
  },
  {
   "cell_type": "code",
   "execution_count": 5,
   "metadata": {
    "collapsed": false,
    "deletable": true,
    "editable": true
   },
   "outputs": [
    {
     "name": "stdout",
     "output_type": "stream",
     "text": [
      "[ 8.  7.  6.  5.  4.  3.  2.  1.  0.]\n",
      "[ 21.818  20.599  19.139  18.244  17.255  16.706  16.059  15.766  15.603]\n"
     ]
    }
   ],
   "source": [
    "D = 90\n",
    "h = list(reversed([h / 10. for h in range(0, 125 - D // 2 + 1, 10)]))\n",
    "t = [allTimes[i][-1] for i in range(len(allTimes))]\n",
    "\n",
    "t = np.array(t)\n",
    "h = np.array(h)\n",
    "\n",
    "print(h)\n",
    "print(t)"
   ]
  },
  {
   "cell_type": "code",
   "execution_count": 6,
   "metadata": {
    "collapsed": false,
    "deletable": true,
    "editable": true
   },
   "outputs": [
    {
     "name": "stdout",
     "output_type": "stream",
     "text": [
      "[ 4.3636  4.1198  3.8278  3.6488  3.451   3.3412  3.2118  3.1532  3.1206]\n"
     ]
    }
   ],
   "source": [
    "t = t / 5.\n",
    "print(t)"
   ]
  },
  {
   "cell_type": "code",
   "execution_count": 7,
   "metadata": {
    "collapsed": false,
    "deletable": true,
    "editable": true
   },
   "outputs": [
    {
     "data": {
      "image/png": "[encoded data removed]",
      "text/plain": [
       "<matplotlib.figure.Figure at 0x7f08a2292438>"
      ]
     },
     "metadata": {},
     "output_type": "display_data"
    }
   ],
   "source": [
    "plt.figure(figsize=(7, 7))\n",
    "plt.scatter(h*h, t*t)\n",
    "plt.show()"
   ]
  },
  {
   "cell_type": "markdown",
   "metadata": {
    "deletable": true,
    "editable": true
   },
   "source": [
    "# Случайная ошибка времени"
   ]
  },
  {
   "cell_type": "code",
   "execution_count": 8,
   "metadata": {
    "collapsed": false,
    "deletable": true,
    "editable": true
   },
   "outputs": [
    {
     "name": "stdout",
     "output_type": "stream",
     "text": [
      "Absolute T error =  0.08703415676873359\n",
      "Relative T error =  0.00450482172346\n",
      "Realtive t = T / 5 error =  0.000900964344692\n",
      "Impulse relative error =  0.01213815218626062\n",
      "0    19.320222\n",
      "dtype: float64\n"
     ]
    }
   ],
   "source": [
    "def rmse_corrected(predictions, targets):\n",
    "    return np.sqrt(((predictions - targets) ** 2).sum() / (predictions.size - 1))\n",
    "\n",
    "F = pd.DataFrame(allTimes[2])\n",
    "absErr = rmse_corrected(F, F.mean())[0]\n",
    "\n",
    "timerErr = 0.001 # can be ignored \n",
    "absErr = sqrt(timerErr**2 + absErr**2)\n",
    "\n",
    "relErr = absErr / F.mean()[0];\n",
    "print(\"Absolute T error = \", absErr)\n",
    "print(\"Relative T error = \", relErr)\n",
    "\n",
    "\n",
    "Ek = 0.012 # calculated \n",
    "Em = 0.3 / 1012.5\n",
    "Et = relErr /5\n",
    "print(\"Realtive t = T / 5 error = \", Et)\n",
    "Ei = math.sqrt(Ek**2 + Em**2 + (2*Et)**2)\n",
    "print(\"Impulse relative error = \", Ei) # for the first exp\n",
    "print(F.mean())"
   ]
  },
  {
   "cell_type": "markdown",
   "metadata": {
    "collapsed": true,
    "deletable": true,
    "editable": true
   },
   "source": [
    "# Платформа"
   ]
  },
  {
   "cell_type": "code",
   "execution_count": 9,
   "metadata": {
    "collapsed": false,
    "deletable": true,
    "editable": true
   },
   "outputs": [
    {
     "name": "stdout",
     "output_type": "stream",
     "text": [
      "0.016002743249055734\n"
     ]
    }
   ],
   "source": [
    "def sciPrint(val, relErr):\n",
    "    print(val, \"+-\", val * relErr, \"(\", relErr * 100., \"%)\")\n",
    "\n",
    "m = 1012.5 * 1e-3\n",
    "Dm = 0.3 * 1e-3\n",
    "\n",
    "Ri = 12.5\n",
    "DRi = 0.1\n",
    "\n",
    "EiTheory1 = sqrt((Dm/m)**2 + (2*DRi/Ri)**2)\n",
    "print(EiTheory1)"
   ]
  },
  {
   "cell_type": "code",
   "execution_count": 10,
   "metadata": {
    "collapsed": false,
    "deletable": true,
    "editable": true
   },
   "outputs": [
    {
     "name": "stdout",
     "output_type": "stream",
     "text": [
      "79.1015625 +- 1.2658419952866353\n"
     ]
    }
   ],
   "source": [
    "ITheory1 = 1./2.*m*(Ri**2)\n",
    "print(ITheory1, \"+-\", ITheory1 * EiTheory1)"
   ]
  },
  {
   "cell_type": "code",
   "execution_count": 11,
   "metadata": {
    "collapsed": false,
    "deletable": true,
    "editable": true
   },
   "outputs": [
    {
     "name": "stdout",
     "output_type": "stream",
     "text": [
      "79.92063206479688 +- 0.9700887948246448\n"
     ]
    }
   ],
   "source": [
    "T = 22.096 / 5.\n",
    "IExp1  = m * k * (T**2)\n",
    "EIExp1 = sqrt(Ek**2 + (Dm/m)**2 + (2*Et)**2)\n",
    "# print(Ei1)\n",
    "print(IExp1, \"+-\", IExp1 * EIExp1)\n"
   ]
  },
  {
   "cell_type": "markdown",
   "metadata": {
    "deletable": true,
    "editable": true
   },
   "source": [
    "# Полый цилиндр + платформа"
   ]
  },
  {
   "cell_type": "code",
   "execution_count": 12,
   "metadata": {
    "collapsed": false,
    "deletable": true,
    "editable": true
   },
   "outputs": [
    {
     "name": "stdout",
     "output_type": "stream",
     "text": [
      "146.14374428056425 +- 1.7735386785908136 ( 1.2135577114994431 %)\n"
     ]
    }
   ],
   "source": [
    "T = 21.320 / 5.\n",
    "\n",
    "mc = 0.9762\n",
    "Dmc = 0.0001\n",
    "\n",
    "m2 = m + mc\n",
    "\n",
    "EIExp2 = sqrt((Dm**2 + Dmc**2) / (m2**2) + Ek**2 + (2*Et)**2)\n",
    "IExp2 = m2*k*T**2\n",
    "sciPrint(IExp2, EIExp2)"
   ]
  },
  {
   "cell_type": "code",
   "execution_count": 13,
   "metadata": {
    "collapsed": false,
    "deletable": true,
    "editable": true
   },
   "outputs": [
    {
     "name": "stdout",
     "output_type": "stream",
     "text": [
      "Erc2plusRc2 =  0.0017375092967516167\n",
      "64.67173689\n",
      "143.77329939 +- 1.2708368721094487 ( 0.8839171650795686 %)\n"
     ]
    }
   ],
   "source": [
    "rc = 15.74 / 2\n",
    "Drc = 0.01\n",
    "Erc = Drc / rc\n",
    "\n",
    "Rc = rc + 0.53\n",
    "DRc = 0.01\n",
    "ERc = DRc / Rc\n",
    "\n",
    "DRc2 = (ERc * 2) * (Rc**2)\n",
    "Drc2 = (Erc * 2) * (rc**2)\n",
    "\n",
    "Erc2plusRc2 = sqrt(DRc2**2 + Drc2**2) / (Rc**2 + rc**2)\n",
    "\n",
    "print(\"Erc2plusRc2 = \", Erc2plusRc2)\n",
    "\n",
    "ITheoryC = 1./2. * mc * (Rc**2 + rc**2)\n",
    "ITheory2 = ITheory1 + ITheoryC\n",
    "print(ITheoryC)\n",
    "EiTheoryC = sqrt((Dmc / mc)**2  + Erc2plusRc2**2)\n",
    "EiTheory2 = sqrt((EiTheory1 * ITheory1)**2  + (EiTheoryC * ITheoryC)**2) / ITheory2\n",
    "   \n",
    "sciPrint(ITheory2, EiTheory2)"
   ]
  },
  {
   "cell_type": "code",
   "execution_count": 14,
   "metadata": {
    "collapsed": false,
    "deletable": true,
    "editable": true
   },
   "outputs": [
    {
     "name": "stdout",
     "output_type": "stream",
     "text": [
      "2.3704448905642437\n"
     ]
    }
   ],
   "source": [
    "print(abs(ITheory2 - IExp2))"
   ]
  },
  {
   "cell_type": "markdown",
   "metadata": {
    "deletable": true,
    "editable": true
   },
   "source": [
    "# Полый цилиндр"
   ]
  },
  {
   "cell_type": "code",
   "execution_count": 15,
   "metadata": {
    "collapsed": false,
    "deletable": true,
    "editable": true
   },
   "outputs": [
    {
     "name": "stdout",
     "output_type": "stream",
     "text": [
      "0.01213557711499443 146.14374428056425 0.9700887948246448\n",
      "66.22311221576737 +- 2.0215122345170164 ( 3.052578120959566 %)\n"
     ]
    }
   ],
   "source": [
    "IExp3 = IExp2 - IExp1\n",
    "print(EIExp2,IExp2,EIExp1*IExp1)\n",
    "DIExp3 = sqrt((EIExp2 * IExp2)**2 + (EIExp1 * IExp1)**2)\n",
    "EIExp3 = DIExp3 / IExp3\n",
    "sciPrint(IExp3, EIExp3)"
   ]
  },
  {
   "cell_type": "code",
   "execution_count": 16,
   "metadata": {
    "collapsed": false,
    "deletable": true,
    "editable": true
   },
   "outputs": [
    {
     "name": "stdout",
     "output_type": "stream",
     "text": [
      "64.67173689 +- 0.11256286457654506 ( 0.17405263874078866 %)\n"
     ]
    }
   ],
   "source": [
    "sciPrint(ITheoryC, EiTheoryC)"
   ]
  },
  {
   "cell_type": "markdown",
   "metadata": {
    "deletable": true,
    "editable": true
   },
   "source": [
    "# Брусок с платформой"
   ]
  },
  {
   "cell_type": "code",
   "execution_count": 17,
   "metadata": {
    "collapsed": false,
    "deletable": true,
    "editable": true
   },
   "outputs": [
    {
     "name": "stdout",
     "output_type": "stream",
     "text": [
      "124.27426143939996 +- 1.508114582554119 ( 1.213537352856869 %)\n"
     ]
    }
   ],
   "source": [
    "mb = 1.2046\n",
    "Dmb = 0.0001\n",
    "\n",
    "m4 = mb + m\n",
    "\n",
    "T = 18.620 / 5.\n",
    "\n",
    "EIExp4 = sqrt((Dm**2 + Dmb**2) / (m4**2) + Ek**2 + (2*Et)**2)\n",
    "IExp4 = m4 * k * T**2\n",
    "sciPrint(IExp4, EIExp4)\n"
   ]
  },
  {
   "cell_type": "code",
   "execution_count": 18,
   "metadata": {
    "collapsed": false,
    "deletable": true,
    "editable": true
   },
   "outputs": [
    {
     "name": "stdout",
     "output_type": "stream",
     "text": [
      "Ea2plusL2 =  0.00938131704462156\n",
      "45.0008445 +- 0.42218371799952503 ( 0.938168433704672 %)\n",
      "124.102407 +- 1.3343893917350933 ( 1.0752324825860093 %)\n"
     ]
    }
   ],
   "source": [
    "a = 2.7\n",
    "Da = 0.04\n",
    "\n",
    "L = 21.\n",
    "DL = 0.1\n",
    "\n",
    "Ea = Da / a\n",
    "EL = DL / L\n",
    "\n",
    "Da2 = (Ea * 2) * (a**2)\n",
    "DL2 = (EL * 2) * (L**2)\n",
    "\n",
    "Ea2plusL2 = sqrt(Da2**2 + DL2**2) / (a**2 + L**2)\n",
    "\n",
    "print(\"Ea2plusL2 = \", Ea2plusL2)\n",
    "\n",
    "ITheoryB = 1./12. * mb * (a**2 + L**2)\n",
    "ITheory4 = ITheory1 + ITheoryB\n",
    "\n",
    "EiTheoryB = sqrt((Dmb / mb)**2  + Ea2plusL2**2)\n",
    "sciPrint(ITheoryB, EiTheoryB)\n",
    "EiTheory4 = sqrt((EiTheory1 * ITheory1)**2  + (EiTheoryB * ITheoryB)**2) / ITheory4\n",
    "sciPrint(ITheory4, EiTheory4)\n"
   ]
  },
  {
   "cell_type": "markdown",
   "metadata": {
    "deletable": true,
    "editable": true
   },
   "source": [
    "# Брусок"
   ]
  },
  {
   "cell_type": "code",
   "execution_count": 19,
   "metadata": {
    "collapsed": false,
    "deletable": true,
    "editable": true
   },
   "outputs": [
    {
     "name": "stdout",
     "output_type": "stream",
     "text": [
      "44.35362937460309 +- 1.793176473177338 ( 4.042908096725252 %)\n"
     ]
    }
   ],
   "source": [
    "IExp5 = IExp4 - IExp1\n",
    "DIExp5 = sqrt((EIExp4 * IExp4)**2 + (EIExp1 * IExp1)**2)\n",
    "EIExp5 = DIExp5 / IExp5\n",
    "sciPrint(IExp5, EIExp5)"
   ]
  },
  {
   "cell_type": "code",
   "execution_count": 20,
   "metadata": {
    "collapsed": true,
    "deletable": true,
    "editable": true
   },
   "outputs": [],
   "source": [
    "# for theory see last experiment"
   ]
  },
  {
   "cell_type": "markdown",
   "metadata": {
    "deletable": true,
    "editable": true
   },
   "source": [
    "# Половинки"
   ]
  },
  {
   "cell_type": "code",
   "execution_count": 21,
   "metadata": {
    "collapsed": false,
    "deletable": true,
    "editable": true
   },
   "outputs": [
    {
     "name": "stdout",
     "output_type": "stream",
     "text": [
      "[-0.0002291685764049206, -0.00014563813777368386, 0.00668791472908721, 0.003836877877658424, 0.003187481889307431, -0.0011373159343947296, -0.0003736222678871802, -0.0031713814537613033, -0.0034608729090559683]\n",
      "[-0.0005958382986525656, 0.0017476576532842061, 0.009613877423062911, 0.0014799386099540136, 0.005911330049261102, -0.0014366096013408902, 0.0011831371816425898, 0.0025371051630089527, 0.0017945266935845972]\n"
     ]
    }
   ],
   "source": [
    "epsTimes1 = [((allTimes[i][-2] - allTimes[i][-1]) / allTimes[i][-1]) for i in range(len(allTimes))]\n",
    "print(epsTimes1)\n",
    "epsTimes2 = [((allTimes[i][-3] - allTimes[i][-1]) / allTimes[i][-1]) for i in range(len(allTimes))]\n",
    "print(epsTimes2)"
   ]
  },
  {
   "cell_type": "code",
   "execution_count": 22,
   "metadata": {
    "collapsed": false,
    "deletable": true,
    "editable": true
   },
   "outputs": [
    {
     "name": "stdout",
     "output_type": "stream",
     "text": [
      "T =  [ 4.3636  4.1198  3.8278  3.6488  3.451   3.3412  3.2118  3.1532  3.1206]\n",
      "DT =  [ 0.00393145  0.00371179  0.00344871  0.00328744  0.00310923  0.0030103\n",
      "  0.00289372  0.00284092  0.00281155]\n",
      "ISep =  [ 107.06967039   86.75859753   63.96840099   50.8256465    37.03446037\n",
      "   29.71056681   21.38327733   17.72037582   15.71184968]\n",
      "EISep =  [ 2.30489818  2.58568154  3.12265918  3.65899688  4.64200191  5.54189645\n",
      "  7.3235196   8.6418114   9.6270055 ]\n",
      "DISep =  [ 2.46784688  2.24330104  1.99751515  1.85970882  1.71914036  1.64652885\n",
      "  1.56600851  1.53136146  1.51258063]\n",
      "h2 =  [ 64.  49.  36.  25.  16.   9.   4.   1.   0.]\n",
      "dh2 =  [ 1.6  1.4  1.2  1.   0.8  0.6  0.4  0.2  0. ]\n",
      "Eh2 =  [ 0.025       0.02857143  0.03333333  0.04        0.05        0.06666667\n",
      "  0.1         0.2                nan]\n"
     ]
    },
    {
     "name": "stderr",
     "output_type": "stream",
     "text": [
      "/usr/local/lib/python3.5/dist-packages/ipykernel/__main__.py:28: RuntimeWarning: invalid value encountered in true_divide\n"
     ]
    }
   ],
   "source": [
    "ms1 = 709.8 * 1e-3\n",
    "ms2 = 707.4 * 1e-3\n",
    "ms = m + ms1 + ms2\n",
    "\n",
    "Dms1 = Dms2 = 0.1 * 1e-3\n",
    "Dms = sqrt(Dms1 ** 2 + Dms2 **2 + Dm**2)\n",
    "Ems = Dms / ms\n",
    "\n",
    "T = np.array([allTimes[i][-1] / 5. for i in range(len(allTimes))])\n",
    "DT = T * Et\n",
    "print(\"T = \", T)\n",
    "print(\"DT = \", DT)\n",
    "IExp6 = k * (ms1 + ms2 + m) * T * T\n",
    "ISep = IExp6 - IExp1\n",
    "EIExp6 = sqrt(Ek**2 + Ems**2 + (2*Et)**2)\n",
    "\n",
    "EISep = np.sqrt((EIExp6 * IExp6)**2 + (EIExp1 * IExp1)**2) / ISep\n",
    "print(\"ISep = \", ISep)\n",
    "print(\"EISep = \", EISep*100) # experimental I error\n",
    "DISep = ISep * EISep\n",
    "print(\"DISep = \", DISep)\n",
    "\n",
    "dh = 0.1\n",
    "\n",
    "dh2 = 2*dh*h\n",
    "print(\"h2 = \", h*h)\n",
    "print(\"dh2 = \", dh2)\n",
    "print(\"Eh2 = \", dh2 / (h*h))"
   ]
  },
  {
   "cell_type": "code",
   "execution_count": 23,
   "metadata": {
    "collapsed": false,
    "deletable": true,
    "editable": true
   },
   "outputs": [
    {
     "data": {
      "image/png": "[encoded data removed]",
      "text/plain": [
       "<matplotlib.figure.Figure at 0x7f089ffe7f28>"
      ]
     },
     "metadata": {},
     "output_type": "display_data"
    }
   ],
   "source": [
    "plt.scatter(y=T*T, x=h*h)\n",
    "plt.show()"
   ]
  },
  {
   "cell_type": "code",
   "execution_count": 24,
   "metadata": {
    "collapsed": false,
    "deletable": true,
    "editable": true
   },
   "outputs": [
    {
     "name": "stdout",
     "output_type": "stream",
     "text": [
      "[ 19.04100496  16.97275204  14.65205284  13.31374144  11.909401\n",
      "  11.16361744  10.31565924   9.94267024   9.73814436]\n",
      "[ 0.03431053  0.03058369  0.02640195  0.02399041  0.02145989  0.02011604\n",
      "  0.01858808  0.01791598  0.01754744]\n",
      "[ 0.00180193  0.00180193  0.00180193  0.00180193  0.00180193  0.00180193\n",
      "  0.00180193  0.00180193  0.00180193]\n",
      "[ 64.  49.  36.  25.  16.   9.   4.   1.   0.]\n"
     ]
    }
   ],
   "source": [
    "print(T*T)\n",
    "print(DT*2*T)\n",
    "print((DT*2*T)/(T*T))\n",
    "print(h*h)"
   ]
  },
  {
   "cell_type": "markdown",
   "metadata": {
    "deletable": true,
    "editable": true
   },
   "source": [
    "Координаты для построения"
   ]
  },
  {
   "cell_type": "code",
   "execution_count": 25,
   "metadata": {
    "collapsed": false,
    "deletable": true,
    "editable": true
   },
   "outputs": [
    {
     "name": "stdout",
     "output_type": "stream",
     "text": [
      "[ 6.34700165  5.65758401  4.88401761  4.43791381  3.96980033  3.72120581\n",
      "  3.43855308  3.31422341  3.24604812]\n",
      "[ 0.01143684  0.01019456  0.00880065  0.0079968   0.0071533   0.00670535\n",
      "  0.00619603  0.00597199  0.00584915]\n",
      "[ 21.33333333  16.33333333  12.           8.33333333   5.33333333   3.\n",
      "   1.33333333   0.33333333   0.        ]\n",
      "[ 0.53333333  0.46666667  0.4         0.33333333  0.26666667  0.2\n",
      "  0.13333333  0.06666667  0.        ]\n"
     ]
    }
   ],
   "source": [
    "scale = 3.\n",
    "print(T*T / scale)\n",
    "print(DT*2*T / scale)\n",
    "print(h*h / scale)\n",
    "print(dh2 / scale)"
   ]
  },
  {
   "cell_type": "markdown",
   "metadata": {
    "collapsed": true,
    "deletable": true,
    "editable": true
   },
   "source": [
    "К графику (T^2 от H^2)"
   ]
  },
  {
   "cell_type": "code",
   "execution_count": 26,
   "metadata": {
    "collapsed": false,
    "deletable": true,
    "editable": true
   },
   "outputs": [
    {
     "name": "stdout",
     "output_type": "stream",
     "text": [
      "0.14431182727040767 +- 0.0017319138367660337 ( 1.2001191236535447 %)\n"
     ]
    }
   ],
   "source": [
    "ms1 = 709.8 * 1e-3\n",
    "ms2 = 707.4 * 1e-3\n",
    "ms = m + ms1 + ms2\n",
    "\n",
    "Dms1 = Dms2 = 0.1 * 1e-3\n",
    "Dms = sqrt(Dms1 ** 2 + Dms2 **2 + Dm**2)\n",
    "Ems = Dms / ms\n",
    "\n",
    "ms12 = ms1 + ms2\n",
    "Dms12 = sqrt(Dms1 ** 2 + Dms2 **2)\n",
    "Ems12 = Dms12 / ms12\n",
    "\n",
    "bPlot = ms12 / (k * ms);\n",
    "EbPlot= sqrt(Ems12**2 + Ems **2 + Ek**2)\n",
    "\n",
    "sciPrint(bPlot, EbPlot)"
   ]
  },
  {
   "cell_type": "code",
   "execution_count": 27,
   "metadata": {
    "collapsed": false,
    "deletable": true,
    "editable": true
   },
   "outputs": [
    {
     "name": "stdout",
     "output_type": "stream",
     "text": [
      "93.771354 +- 1.330341209780234 ( 1.4187074762514722 %)\n",
      "9.548627886932156 +- 0.17743286020217897 ( 1.8582026894671013 %)\n"
     ]
    }
   ],
   "source": [
    "Rpuck = 9.1 / 2.\n",
    "DRpuck = 0.01\n",
    "ERpuck = DRpuck/ Rpuck\n",
    "Ipuck = 1./2.*ms12 * (Rpuck**2)\n",
    "EIpuck = sqrt(Ems12**2 + (2*ERpuck)**2)\n",
    "\n",
    "aI = Ipuck + ITheory1\n",
    "EaI = (Ipuck* EIpuck + ITheory1*EiTheory1) / aI\n",
    "sciPrint(aI, EaI)\n",
    "\n",
    "a = aI / (ms * k)\n",
    "Ea = sqrt(EaI**2 +  Ems **2 + Ek**2)\n",
    "sciPrint(a, Ea)\n"
   ]
  },
  {
   "cell_type": "code",
   "execution_count": 34,
   "metadata": {
    "collapsed": false,
    "deletable": true,
    "editable": true
   },
   "outputs": [
    {
     "data": {
      "text/plain": [
       "0.13488372093023254"
      ]
     },
     "execution_count": 34,
     "metadata": {},
     "output_type": "execute_result"
    }
   ],
   "source": [
    "bExpMin = 2.9/21.5\n",
    "bExpMin"
   ]
  },
  {
   "cell_type": "code",
   "execution_count": 35,
   "metadata": {
    "collapsed": false,
    "deletable": true,
    "editable": true
   },
   "outputs": [
    {
     "data": {
      "text/plain": [
       "0.16279069767441862"
      ]
     },
     "execution_count": 35,
     "metadata": {},
     "output_type": "execute_result"
    }
   ],
   "source": [
    "bExpMax = 3.5/21.5\n",
    "bExpMax"
   ]
  },
  {
   "cell_type": "code",
   "execution_count": 36,
   "metadata": {
    "collapsed": false,
    "deletable": true,
    "editable": true
   },
   "outputs": [
    {
     "name": "stdout",
     "output_type": "stream",
     "text": [
      "0.14883720930232558 +- 0.009302325581395357 ( 6.250000000000005 %)\n"
     ]
    }
   ],
   "source": [
    "DbExp = (bExpMax - bExpMin) / sqrt(9)\n",
    "bExp = 3.2/21.5\n",
    "sciPrint(bExp, DbExp/(bExp))"
   ]
  },
  {
   "cell_type": "code",
   "execution_count": 62,
   "metadata": {
    "collapsed": false,
    "deletable": true,
    "editable": true
   },
   "outputs": [
    {
     "name": "stdout",
     "output_type": "stream",
     "text": [
      "9.3 +- 0.2 ( 2.150537634408602 %)\n"
     ]
    }
   ],
   "source": [
    "a = 9.3\n",
    "Da = 0.6/3.\n",
    "sciPrint(a, Da/a)"
   ]
  },
  {
   "cell_type": "code",
   "execution_count": null,
   "metadata": {
    "collapsed": true,
    "deletable": true,
    "editable": true
   },
   "outputs": [],
   "source": []
  }
 ],
 "metadata": {
  "kernelspec": {
   "display_name": "Python 3",
   "language": "python",
   "name": "python3"
  },
  "language_info": {
   "codemirror_mode": {
    "name": "ipython",
    "version": 3
   },
   "file_extension": ".py",
   "mimetype": "text/x-python",
   "name": "python",
   "nbconvert_exporter": "python",
   "pygments_lexer": "ipython3",
   "version": "3.5.2"
  }
 },
 "nbformat": 4,
 "nbformat_minor": 2
}
