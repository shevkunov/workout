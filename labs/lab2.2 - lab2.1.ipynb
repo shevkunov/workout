{
 "cells": [
  {
   "cell_type": "code",
   "execution_count": 1,
   "metadata": {
    "collapsed": false,
    "deletable": true,
    "editable": true,
    "scrolled": true
   },
   "outputs": [],
   "source": [
    "import numpy as np\n",
    "import matplotlib.pyplot as plt\n",
    "from labwork import *"
   ]
  },
  {
   "cell_type": "code",
   "execution_count": 2,
   "metadata": {
    "collapsed": false,
    "deletable": true,
    "editable": true
   },
   "outputs": [
    {
     "data": {
      "text/plain": [
       "(array([  1.00000000e-09,   2.00000000e-09,   3.00000000e-09,\n",
       "          4.00000000e-09,   5.00000000e-09,   6.00000000e-09,\n",
       "          7.00000000e-09,   8.00000000e-09,   9.00000000e-09,\n",
       "          1.00000000e-08]),\n",
       " array([ 12400.,   9080.,   7380.,   6310.,   5710.,   5250.,   4830.,\n",
       "          4570.,   4280.,   4080.]))"
      ]
     },
     "execution_count": 2,
     "metadata": {},
     "output_type": "execute_result"
    }
   ],
   "source": [
    "nu = np.arange(1, 11) * 1e-9\n",
    "freqs = np.array([12.4, 9.08, 7.38, 6.31, 5.71, 5.25, 4.83, 4.57, 4.28, 4.08]) * 1e3\n",
    "\n",
    "nu, freqs\n"
   ]
  },
  {
   "cell_type": "code",
   "execution_count": 3,
   "metadata": {
    "collapsed": false,
    "deletable": true,
    "editable": true
   },
   "outputs": [
    {
     "data": {
      "image/png": "[encoded data removed]",
      "text/plain": [
       "<matplotlib.figure.Figure at 0x7f23e16760f0>"
      ]
     },
     "metadata": {},
     "output_type": "display_data"
    }
   ],
   "source": [
    "plt.figure(figsize=(14, 5))\n",
    "y = (1./(2. * np.pi * freqs)**2)\n",
    "a, b, sigma_a, sigma_b = eval_mnk(nu , y)\n",
    "# plt.plot([nu.min(), nu.max()], b * np.array([nu.min(), nu.max()]) + a)\n",
    "plt.plot(nu, y)\n",
    "plt.scatter(nu, y)\n",
    "plt.xlabel(\"C\", fontsize=15)\n",
    "plt.ylabel(r\"$(\\frac{2*\\pi}{f})^2$\", fontsize=15)\n",
    "plt.grid()\n",
    "plt.show()"
   ]
  },
  {
   "cell_type": "code",
   "execution_count": 4,
   "metadata": {
    "collapsed": false,
    "deletable": true,
    "editable": true
   },
   "outputs": [
    {
     "name": "stdout",
     "output_type": "stream",
     "text": [
      "L [мГн] =  151.339220699\n"
     ]
    }
   ],
   "source": [
    "print(\"L [мГн] = \", b* 1e3)"
   ]
  },
  {
   "cell_type": "code",
   "execution_count": 5,
   "metadata": {
    "collapsed": true,
    "deletable": true,
    "editable": true
   },
   "outputs": [],
   "source": [
    "f_resonance = 7.37"
   ]
  },
  {
   "cell_type": "code",
   "execution_count": 6,
   "metadata": {
    "collapsed": false,
    "deletable": true,
    "editable": true
   },
   "outputs": [],
   "source": [
    "# АЧХ\n",
    "f = np.array(\n",
    "    [7.38, 7.44, 7.50, 7.55, 7.6 , 7.66, 7.7 , 7.75, 7.8 , 7.32, 7.29, 7.26, 7.23, 7.2 , 7.15, 7.85]\n",
    ")\n",
    "uy = np.array(\n",
    "    [7.4 , 7.  , 6.55, 6.  , 5.4 , 4.8 , 4.4 , 4.2 , 3.8 , 6.6 , 5.4 , 4.8 , 3.8 , 3.4 , 2.8 , 3.4]\n",
    ")  # 20 мВ # 7.4 = 7.1\n",
    "ux = np.array(\n",
    "    [6.  , 6.  , 6.  , 6.  , 6.  , 6.  , 6.  , 6.  , 6.  , 6.  , 6.  , 6.  , 6.  , 6.  , 6.  , 6.]\n",
    ")  #0.1 В"
   ]
  },
  {
   "cell_type": "code",
   "execution_count": 7,
   "metadata": {
    "collapsed": false,
    "deletable": true,
    "editable": true
   },
   "outputs": [
    {
     "data": {
      "image/png": "[encoded data removed]",
      "text/plain": [
       "<matplotlib.figure.Figure at 0x7f23df3d9e10>"
      ]
     },
     "metadata": {},
     "output_type": "display_data"
    }
   ],
   "source": [
    "plt.figure(figsize=(14, 5))\n",
    "plt.scatter(f, uy / uy.max())\n",
    "plt.grid()\n",
    "plt.show()"
   ]
  },
  {
   "cell_type": "markdown",
   "metadata": {
    "deletable": true,
    "editable": true
   },
   "source": [
    "___________________________________________\n",
    "### lab 2.1"
   ]
  },
  {
   "cell_type": "code",
   "execution_count": 69,
   "metadata": {
    "collapsed": false,
    "deletable": true,
    "editable": true
   },
   "outputs": [
    {
     "name": "stdout",
     "output_type": "stream",
     "text": [
      "T = 1.3 +- 0.03333333333333334 ( 2.5641025641025643 %)\n"
     ]
    }
   ],
   "source": [
    "T = 7.8 / 6\n",
    "T_RE = 0.2 / 7.8  # 0.2 - цена деления\n",
    "\n",
    "sciPrintR(T, T_RE, \"T =\")\n",
    "ts_re = np.array([\n",
    "    [6. , 0],\n",
    "    [4.6 , 30],\n",
    "    [3.9 , 60],\n",
    "    [3.2 , 90],\n",
    "    [2.5, 120],\n",
    "    [2.2, 150],\n",
    "    [2.  , 180],\n",
    "    [1.8 , 210],\n",
    "    [1.65, 240]\n",
    "]) # 0.5 ms\n",
    "\n",
    "ts_re_1 = np.array([\n",
    "    [6.1 , 0],\n",
    "    [4.9 , 30],\n",
    "    [3.6 , 60],\n",
    "    [3.4 , 90],\n",
    "    [2.6, 120],\n",
    "    [2.3, 150],\n",
    "    [2.15, 180],\n",
    "    [2.08, 210],\n",
    "    [2.02, 240]\n",
    "])  # 0.5 ms\n",
    "\n",
    "ts_re_2 = np.array([\n",
    "    [1.6, 0],\n",
    "    [1.5 , 30],  # 1.3 - 1.5\n",
    "    [1.2 , 60],\n",
    "    [1.1 , 90],\n",
    "    [1.05, 120],\n",
    "])  # 1 ms"
   ]
  },
  {
   "cell_type": "code",
   "execution_count": 76,
   "metadata": {
    "collapsed": true
   },
   "outputs": [],
   "source": [
    "multiplier = 0.0005  # 0.5 ms\n",
    "T = T * multiplier\n",
    "ts_re[:, 0] = ts_re[:, 0] * multiplier "
   ]
  },
  {
   "cell_type": "code",
   "execution_count": 77,
   "metadata": {
    "collapsed": false,
    "deletable": true,
    "editable": true
   },
   "outputs": [
    {
     "data": {
      "image/png": "[encoded data removed]",
      "text/plain": [
       "<matplotlib.figure.Figure at 0x7f23debb1ba8>"
      ]
     },
     "metadata": {},
     "output_type": "display_data"
    }
   ],
   "source": [
    "plt.figure(figsize=(14,5))\n",
    "a, b, sigma_a, sigma_b = eval_mnk(ts_re[:, 1], T / ts_re[:, 0])\n",
    "\n",
    "plt.plot([0, 250], b * np.array([0, 250]) + a, color=\"red\")\n",
    "plt.scatter(ts_re[:, 1], T / ts_re[:, 0])\n",
    "plt.grid()\n",
    "plt.show()"
   ]
  },
  {
   "cell_type": "code",
   "execution_count": 78,
   "metadata": {
    "collapsed": false,
    "deletable": true,
    "editable": true
   },
   "outputs": [
    {
     "name": "stdout",
     "output_type": "stream",
     "text": [
      "Rkr =  83.9888584505 +- 0.38021556924 ( 0.452697627107 %)\n"
     ]
    }
   ],
   "source": [
    "Rkr =  a / b\n",
    "Rkr_RE = prodErrorR([sigma_a, sigma_b])\n",
    "sciPrintR(Rkr, Rkr_RE, \"Rkr = \")"
   ]
  },
  {
   "cell_type": "code",
   "execution_count": 79,
   "metadata": {
    "collapsed": false,
    "deletable": true,
    "editable": true
   },
   "outputs": [
    {
     "data": {
      "text/plain": [
       "0.20631776704240479"
      ]
     },
     "execution_count": 79,
     "metadata": {},
     "output_type": "execute_result"
    }
   ],
   "source": [
    "a"
   ]
  },
  {
   "cell_type": "markdown",
   "metadata": {},
   "source": [
    "______________________\n",
    "### Обработка результатовъ"
   ]
  },
  {
   "cell_type": "code",
   "execution_count": 80,
   "metadata": {
    "collapsed": false
   },
   "outputs": [
    {
     "name": "stdout",
     "output_type": "stream",
     "text": [
      "T = 0.0006500000000000001 +- 1.666666666666667e-05 ( 2.5641025641025643 %)\n"
     ]
    }
   ],
   "source": [
    "sciPrintR(T, T_RE, \"T =\")"
   ]
  },
  {
   "cell_type": "code",
   "execution_count": 83,
   "metadata": {
    "collapsed": false
   },
   "outputs": [],
   "source": [
    "gamma = 1. / ts_re[:, 0]\n",
    "lambd = gamma * T\n",
    "lambd_RE = [prodErrorR([T_RE, 0.2 * multiplier / ts]) for ts in ts_re[:,0]]"
   ]
  },
  {
   "cell_type": "code",
   "execution_count": 84,
   "metadata": {
    "collapsed": false
   },
   "outputs": [
    {
     "name": "stdout",
     "output_type": "stream",
     "text": [
      "lambd (Rk = 0.0) = 0.216666666667 +- 0.0091117885927 ( 4.20544088894 %)\n",
      "lambd (Rk = 30.0) = 0.282608695652 +- 0.0142649419315 ( 5.04759483731 %)\n",
      "lambd (Rk = 60.0) = 0.333333333333 +- 0.0191116921154 ( 5.73350763461 %)\n",
      "lambd (Rk = 90.0) = 0.40625 +- 0.0274443214953 ( 6.75552529114 %)\n",
      "lambd (Rk = 120.0) = 0.52 +- 0.0436845256101 ( 8.40087030963 %)\n",
      "lambd (Rk = 150.0) = 0.590909090909 +- 0.0558148749018 ( 9.44559421415 %)\n",
      "lambd (Rk = 180.0) = 0.65 +- 0.067102740464 ( 10.3234985329 %)\n",
      "lambd (Rk = 210.0) = 0.722222222222 +- 0.0823559510131 ( 11.4031316787 %)\n",
      "lambd (Rk = 240.0) = 0.787878787879 +- 0.0976138274815 ( 12.3894473342 %)\n"
     ]
    }
   ],
   "source": [
    "for i in range(len(Q)):\n",
    "    sciPrintR(lambd[i], lambd_RE[i], \"lambd (Rk = {}) =\".format(ts_re[i, 1]))"
   ]
  },
  {
   "cell_type": "code",
   "execution_count": 85,
   "metadata": {
    "collapsed": false
   },
   "outputs": [
    {
     "data": {
      "image/png": "[encoded data removed]",
      "text/plain": [
       "<matplotlib.figure.Figure at 0x7f23df3c93c8>"
      ]
     },
     "metadata": {},
     "output_type": "display_data"
    }
   ],
   "source": [
    "def linPlot(x, y, xlabel=\"\", ylabel=\"\", title=\"\", figsize=(14,7), fontsize=15):\n",
    "    \"\"\"Строит график измерений x,y и линейное приближение\n",
    "    зависимости по МНК (y = bx + a).\n",
    "    Возвращает: a, b, sigma_a, sigma_b\"\"\"\n",
    "    plt.figure(figsize=(14,7))\n",
    "    plt.scatter(x, y, label=\"Измерения\", color=\"red\")\n",
    "    a, b, sigma_a, sigma_b = eval_mnk(x, y)\n",
    "    xs = np.array([x.min(), x.max()])\n",
    "    plt.plot(xs, b*xs + a, label=\"Оценка МНК\")\n",
    "    plt.xlabel(xlabel, fontsize=fontsize)\n",
    "    plt.ylabel(ylabel, fontsize=fontsize)\n",
    "    plt.title(title, fontsize=fontsize)\n",
    "    plt.grid()\n",
    "    plt.legend()\n",
    "    plt.show()\n",
    "    return a, b, sigma_a, sigma_b\n",
    "    \n",
    "a, b, sigma_a, sigma_b = linPlot(ts_re[:, 1], lambd, xlabel=r\"$R_m$\", ylabel=r\"$\\lambda$\")"
   ]
  },
  {
   "cell_type": "code",
   "execution_count": 101,
   "metadata": {
    "collapsed": false
   },
   "outputs": [
    {
     "name": "stdout",
     "output_type": "stream",
     "text": [
      "R_coil =  83.9888584505 +- 0.38021556924 ( 0.452697627107 %)\n"
     ]
    }
   ],
   "source": [
    "R_coil = a / b\n",
    "R_coil_RE = prodErrorR([sigma_a, sigma_b])\n",
    "sciPrintR(R_coil, R_coil_RE, \"R_coil = \")"
   ]
  },
  {
   "cell_type": "code",
   "execution_count": 102,
   "metadata": {
    "collapsed": false
   },
   "outputs": [
    {
     "name": "stdout",
     "output_type": "stream",
     "text": [
      "Q (Rk = 0.0) = 14.4996584012 +- 0.60977456316 ( 4.20544088894 %)\n",
      "Q (Rk = 30.0) = 11.1164047742 +- 0.561111073479 ( 5.04759483731 %)\n",
      "Q (Rk = 60.0) = 9.42477796077 +- 0.540370363926 ( 5.73350763461 %)\n",
      "Q (Rk = 90.0) = 7.7331511473 +- 0.522414981558 ( 6.75552529114 %)\n",
      "Q (Rk = 120.0) = 6.04152433383 +- 0.50754062401 ( 8.40087030963 %)\n",
      "Q (Rk = 150.0) = 5.31654141377 +- 0.502178928172 ( 9.44559421415 %)\n",
      "Q (Rk = 180.0) = 4.83321946706 +- 0.498957340775 ( 10.3234985329 %)\n",
      "Q (Rk = 210.0) = 4.34989752036 +- 0.496024542136 ( 11.4031316787 %)\n",
      "Q (Rk = 240.0) = 3.98740606033 +- 0.494017573844 ( 12.3894473342 %)\n"
     ]
    }
   ],
   "source": [
    "Q = np.pi / lambd\n",
    "Q_RE = lambd_RE\n",
    "for i in range(len(Q)):\n",
    "    sciPrintR(Q[i], Q_RE[i], \"Q (Rk = {}) =\".format(ts_re[i, 1]))"
   ]
  },
  {
   "cell_type": "markdown",
   "metadata": {},
   "source": [
    "$\\gamma = \\frac{R}{2L}$"
   ]
  },
  {
   "cell_type": "code",
   "execution_count": 103,
   "metadata": {
    "collapsed": false
   },
   "outputs": [
    {
     "name": "stdout",
     "output_type": "stream",
     "text": [
      "L =  0.13230804744 +- 0.000648692349956 ( 0.490289413612 %)\n"
     ]
    }
   ],
   "source": [
    "L_values = (ts_re[:, 1] + R_coil) / (2.* gamma)\n",
    "L = L_values.mean()\n",
    "L_RE = L_values.std(ddof=1)\n",
    "sciPrintR(L, L_RE, \"L = \")"
   ]
  },
  {
   "cell_type": "markdown",
   "metadata": {},
   "source": [
    "$T = 2\\pi \\sqrt{LC}$"
   ]
  },
  {
   "cell_type": "code",
   "execution_count": 104,
   "metadata": {
    "collapsed": false
   },
   "outputs": [
    {
     "name": "stdout",
     "output_type": "stream",
     "text": [
      "C =  8.08873702641e-08 +- 4.16698505114e-09 ( 5.15158922528 %)\n"
     ]
    }
   ],
   "source": [
    "C = (T / (2. * np.pi))**2 / L\n",
    "C_RE = prodErrorR_degs([(2, T_RE), (-1, L_RE)])\n",
    "sciPrintR(C, C_RE, \"C = \")"
   ]
  },
  {
   "cell_type": "code",
   "execution_count": 105,
   "metadata": {
    "collapsed": false
   },
   "outputs": [
    {
     "data": {
      "text/plain": [
       "2557.895322147664"
      ]
     },
     "execution_count": 105,
     "metadata": {},
     "output_type": "execute_result"
    }
   ],
   "source": [
    "R_crit = 2. * sqrt(L/C)\n",
    "R_crit"
   ]
  },
  {
   "cell_type": "code",
   "execution_count": 108,
   "metadata": {
    "collapsed": false
   },
   "outputs": [
    {
     "name": "stdout",
     "output_type": "stream",
     "text": [
      "Q_RCL (R = 0.0)= 15.2275871427 +- 0.394003740905 ( 2.58743382791 %)\n",
      "Q_RCL (R = 30.0)= 11.219935689 +- 0.290308411486 ( 2.58743382791 %)\n",
      "Q_RCL (R = 60.0)= 8.88226821739 +- 0.229822812542 ( 2.58743382791 %)\n",
      "Q_RCL (R = 90.0)= 7.35074459631 +- 0.190195652288 ( 2.58743382791 %)\n",
      "Q_RCL (R = 120.0)= 6.26969370184 +- 0.162224175748 ( 2.58743382791 %)\n",
      "Q_RCL (R = 150.0)= 5.46584854314 +- 0.141425214187 ( 2.58743382791 %)\n",
      "Q_RCL (R = 180.0)= 4.84470317642 +- 0.125353488848 ( 2.58743382791 %)\n",
      "Q_RCL (R = 210.0)= 4.35032697434 +- 0.112561831759 ( 2.58743382791 %)\n",
      "Q_RCL (R = 240.0)= 3.94750506913 +- 0.102139081517 ( 2.58743382791 %)\n"
     ]
    }
   ],
   "source": [
    "Q_RCL = 1. / (ts_re[:, 1] + R_coil) * sqrt(L / C)\n",
    "Q_RCL_RE = prodErrorR_degs([(0.5, L_RE), (0.5, C_RE)])  # на погрешность сопротивления забили, маленькая\n",
    "for i, q_rcl in enumerate(Q_RCL):\n",
    "    sciPrintR(q_rcl, Q_RCL_RE, \"Q_RCL (R = {})=\".format(ts_re[i, 1]))"
   ]
  },
  {
   "cell_type": "code",
   "execution_count": 120,
   "metadata": {
    "collapsed": false
   },
   "outputs": [
    {
     "data": {
      "image/png": "[encoded data removed]",
      "text/plain": [
       "<matplotlib.figure.Figure at 0x7f23dec4f320>"
      ]
     },
     "metadata": {},
     "output_type": "display_data"
    }
   ],
   "source": [
    "def plotIntervals(x, x_std, y, y_std, xlabel=\"Значения\",\n",
    "                  ylabel=\"Номер измерения\", title=\"\", fontsize=15):\n",
    "    assert len(x) == len(x_std)\n",
    "    assert len(y) == len(y_std)\n",
    "    assert len(x) == len(y)\n",
    "    plt.figure(figsize=(10, len(x)))\n",
    "    hstep = 1\n",
    "    hsmall = 0.1\n",
    "    for i in range(len(x)):\n",
    "        plt.hlines((i + 1) * hstep - hsmall, x[i] - x_std[i], x[i] + x_std[i])\n",
    "        plt.hlines((i + 1) * hstep + hsmall, y[i] - y_std[i], y[i] + y_std[i])\n",
    "        plt.scatter([x[i], y[i]], [(i + 1) * hstep - hsmall, (i + 1)*hstep + hsmall], )\n",
    "    plt.grid()\n",
    "    plt.xlabel(xlabel, fontsize=fontsize)\n",
    "    plt.ylabel(ylabel, fontsize=fontsize)\n",
    "    plt.title(title, fontsize=fontsize)\n",
    "    plt.show()\n",
    "\n",
    "plotIntervals(Q_RCL, [Q_RCL_RE * Q_RCL] * len(Q_RCL), Q, Q_RE * Q, title=\"Измерения Q и $Q_{RCL}$\")"
   ]
  },
  {
   "cell_type": "code",
   "execution_count": null,
   "metadata": {
    "collapsed": true
   },
   "outputs": [],
   "source": []
  }
 ],
 "metadata": {
  "kernelspec": {
   "display_name": "Python 3",
   "language": "python",
   "name": "python3"
  },
  "language_info": {
   "codemirror_mode": {
    "name": "ipython",
    "version": 3
   },
   "file_extension": ".py",
   "mimetype": "text/x-python",
   "name": "python",
   "nbconvert_exporter": "python",
   "pygments_lexer": "ipython3",
   "version": "3.5.2"
  }
 },
 "nbformat": 4,
 "nbformat_minor": 2
}
