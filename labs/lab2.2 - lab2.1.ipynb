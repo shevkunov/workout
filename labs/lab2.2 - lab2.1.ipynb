{
 "cells": [
  {
   "cell_type": "code",
   "execution_count": 23,
   "metadata": {
    "collapsed": false,
    "scrolled": true
   },
   "outputs": [],
   "source": [
    "import numpy as np\n",
    "import matplotlib.pyplot as plt\n",
    "from labwork import *"
   ]
  },
  {
   "cell_type": "code",
   "execution_count": 33,
   "metadata": {
    "collapsed": false
   },
   "outputs": [
    {
     "data": {
      "text/plain": [
       "(array([  1.00000000e-09,   2.00000000e-09,   3.00000000e-09,\n",
       "          4.00000000e-09,   5.00000000e-09,   6.00000000e-09,\n",
       "          7.00000000e-09,   8.00000000e-09,   9.00000000e-09,\n",
       "          1.00000000e-08]),\n",
       " array([ 12400.,   9080.,   7380.,   6310.,   5710.,   5250.,   4830.,\n",
       "          4570.,   4280.,   4080.]))"
      ]
     },
     "execution_count": 33,
     "metadata": {},
     "output_type": "execute_result"
    }
   ],
   "source": [
    "nu = np.arange(1, 11) * 1e-9\n",
    "freqs = np.array([12.4, 9.08, 7.38, 6.31, 5.71, 5.25, 4.83, 4.57, 4.28, 4.08]) * 1e3\n",
    "\n",
    "nu, freqs\n"
   ]
  },
  {
   "cell_type": "code",
   "execution_count": 42,
   "metadata": {
    "collapsed": false
   },
   "outputs": [
    {
     "data": {
      "image/png": "[encoded data removed]",
      "text/plain": [
       "<matplotlib.figure.Figure at 0x7f8f337042b0>"
      ]
     },
     "metadata": {},
     "output_type": "display_data"
    }
   ],
   "source": [
    "plt.figure(figsize=(14, 5))\n",
    "y = (1./(2. * np.pi * freqs)**2)\n",
    "a, b, sigma_a, sigma_b = eval_mnk(nu , y)\n",
    "# plt.plot([nu.min(), nu.max()], b * np.array([nu.min(), nu.max()]) + a)\n",
    "plt.plot(nu, y)\n",
    "plt.scatter(nu, y)\n",
    "plt.xlabel(\"C\", fontsize=15)\n",
    "plt.ylabel(r\"$(\\frac{2*\\pi}{f})^2$\", fontsize=15)\n",
    "plt.grid()\n",
    "plt.show()"
   ]
  },
  {
   "cell_type": "code",
   "execution_count": 44,
   "metadata": {
    "collapsed": false
   },
   "outputs": [
    {
     "name": "stdout",
     "output_type": "stream",
     "text": [
      "L [мГн] =  151.339220699\n"
     ]
    }
   ],
   "source": [
    "print(\"L [мГн] = \", b* 1e3)"
   ]
  },
  {
   "cell_type": "code",
   "execution_count": 21,
   "metadata": {
    "collapsed": true
   },
   "outputs": [],
   "source": [
    "f_resonance = 7.37"
   ]
  },
  {
   "cell_type": "code",
   "execution_count": 67,
   "metadata": {
    "collapsed": false
   },
   "outputs": [],
   "source": [
    "# АЧХ\n",
    "f = np.array(\n",
    "    [7.38, 7.44, 7.50, 7.55, 7.6 , 7.66, 7.7 , 7.75, 7.8 , 7.32, 7.29, 7.26, 7.23, 7.2 , 7.15, 7.85]\n",
    ")\n",
    "uy = np.array(\n",
    "    [7.4 , 7.  , 6.55, 6.  , 5.4 , 4.8 , 4.4 , 4.2 , 3.8 , 6.6 , 5.4 , 4.8 , 3.8 , 3.4 , 2.8 , 3.4]\n",
    ")  # 20 мВ # 7.4 = 7.1\n",
    "ux = np.array(\n",
    "    [6.  , 6.  , 6.  , 6.  , 6.  , 6.  , 6.  , 6.  , 6.  , 6.  , 6.  , 6.  , 6.  , 6.  , 6.  , 6.]\n",
    ")  #0.1 В"
   ]
  },
  {
   "cell_type": "code",
   "execution_count": 69,
   "metadata": {
    "collapsed": false
   },
   "outputs": [
    {
     "data": {
      "image/png": "[encoded data removed]",
      "text/plain": [
       "<matplotlib.figure.Figure at 0x7f8f336870b8>"
      ]
     },
     "metadata": {},
     "output_type": "display_data"
    }
   ],
   "source": [
    "plt.figure(figsize=(14, 5))\n",
    "plt.scatter(f, uy / uy.max())\n",
    "plt.grid()\n",
    "plt.show()"
   ]
  },
  {
   "cell_type": "markdown",
   "metadata": {},
   "source": [
    "___________________________________________\n",
    "### lab 2.1"
   ]
  },
  {
   "cell_type": "code",
   "execution_count": 74,
   "metadata": {
    "collapsed": false
   },
   "outputs": [
    {
     "name": "stdout",
     "output_type": "stream",
     "text": [
      "1.3\n"
     ]
    }
   ],
   "source": [
    "T = 7.8 / 6 \n",
    "print(T)\n",
    "ts_re = np.array([\n",
    "    [6. , 0],\n",
    "    [4.6 , 30],\n",
    "    [3.9 , 60],\n",
    "    [3.2 , 90],\n",
    "    [2.5, 120],\n",
    "    [2.2, 150],\n",
    "    [2.  , 180],\n",
    "    [1.8 , 210],\n",
    "    [1.65, 240]\n",
    "])  # 0.5 ms\n",
    "\n",
    "ts_re_1 = np.array([\n",
    "    [6.1 , 0],\n",
    "    [4.9 , 30],\n",
    "    [3.6 , 60],\n",
    "    [3.4 , 90],\n",
    "    [2.6, 120],\n",
    "    [2.3, 150],\n",
    "    [2.15, 180],\n",
    "    [2.08, 210],\n",
    "    [2.02, 240]\n",
    "])  # 0.5 ms\n",
    "\n",
    "ts_re_2 = np.array([\n",
    "    [1.6, 0],\n",
    "    [1.5 , 30],  # 1.3 - 1.5\n",
    "    [1.2 , 60],\n",
    "    [1.1 , 90],\n",
    "    [1.05, 120],\n",
    "])  # 1 ms"
   ]
  },
  {
   "cell_type": "code",
   "execution_count": 80,
   "metadata": {
    "collapsed": false
   },
   "outputs": [
    {
     "data": {
      "image/png": "[encoded data removed]",
      "text/plain": [
       "<matplotlib.figure.Figure at 0x7f8f3351f908>"
      ]
     },
     "metadata": {},
     "output_type": "display_data"
    }
   ],
   "source": [
    "plt.figure(figsize=(14,5))\n",
    "a, b, sigma_a, sigma_b = eval_mnk(ts_re[:, 1], T / ts_re[:, 0])\n",
    "\n",
    "plt.plot([0, 250], b * np.array([0, 250]) + a, color=\"red\")\n",
    "plt.scatter(ts_re[:, 1], T / ts_re[:, 0])\n",
    "plt.grid()\n",
    "plt.show()"
   ]
  },
  {
   "cell_type": "code",
   "execution_count": 83,
   "metadata": {
    "collapsed": false
   },
   "outputs": [
    {
     "data": {
      "text/plain": [
       "83.988858450549941"
      ]
     },
     "execution_count": 83,
     "metadata": {},
     "output_type": "execute_result"
    }
   ],
   "source": [
    "Rkr =  a / b\n",
    "Rkr"
   ]
  },
  {
   "cell_type": "code",
   "execution_count": null,
   "metadata": {
    "collapsed": true
   },
   "outputs": [],
   "source": []
  }
 ],
 "metadata": {
  "kernelspec": {
   "display_name": "Python 3",
   "language": "python",
   "name": "python3"
  },
  "language_info": {
   "codemirror_mode": {
    "name": "ipython",
    "version": 3
   },
   "file_extension": ".py",
   "mimetype": "text/x-python",
   "name": "python",
   "nbconvert_exporter": "python",
   "pygments_lexer": "ipython3",
   "version": "3.5.2"
  }
 },
 "nbformat": 4,
 "nbformat_minor": 2
}
