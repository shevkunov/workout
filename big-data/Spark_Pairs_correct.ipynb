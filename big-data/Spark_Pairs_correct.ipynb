{
 "cells": [
  {
   "cell_type": "code",
   "execution_count": 1,
   "metadata": {},
   "outputs": [],
   "source": [
    "from pyspark import SparkConf, SparkContext\n",
    "import re"
   ]
  },
  {
   "cell_type": "code",
   "execution_count": 2,
   "metadata": {},
   "outputs": [
    {
     "name": "stdout",
     "output_type": "stream",
     "text": [
      "narodnaya_gazeta 1\n",
      "narodnaya_volya 9\n"
     ]
    }
   ],
   "source": [
    "sc = SparkContext(conf=SparkConf().setAppName(\"MyApp\").setMaster(\"local\"))\n",
    "\n",
    "magic_word = \"narodnaya\"\n",
    "\n",
    "def parse_article(line):\n",
    "    try:\n",
    "        article_id, text = unicode(line.rstrip()).split('\\t', 1)\n",
    "        text = re.sub(\"^\\W+|\\W+$\", \"\", text, flags=re.UNICODE)\n",
    "        words = re.split(\"\\W*\\s+\\W*\", text, flags=re.UNICODE)\n",
    "        result = []\n",
    "        words = [s.lower() for s in words]\n",
    "        for i in range(len(words) - 1):\n",
    "            if (magic_word == words[i]):\n",
    "                result.append(words[i] + \"_\" + words[i+1])\n",
    "        return result\n",
    "    except ValueError as e:\n",
    "        return []\n",
    "\n",
    "parser_wc = lambda line: [(word, 1) for word in parse_article(line)]\n",
    "reducer_wc = lambda a, b: a + b\n",
    "\n",
    "result = (\n",
    "    sc.textFile(\"/data/wiki/en_articles_part/articles-part\")\n",
    "        .flatMap(parse_article)\n",
    "        .map(lambda x: (x, 1))\n",
    "        .reduceByKey(lambda a, b: a+b)\n",
    "        .collect()\n",
    ")\n",
    "for word in result:\n",
    "    print word[0], word[1]"
   ]
  },
  {
   "cell_type": "code",
   "execution_count": null,
   "metadata": {},
   "outputs": [],
   "source": []
  }
 ],
 "metadata": {
  "kernelspec": {
   "display_name": "Python 2",
   "language": "python",
   "name": "python2"
  },
  "language_info": {
   "codemirror_mode": {
    "name": "ipython",
    "version": 2
   },
   "file_extension": ".py",
   "mimetype": "text/x-python",
   "name": "python",
   "nbconvert_exporter": "python",
   "pygments_lexer": "ipython2",
   "version": "2.7.12"
  }
 },
 "nbformat": 4,
 "nbformat_minor": 2
}
