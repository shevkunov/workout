{
 "cells": [
  {
   "cell_type": "markdown",
   "metadata": {},
   "source": [
    "# scikit learning\n",
    "\n",
    "https://youtu.be/t4319ffzRg0?list=PLQVvvaa0QuDc-3szzjeP6N6b0aDrrKyL-\n",
    "\n",
    "\n",
    "http://scikit-learn.org/stable/tutorial/machine_learning_map/index.html\n",
    "scikit-learn cheat-sheet"
   ]
  },
  {
   "cell_type": "code",
   "execution_count": 1,
   "metadata": {
    "collapsed": false
   },
   "outputs": [
    {
     "name": "stderr",
     "output_type": "stream",
     "text": [
      "/usr/local/lib/python2.7/dist-packages/sklearn/cross_validation.py:44: DeprecationWarning: This module was deprecated in version 0.18 in favor of the model_selection module into which all the refactored classes and functions are moved. Also note that the interface of the new CV iterators are different from that of this module. This module will be removed in 0.20.\n",
      "  \"This module will be removed in 0.20.\", DeprecationWarning)\n"
     ]
    }
   ],
   "source": [
    "import quandl;\n",
    "import pandas as pd;\n",
    "\n",
    "import pickle;\n",
    "\n",
    "import matplotlib.pyplot as plt;\n",
    "from matplotlib import style;\n",
    "style.use(\"ggplot\");\n",
    "\n",
    "import numpy as np;\n",
    "\n",
    "from statistics import mean;\n",
    "\n",
    "from sklearn import svm, preprocessing, cross_validation;"
   ]
  },
  {
   "cell_type": "code",
   "execution_count": 2,
   "metadata": {
    "collapsed": true
   },
   "outputs": [],
   "source": [
    "api_key = open(\"quandlapikey.txt\", \"r\").read();\n",
    "\n",
    "def mortgage_30y_resampled():\n",
    "    df = quandl.get(\"FMAC/MORTG\", trim_start = \"1975-01-01\", authtoken = api_key);       \n",
    "    df[\"Value\"] = (df[\"Value\"] - df[\"Value\"][0]) / df[\"Value\"][0] * 100.0;\n",
    "    df.columns = [\"M30\"];\n",
    "    return df.resample(\"M\").mean();\n",
    "\n",
    "def state_list():\n",
    "    fiddy_states = pd.read_html(\"https://simple.wikipedia.org/wiki/List_of_U.S._states\");\n",
    "    return fiddy_states[0][0][1:];\n",
    "\n",
    "def grap_initial_state_data_start_pct():\n",
    "    states = state_list();\n",
    "    main_df = pd.DataFrame();\n",
    "    for ab in states:\n",
    "        querry = \"FMAC/HPI_\" + ab;\n",
    "        df = quandl.get(querry, authtoken = api_key);\n",
    "        df.columns = [ab];        \n",
    "        df[ab] = (df[ab] - df[ab][0]) / df[ab][0] * 100.0; # <-------\n",
    "        if main_df.empty:\n",
    "            main_df = df;\n",
    "        else:\n",
    "            main_df = main_df.join(df);\n",
    "\n",
    "    pickle_out = open(\"./data/fiddy_states.pickle\", \"wb\");\n",
    "    pickle.dump(main_df, pickle_out);\n",
    "    pickle_out.close();\n",
    "    \n",
    "def HPI_Benchmark():\n",
    "    df = quandl.get(\"FMAC/HPI_USA\", authtoken = api_key);\n",
    "    df.columns = [\"US\"];        \n",
    "    df[\"US\"] = (df[\"US\"] - df[\"US\"][0]) / df[\"US\"][0] * 100.0; # <-------\n",
    "    return df;\n"
   ]
  },
  {
   "cell_type": "code",
   "execution_count": 3,
   "metadata": {
    "collapsed": false
   },
   "outputs": [],
   "source": [
    "def sp500_data():\n",
    "    df = quandl.get(\"YAHOO/INDEX_GSPC\", trim_start = \"1975-01-01\", authtoken = api_key);\n",
    "    df[\"Adjusted Close\"] = (df[\"Adjusted Close\"] - df[\"Adjusted Close\"][0]) / df[\"Adjusted Close\"][0] * 100.0; # <-------\n",
    "    df = df.resample(\"M\").mean();\n",
    "    df.rename(columns={\"Adjusted Close\":\"sp500\"}, inplace = True);\n",
    "    df = df[\"sp500\"];\n",
    "    return df;"
   ]
  },
  {
   "cell_type": "code",
   "execution_count": 4,
   "metadata": {
    "collapsed": false
   },
   "outputs": [
    {
     "name": "stdout",
     "output_type": "stream",
     "text": [
      "Date\n",
      "1975-01-31     3.323491\n",
      "1975-02-28    14.049322\n",
      "1975-03-31    19.367785\n",
      "1975-04-30    20.636734\n",
      "1975-05-31    28.287322\n",
      "Freq: M, Name: sp500, dtype: float64\n"
     ]
    }
   ],
   "source": [
    "df = sp500_data();\n",
    "print(df.head());"
   ]
  },
  {
   "cell_type": "code",
   "execution_count": 5,
   "metadata": {
    "collapsed": true
   },
   "outputs": [],
   "source": [
    "def gdp_data():\n",
    "    df = quandl.get(\"BCB/4385\", trim_start = \"1975-01-01\", authtoken = api_key);\n",
    "    df[\"Value\"] = (df[\"Value\"] - df[\"Value\"][0]) / df[\"Value\"][0] * 100.0; # <-------\n",
    "    df = df.resample(\"M\").mean();\n",
    "    df.rename(columns={\"Value\":\"GDP\"}, inplace = True);\n",
    "    df = df[\"GDP\"];\n",
    "    return df;\n",
    "    "
   ]
  },
  {
   "cell_type": "code",
   "execution_count": 6,
   "metadata": {
    "collapsed": true
   },
   "outputs": [],
   "source": [
    "def us_unemployment():\n",
    "    df = quandl.get(\"ECPI/JOB_G\", trim_start = \"1975-01-01\", authtoken = api_key);\n",
    "    df[\"Unemployment Rate\"] = (df[\"Unemployment Rate\"] - df[\"Unemployment Rate\"][0]) / df[\"Unemployment Rate\"][0] * 100.0; # <-------\n",
    "    df = df.resample(\"1D\").mean();\n",
    "    df = df.resample(\"M\").mean();\n",
    "    return df;"
   ]
  },
  {
   "cell_type": "code",
   "execution_count": 7,
   "metadata": {
    "collapsed": false
   },
   "outputs": [],
   "source": [
    "sp500 = sp500_data();\n",
    "US_GDP = gdp_data();\n",
    "US_uneployment = us_unemployment();\n",
    "\n",
    "m30 = mortgage_30y_resampled();\n",
    "HPI_data = pd.read_pickle(\"./data/fiddy_states.pickle\");\n",
    "HPI_bench = HPI_Benchmark();"
   ]
  },
  {
   "cell_type": "code",
   "execution_count": 8,
   "metadata": {
    "collapsed": false
   },
   "outputs": [
    {
     "name": "stdout",
     "output_type": "stream",
     "text": [
      "                  AL        AK        AZ        AR        CA        CO  \\\n",
      "Date                                                                     \n",
      "1975-01-31  0.000000  0.000000  0.000000  0.000000  0.000000  0.000000   \n",
      "1975-02-28  0.626500  1.485775  1.688504  0.846192  0.356177  1.159639   \n",
      "1975-03-31  1.358575  3.006473  3.261346  1.581956  1.575690  2.299449   \n",
      "1975-04-30  2.254726  4.593530  4.475810  2.183669  3.573196  3.359028   \n",
      "1975-05-31  3.107829  6.327600  5.139617  2.786248  5.241395  4.226895   \n",
      "\n",
      "                  CT        DE         FL        GA    ...            VA  \\\n",
      "Date                                                   ...                 \n",
      "1975-01-31  0.000000  0.000000   0.000000  0.000000    ...      0.000000   \n",
      "1975-02-28  2.123926  0.142451   3.938796 -0.902841    ...      0.987288   \n",
      "1975-03-31  3.719898  0.387918   9.798243 -1.282758    ...      1.707474   \n",
      "1975-04-30  4.616778  0.891619  16.974819 -1.068371    ...      2.238392   \n",
      "1975-05-31  4.901787  1.752086  17.891884 -0.676830    ...      2.684036   \n",
      "\n",
      "                  WA         WV        WI        WY        US       M30  \\\n",
      "Date                                                                      \n",
      "1975-01-31  0.000000   0.000000  0.000000  0.000000  0.000000  0.000000   \n",
      "1975-02-28  0.397561   2.495069  1.404920  1.438502  0.639523 -3.393425   \n",
      "1975-03-31  1.015723   5.093474  2.791371  2.962512  1.681678 -5.620361   \n",
      "1975-04-30  1.757887   7.772685  4.034165  4.545011  3.047044 -6.468717   \n",
      "1975-05-31  2.426439  10.469784  5.047628  6.080901  3.922540 -5.514316   \n",
      "\n",
      "            Unemployment Rate  GDP      sp500  \n",
      "Date                                           \n",
      "1975-01-31           0.000000  NaN   3.323491  \n",
      "1975-02-28           0.000000  NaN  14.049322  \n",
      "1975-03-31           6.172840  NaN  19.367785  \n",
      "1975-04-30           8.641975  NaN  20.636734  \n",
      "1975-05-31          11.111111  NaN  28.287322  \n",
      "\n",
      "[5 rows x 55 columns]\n",
      "          AL        AK        AZ        AR        CA        CO        CT  \\\n",
      "AL  1.000000  0.946418  0.937592  0.995119  0.942310  0.965541  0.953146   \n",
      "AK  0.946418  1.000000  0.910237  0.967983  0.921818  0.960382  0.884600   \n",
      "AZ  0.937592  0.910237  1.000000  0.936454  0.976776  0.919486  0.917688   \n",
      "AR  0.995119  0.967983  0.936454  1.000000  0.945774  0.976929  0.944746   \n",
      "CA  0.942310  0.921818  0.976776  0.945774  1.000000  0.938870  0.942463   \n",
      "\n",
      "          DE        FL        GA    ...           VA        WA        WV  \\\n",
      "AL  0.982824  0.929395  0.978346    ...     0.975277  0.985060  0.982097   \n",
      "AK  0.938068  0.900713  0.899525    ...     0.962226  0.958805  0.972376   \n",
      "AZ  0.948801  0.994380  0.949167    ...     0.958568  0.956881  0.919514   \n",
      "AR  0.977921  0.928081  0.968410    ...     0.979944  0.984041  0.990395   \n",
      "CA  0.967911  0.985869  0.951573    ...     0.979699  0.965064  0.936562   \n",
      "\n",
      "          WI        WY        US       M30  Unemployment Rate       GDP  \\\n",
      "AL  0.991161  0.946695  0.983404 -0.796453          -0.313968  0.679765   \n",
      "AK  0.930831  0.987373  0.950294 -0.734748          -0.077318  0.831059   \n",
      "AZ  0.935717  0.909381  0.969580 -0.673961          -0.363260  0.461065   \n",
      "AR  0.986244  0.964090  0.984300 -0.788178          -0.274777  0.738729   \n",
      "CA  0.945139  0.919537  0.986693 -0.733805          -0.309076  0.513147   \n",
      "\n",
      "       sp500  \n",
      "AL  0.912874  \n",
      "AK  0.894500  \n",
      "AZ  0.857531  \n",
      "AR  0.919558  \n",
      "CA  0.873121  \n",
      "\n",
      "[5 rows x 55 columns]\n"
     ]
    }
   ],
   "source": [
    "HPI = HPI_data.join([HPI_bench, m30, US_uneployment, US_GDP, sp500]);\n",
    "print(HPI.head());\n",
    "print(HPI.corr().head());\n",
    "# we have nans!!"
   ]
  },
  {
   "cell_type": "code",
   "execution_count": 9,
   "metadata": {
    "collapsed": false
   },
   "outputs": [
    {
     "name": "stdout",
     "output_type": "stream",
     "text": [
      "                   AL         AK          AZ         AR          CA  \\\n",
      "Date                                                                  \n",
      "1990-01-31  97.377466  62.960664  125.925384  90.013079  407.639219   \n",
      "1990-02-28  97.306825  64.745987  125.954481  90.292939  409.393746   \n",
      "1990-03-31  97.640926  68.843816  125.677184  90.749096  412.358848   \n",
      "1990-04-30  98.347335  75.545290  125.537118  91.190719  414.727667   \n",
      "1990-05-31  99.135672  84.269489  125.820526  91.693828  415.785301   \n",
      "\n",
      "                    CO          CT          DE          FL          GA  \\\n",
      "Date                                                                     \n",
      "1990-01-31  128.607770  289.087700  202.214111  133.668588  116.794322   \n",
      "1990-02-28  128.817810  286.729447  203.585164  133.302517  116.293285   \n",
      "1990-03-31  129.016696  283.918663  203.903611  133.217207  115.513095   \n",
      "1990-04-30  129.123827  280.649292  203.811564  133.568341  115.303254   \n",
      "1990-05-31  129.785821  277.504604  203.813374  134.063840  115.679836   \n",
      "\n",
      "               ...              VA          WA         WV          WI  \\\n",
      "Date           ...                                                      \n",
      "1990-01-31     ...      179.224441  225.298844  68.476763  102.969030   \n",
      "1990-02-28     ...      178.921132  233.971612  68.825487  104.289628   \n",
      "1990-03-31     ...      179.104137  242.490216  69.416380  105.932415   \n",
      "1990-04-30     ...      180.099895  250.784574  70.283645  107.582128   \n",
      "1990-05-31     ...      181.135479  258.186412  71.468265  108.807348   \n",
      "\n",
      "                   WY          US        M30  Unemployment Rate        GDP  \\\n",
      "Date                                                                         \n",
      "1990-01-31  74.740767  198.780437   4.984093         -33.333333   0.000000   \n",
      "1990-02-28  75.353989  199.407324   8.165429         -34.567901  -2.697505   \n",
      "1990-03-31  76.287112  200.269331   8.907741         -35.802469  -2.065278   \n",
      "1990-04-30  77.735727  201.307039   9.968187         -33.333333 -10.874318   \n",
      "1990-05-31  79.764564  202.362724  11.134677         -33.333333   1.006296   \n",
      "\n",
      "                 sp500  \n",
      "Date                    \n",
      "1990-01-31  384.083446  \n",
      "1990-02-28  370.529148  \n",
      "1990-03-31  381.937898  \n",
      "1990-04-30  381.529238  \n",
      "1990-05-31  398.718477  \n",
      "\n",
      "[5 rows x 55 columns]\n",
      "          AL        AK        AZ        AR        CA        CO        CT  \\\n",
      "AL  1.000000  0.972248  0.901313  0.994846  0.877794  0.961665  0.927413   \n",
      "AK  0.972248  1.000000  0.839755  0.981834  0.855834  0.922324  0.930099   \n",
      "AZ  0.901313  0.839755  1.000000  0.886004  0.958469  0.842439  0.912187   \n",
      "AR  0.994846  0.981834  0.886004  1.000000  0.880304  0.969541  0.932475   \n",
      "CA  0.877794  0.855834  0.958469  0.880304  1.000000  0.845729  0.968665   \n",
      "\n",
      "          DE        FL        GA    ...           VA        WA        WV  \\\n",
      "AL  0.956129  0.886165  0.936673    ...     0.953386  0.986904  0.987465   \n",
      "AK  0.962020  0.841722  0.851612    ...     0.963128  0.966984  0.992558   \n",
      "AZ  0.921635  0.991186  0.934123    ...     0.927210  0.935524  0.850917   \n",
      "AR  0.956638  0.879779  0.925560    ...     0.959097  0.977613  0.994293   \n",
      "CA  0.949543  0.984781  0.911907    ...     0.958405  0.917135  0.848311   \n",
      "\n",
      "          WI        WY        US       M30  Unemployment Rate       GDP  \\\n",
      "AL  0.984120  0.976964  0.959813 -0.797310           0.065500  0.655117   \n",
      "AK  0.947880  0.995386  0.937370 -0.850842           0.259508  0.778482   \n",
      "AZ  0.898546  0.835989  0.954788 -0.569351          -0.190969  0.392354   \n",
      "AR  0.988203  0.981145  0.961420 -0.831055           0.104737  0.681297   \n",
      "CA  0.895063  0.835664  0.975569 -0.620295          -0.027545  0.410782   \n",
      "\n",
      "       sp500  \n",
      "AL  0.806501  \n",
      "AK  0.731637  \n",
      "AZ  0.709411  \n",
      "AR  0.797588  \n",
      "CA  0.644640  \n",
      "\n",
      "[5 rows x 55 columns]\n"
     ]
    }
   ],
   "source": [
    "HPI.dropna(inplace = True);\n",
    "print(HPI.head());\n",
    "print(HPI.corr().head());"
   ]
  },
  {
   "cell_type": "code",
   "execution_count": 10,
   "metadata": {
    "collapsed": true
   },
   "outputs": [],
   "source": [
    "HPI.to_pickle(\"./data/HPI.pickle\");"
   ]
  },
  {
   "cell_type": "code",
   "execution_count": 11,
   "metadata": {
    "collapsed": false
   },
   "outputs": [
    {
     "name": "stdout",
     "output_type": "stream",
     "text": [
      "                  AL        AK        AZ        AR        CA        CO  \\\n",
      "Date                                                                     \n",
      "1990-01-31       NaN       NaN       NaN       NaN       NaN       NaN   \n",
      "1990-02-28 -0.000725  0.028356  0.000231  0.003109  0.004304  0.001633   \n",
      "1990-03-31  0.003433  0.063291 -0.002202  0.005052  0.007243  0.001544   \n",
      "1990-04-30  0.007235  0.097343 -0.001114  0.004866  0.005745  0.000830   \n",
      "1990-05-31  0.008016  0.115483  0.002258  0.005517  0.002550  0.005127   \n",
      "\n",
      "                  CT        DE        FL        GA    ...           VA  \\\n",
      "Date                                                  ...                \n",
      "1990-01-31       NaN       NaN       NaN       NaN    ...          NaN   \n",
      "1990-02-28 -0.008158  0.006780 -0.002739 -0.004290    ...    -0.001692   \n",
      "1990-03-31 -0.009803  0.001564 -0.000640 -0.006709    ...     0.001023   \n",
      "1990-04-30 -0.011515 -0.000451  0.002636 -0.001817    ...     0.005560   \n",
      "1990-05-31 -0.011205  0.000009  0.003710  0.003266    ...     0.005750   \n",
      "\n",
      "                  WA        WV        WI        WY        US       M30  \\\n",
      "Date                                                                     \n",
      "1990-01-31       NaN       NaN       NaN       NaN       NaN       NaN   \n",
      "1990-02-28  0.038495  0.005093  0.012825  0.008205  0.003154  0.638298   \n",
      "1990-03-31  0.036409  0.008585  0.015752  0.012383  0.004323  0.090909   \n",
      "1990-04-30  0.034205  0.012494  0.015573  0.018989  0.005182  0.119048   \n",
      "1990-05-31  0.029515  0.016855  0.011389  0.026099  0.005244  0.117021   \n",
      "\n",
      "            Unemployment Rate       GDP     sp500  \n",
      "Date                                               \n",
      "1990-01-31                NaN       NaN       NaN  \n",
      "1990-02-28           0.037037      -inf -0.035290  \n",
      "1990-03-31           0.035714 -0.234375  0.030790  \n",
      "1990-04-30          -0.068966  4.265306 -0.001070  \n",
      "1990-05-31           0.000000 -1.092539  0.045054  \n",
      "\n",
      "[5 rows x 55 columns]\n"
     ]
    }
   ],
   "source": [
    "housing_data = pd.read_pickle(\"./data/HPI.pickle\");\n",
    "housing_data = housing_data.pct_change();\n",
    "print(housing_data.head());"
   ]
  },
  {
   "cell_type": "code",
   "execution_count": 12,
   "metadata": {
    "collapsed": false
   },
   "outputs": [
    {
     "name": "stdout",
     "output_type": "stream",
     "text": [
      "                  AL        AK        AZ        AR        CA        CO  \\\n",
      "Date                                                                     \n",
      "1990-03-31  0.003433  0.063291 -0.002202  0.005052  0.007243  0.001544   \n",
      "1990-04-30  0.007235  0.097343 -0.001114  0.004866  0.005745  0.000830   \n",
      "1990-05-31  0.008016  0.115483  0.002258  0.005517  0.002550  0.005127   \n",
      "1990-06-30  0.004616  0.103961  0.003969  0.006417  0.003595  0.007326   \n",
      "1990-07-31  0.000083  0.069205  0.001866  0.006427  0.004748  0.003203   \n",
      "\n",
      "                  CT        DE        FL        GA    ...           VA  \\\n",
      "Date                                                  ...                \n",
      "1990-03-31 -0.009803  0.001564 -0.000640 -0.006709    ...     0.001023   \n",
      "1990-04-30 -0.011515 -0.000451  0.002636 -0.001817    ...     0.005560   \n",
      "1990-05-31 -0.011205  0.000009  0.003710  0.003266    ...     0.005750   \n",
      "1990-06-30 -0.007019 -0.000411  0.003081  0.002858    ...     0.003002   \n",
      "1990-07-31 -0.003224 -0.003613  0.002929  0.001878    ...     0.002215   \n",
      "\n",
      "                  WA        WV        WI        WY        US       M30  \\\n",
      "Date                                                                     \n",
      "1990-03-31  0.036409  0.008585  0.015752  0.012383  0.004323  0.090909   \n",
      "1990-04-30  0.034205  0.012494  0.015573  0.018989  0.005182  0.119048   \n",
      "1990-05-31  0.029515  0.016855  0.011389  0.026099  0.005244  0.117021   \n",
      "1990-06-30  0.018036  0.017798  0.009686  0.027659  0.005103 -0.304762   \n",
      "1990-07-31  0.008122  0.012048  0.009039  0.021413  0.003712 -0.164384   \n",
      "\n",
      "            Unemployment Rate       GDP     sp500  \n",
      "Date                                               \n",
      "1990-03-31           0.035714 -0.234375  0.030790  \n",
      "1990-04-30          -0.068966  4.265306 -0.001070  \n",
      "1990-05-31           0.000000 -1.092539  0.045054  \n",
      "1990-06-30           0.074074  3.115183  0.036200  \n",
      "1990-07-31          -0.103448  0.441476 -0.001226  \n",
      "\n",
      "[5 rows x 55 columns]\n"
     ]
    }
   ],
   "source": [
    "housing_data.replace([np.inf, -np.inf], np.nan, inplace = True);\n",
    "housing_data.dropna(inplace = True);\n",
    "print(housing_data.head());"
   ]
  },
  {
   "cell_type": "code",
   "execution_count": 13,
   "metadata": {
    "collapsed": false
   },
   "outputs": [
    {
     "name": "stdout",
     "output_type": "stream",
     "text": [
      "            US_HPI_future        US\n",
      "Date                               \n",
      "1990-03-31       0.005182  0.004323\n",
      "1990-04-30       0.005244  0.005182\n",
      "1990-05-31       0.005103  0.005244\n",
      "1990-06-30       0.003712  0.005103\n",
      "1990-07-31       0.000489  0.003712\n"
     ]
    }
   ],
   "source": [
    "housing_data[\"US_HPI_future\"] = housing_data[\"US\"].shift(-1);\n",
    "print(housing_data[[\"US_HPI_future\", \"US\"]].head());"
   ]
  },
  {
   "cell_type": "code",
   "execution_count": 14,
   "metadata": {
    "collapsed": false
   },
   "outputs": [
    {
     "name": "stdout",
     "output_type": "stream",
     "text": [
      "            US_HPI_future        US  label\n",
      "Date                                      \n",
      "1990-03-31       0.005182  0.004323      1\n",
      "1990-04-30       0.005244  0.005182      1\n",
      "1990-05-31       0.005103  0.005244      0\n",
      "1990-06-30       0.003712  0.005103      0\n",
      "1990-07-31       0.000489  0.003712      0\n"
     ]
    }
   ],
   "source": [
    "def create_labels(cur_hpi, fut_hpi):\n",
    "    if fut_hpi > cur_hpi:\n",
    "        return 1;\n",
    "    else:\n",
    "        return 0;\n",
    "\n",
    "housing_data[\"label\"] = list(map(create_labels, housing_data[\"US\"], housing_data[\"US_HPI_future\"])); # wow\n",
    "#pd.Series.map may be useful also\n",
    "print(housing_data[[\"US_HPI_future\", \"US\", \"label\"]].head());"
   ]
  },
  {
   "cell_type": "code",
   "execution_count": 15,
   "metadata": {
    "collapsed": false
   },
   "outputs": [
    {
     "name": "stdout",
     "output_type": "stream",
     "text": [
      "                 M30  ma_apply_example\n",
      "Date                                  \n",
      "1990-03-31  0.090909               NaN\n",
      "1990-04-30  0.119048               NaN\n",
      "1990-05-31  0.117021               NaN\n",
      "1990-06-30 -0.304762               NaN\n",
      "1990-07-31 -0.164384               NaN\n",
      "1990-08-31  0.098361               NaN\n",
      "1990-09-30  0.119403               NaN\n",
      "1990-10-31  0.000000               NaN\n",
      "1990-11-30 -0.226667               NaN\n",
      "1990-12-31 -0.586207         -0.073728\n",
      "1991-01-31 -0.125000         -0.095319\n",
      "1991-02-28 -1.285714         -0.235795\n",
      "1991-03-31 -2.166667         -0.464164\n",
      "1991-04-30 -0.142857         -0.447973\n",
      "1991-05-31 -0.333333         -0.464868\n",
      "1991-06-30  3.750000         -0.099704\n",
      "1991-07-31 -0.210526         -0.132697\n",
      "1991-08-31 -2.266667         -0.359364\n",
      "1991-09-30  1.210526         -0.215644\n",
      "1991-10-31  0.357143         -0.121310\n",
      "1991-11-30  0.263158         -0.082494\n",
      "1991-12-31  0.291667          0.075244\n",
      "1992-01-31  0.075269          0.299438\n",
      "1992-02-29 -0.330000          0.280724\n",
      "1992-03-31 -0.268657          0.287191\n",
      "1992-04-30  0.183673         -0.069441\n",
      "1992-05-31  0.310345         -0.017354\n",
      "1992-06-30  0.210526          0.230365\n",
      "1992-07-31  0.413043          0.150617\n",
      "1992-08-31  0.115385          0.126441\n",
      "...              ...               ...\n",
      "2009-07-31  0.049875          0.025387\n",
      "2009-08-31  0.007126          0.030820\n",
      "2009-09-30  0.030660          0.030480\n",
      "2009-10-31  0.025172          0.010243\n",
      "2009-11-30  0.015625          0.005220\n",
      "2009-12-31 -0.010989          0.005723\n",
      "2010-01-31 -0.022222          0.000478\n",
      "2010-02-28  0.009091         -0.002902\n",
      "2010-03-31  0.004505         -0.001370\n",
      "2010-04-30 -0.029148          0.007969\n",
      "2010-05-31  0.048499          0.007832\n",
      "2010-06-30  0.033040          0.010423\n",
      "2010-07-31  0.038380          0.011195\n",
      "2010-08-31  0.026694          0.011347\n",
      "2010-09-30  0.016000          0.011385\n",
      "2010-10-31  0.023622          0.014846\n",
      "2010-11-30 -0.013462          0.015722\n",
      "2010-12-31 -0.079922          0.006821\n",
      "2011-01-31 -0.010593          0.005311\n",
      "2011-02-28 -0.040685          0.004157\n",
      "2011-03-31  0.024554          0.001763\n",
      "2011-04-30  0.000000         -0.001541\n",
      "2011-05-31  0.043573         -0.001022\n",
      "2011-06-30  0.027140         -0.000977\n",
      "2011-07-31 -0.008130         -0.003390\n",
      "2011-08-31  0.057377         -0.000015\n",
      "2011-09-30  0.031008          0.004432\n",
      "2011-10-31  0.007519          0.013176\n",
      "2011-11-30  0.014925          0.015728\n",
      "2011-12-31  0.005515          0.020348\n",
      "\n",
      "[262 rows x 2 columns]\n"
     ]
    }
   ],
   "source": [
    "def moving_average(values):\n",
    "    return mean(values);\n",
    "\n",
    "housing_data[\"ma_apply_example\"] = housing_data[\"M30\"].rolling(window = 10).apply(moving_average);\n",
    "print(housing_data[[\"M30\", \"ma_apply_example\"]]);"
   ]
  },
  {
   "cell_type": "markdown",
   "metadata": {
    "collapsed": true
   },
   "source": [
    "# in fact, this notebook starts here"
   ]
  },
  {
   "cell_type": "code",
   "execution_count": 16,
   "metadata": {
    "collapsed": false
   },
   "outputs": [
    {
     "name": "stdout",
     "output_type": "stream",
     "text": [
      "[[  3.43348369e-03   6.32908563e-02  -2.20155868e-03 ...,   3.57142857e-02\n",
      "   -2.34375000e-01   3.07904247e-02]\n",
      " [  7.23476661e-03   9.73431485e-02  -1.11449223e-03 ...,  -6.89655172e-02\n",
      "    4.26530612e+00  -1.06996554e-03]\n",
      " [  8.01583787e-03   1.15483024e-01   2.25756447e-03 ...,   0.00000000e+00\n",
      "   -1.09253876e+00   4.50535306e-02]\n",
      " ..., \n",
      " [ -1.38395068e-02  -7.53032397e-03   6.90772620e-04 ...,  -1.11111111e-01\n",
      "    2.01368115e-02   3.02062770e-02]\n",
      " [ -6.51605813e-03  -7.08517825e-03   6.67412020e-03 ...,  -2.50000000e-01\n",
      "    9.48695005e-04   1.68855043e-02]\n",
      " [  3.60639587e-04  -5.30536889e-03   7.65538356e-03 ...,  -3.33333333e-01\n",
      "   -2.21278017e-02   1.46240254e-02]]\n",
      "[[ 0.05008063  4.0429684  -0.3829891  ...,  0.1928799  -0.39143479\n",
      "   0.59380827]\n",
      " [ 0.64096895  6.46761673 -0.30118641 ..., -0.34198895  4.28569477\n",
      "  -0.18863566]\n",
      " [ 0.76238214  7.75924253 -0.04743625 ...,  0.01039524 -1.28344091\n",
      "   0.944089  ]\n",
      " ..., \n",
      " [-2.63490981 -0.99975986 -0.16533868 ..., -0.55733484 -0.1268861\n",
      "   0.57946247]\n",
      " [-1.49652038 -0.96806385  0.28491336 ..., -1.26699743 -0.14683092\n",
      "   0.25232405]\n",
      " [-0.42757592 -0.84133488  0.35875427 ..., -1.69279498 -0.17081746\n",
      "   0.19678548]]\n"
     ]
    }
   ],
   "source": [
    "X = np.array(housing_data.drop([\"US_HPI_future\", \"label\", \"ma_apply_example\"], 1));\n",
    "print(X);\n",
    "X = preprocessing.scale(X);\n",
    "print(X);"
   ]
  },
  {
   "cell_type": "code",
   "execution_count": 17,
   "metadata": {
    "collapsed": false
   },
   "outputs": [
    {
     "name": "stdout",
     "output_type": "stream",
     "text": [
      "[1 1 0 0 0 0 0 0 1 1 1 1 1 1 0 0 0 1 1 0 0 1 1 0 0 0 1 1 1 0 0 0 0 0 1 1 1\n",
      " 1 0 0 0 0 0 1 0 1 1 1 1 1 0 0 0 0 1 0 0 1 1 1 1 1 0 0 0 0 0 1 1 1 1 1 1 0\n",
      " 0 0 0 0 1 0 0 1 1 1 1 0 0 0 0 0 1 1 0 1 1 1 1 0 0 0 0 0 1 1 0 1 1 1 1 1 0\n",
      " 0 0 0 0 1 1 0 0 1 1 0 0 0 0 0 1 0 0 1 1 1 1 0 0 0 0 0 0 0 1 1 1 1 1 0 0 0\n",
      " 0 0 0 0 0 1 1 1 1 0 1 1 0 0 0 0 0 1 1 1 1 1 0 0 0 0 1 0 0 1 1 1 1 0 0 0 0\n",
      " 0 0 0 0 1 1 1 1 0 0 0 0 0 1 0 1 1 1 1 0 0 0 0 0 0 0 0 0 1 1 1 1 1 0 0 0 0\n",
      " 0 0 0 1 1 1 1 1 1 0 0 0 0 0 0 1 1 1 1 0 0 0 0 0 1 1 0 1 1 1 1 1 0 0 0 0 0\n",
      " 1 0 0]\n"
     ]
    }
   ],
   "source": [
    "y = np.array(housing_data[\"label\"]);\n",
    "print(y);"
   ]
  },
  {
   "cell_type": "code",
   "execution_count": 20,
   "metadata": {
    "collapsed": false
   },
   "outputs": [
    {
     "name": "stdout",
     "output_type": "stream",
     "text": [
      "0.811320754717\n"
     ]
    }
   ],
   "source": [
    "X_train, X_test, y_train, y_test = cross_validation.train_test_split(X, y, test_size = 0.2);\n",
    "clf = svm.SVC(kernel = \"linear\");\n",
    "clf.fit(X_train, y_train);\n",
    "\n",
    "print(clf.score(X_test, y_test));"
   ]
  },
  {
   "cell_type": "code",
   "execution_count": null,
   "metadata": {
    "collapsed": true
   },
   "outputs": [],
   "source": []
  }
 ],
 "metadata": {
  "kernelspec": {
   "display_name": "Python 2",
   "language": "python",
   "name": "python2"
  },
  "language_info": {
   "codemirror_mode": {
    "name": "ipython",
    "version": 2
   },
   "file_extension": ".py",
   "mimetype": "text/x-python",
   "name": "python",
   "nbconvert_exporter": "python",
   "pygments_lexer": "ipython2",
   "version": "2.7.12"
  }
 },
 "nbformat": 4,
 "nbformat_minor": 1
}
