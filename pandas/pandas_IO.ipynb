{
 "cells": [
  {
   "cell_type": "markdown",
   "metadata": {},
   "source": [
    "# Reading and saving\n",
    "\n",
    "https://youtu.be/9Z7wvippeko?list=PLQVvvaa0QuDc-3szzjeP6N6b0aDrrKyL-\n",
    "\n",
    "- data https://www.quandl.com/data/ZILL/Z77006_MLP-Zillow-Home-Value-Index-ZIP-Median-List-Price-Houston\n",
    "- mans http://pandas.pydata.org/pandas-docs/stable/io.html"
   ]
  },
  {
   "cell_type": "code",
   "execution_count": 3,
   "metadata": {
    "collapsed": true
   },
   "outputs": [],
   "source": [
    "import pandas as pd;"
   ]
  },
  {
   "cell_type": "code",
   "execution_count": 7,
   "metadata": {
    "collapsed": false,
    "scrolled": true
   },
   "outputs": [
    {
     "name": "stdout",
     "output_type": "stream",
     "text": [
      "         Date     Value\n",
      "0  2015-02-28  620000.0\n",
      "1  2015-01-31  620000.0\n",
      "2  2014-12-31  629000.0\n",
      "3  2014-11-30  632500.0\n",
      "4  2014-10-31  619900.0\n"
     ]
    }
   ],
   "source": [
    "df = pd.read_csv(\"./data/ZILL-Z77006_MLP.csv\");\n",
    "print(df.head());"
   ]
  },
  {
   "cell_type": "code",
   "execution_count": 8,
   "metadata": {
    "collapsed": false
   },
   "outputs": [
    {
     "name": "stdout",
     "output_type": "stream",
     "text": [
      "               Value\n",
      "Date                \n",
      "2015-02-28  620000.0\n",
      "2015-01-31  620000.0\n",
      "2014-12-31  629000.0\n",
      "2014-11-30  632500.0\n",
      "2014-10-31  619900.0\n"
     ]
    }
   ],
   "source": [
    "df.set_index(\"Date\", inplace=True);\n",
    "print(df.head());\n",
    "df.to_csv(\"./data/z77006_mlp_new.csv\");"
   ]
  },
  {
   "cell_type": "code",
   "execution_count": 18,
   "metadata": {
    "collapsed": false
   },
   "outputs": [
    {
     "name": "stdout",
     "output_type": "stream",
     "text": [
      "            Austin_HPI\n",
      "Date                  \n",
      "2015-02-28    620000.0\n",
      "2015-01-31    620000.0\n",
      "2014-12-31    629000.0\n",
      "2014-11-30    632500.0\n",
      "2014-10-31    619900.0\n"
     ]
    }
   ],
   "source": [
    "df = pd.read_csv(\"./data/z77006_mlp_new.csv\", index_col=0);\n",
    "df.columns = [\"Austin_HPI\"];\n",
    "print(df.head());\n",
    "df.to_csv(\"./data/z77006_mlp_no_header.csv\", header=False);"
   ]
  },
  {
   "cell_type": "code",
   "execution_count": 22,
   "metadata": {
    "collapsed": false
   },
   "outputs": [
    {
     "name": "stdout",
     "output_type": "stream",
     "text": [
      "         Date  Austin_HPI\n",
      "0  2015-02-28    620000.0\n",
      "1  2015-01-31    620000.0\n",
      "2  2014-12-31    629000.0\n",
      "3  2014-11-30    632500.0\n",
      "4  2014-10-31    619900.0\n"
     ]
    }
   ],
   "source": [
    "df = pd.read_csv(\"./data/z77006_mlp_no_header.csv\", names=[\"Date\", \"Austin_HPI\"])\n",
    "print(df.head());"
   ]
  },
  {
   "cell_type": "code",
   "execution_count": 29,
   "metadata": {
    "collapsed": false
   },
   "outputs": [
    {
     "name": "stdout",
     "output_type": "stream",
     "text": [
      "            Austin_HPI\n",
      "Date                  \n",
      "2015-02-28    620000.0\n",
      "2015-01-31    620000.0\n",
      "2014-12-31    629000.0\n",
      "2014-11-30    632500.0\n",
      "2014-10-31    619900.0\n"
     ]
    }
   ],
   "source": [
    "df = pd.read_csv(\"./data/z77006_mlp_no_header.csv\", names=[\"Date\", \"Austin_HPI\"], index_col=0)\n",
    "print(df.head());"
   ]
  },
  {
   "cell_type": "code",
   "execution_count": 30,
   "metadata": {
    "collapsed": true
   },
   "outputs": [],
   "source": [
    "df.to_html(\"./data/z77006_mlp_no_header.html\"); #to html <table>"
   ]
  },
  {
   "cell_type": "code",
   "execution_count": 33,
   "metadata": {
    "collapsed": false
   },
   "outputs": [
    {
     "name": "stdout",
     "output_type": "stream",
     "text": [
      "            77006_HPI\n",
      "Date                 \n",
      "2015-02-28   620000.0\n",
      "2015-01-31   620000.0\n",
      "2014-12-31   629000.0\n",
      "2014-11-30   632500.0\n",
      "2014-10-31   619900.0\n"
     ]
    }
   ],
   "source": [
    "df.rename(columns={\"Austin_HPI\":\"77006_HPI\"}, inplace=True); # Have you thinked that this should be a function?\n",
    "print(df.head());"
   ]
  },
  {
   "cell_type": "code",
   "execution_count": null,
   "metadata": {
    "collapsed": true
   },
   "outputs": [],
   "source": []
  }
 ],
 "metadata": {
  "kernelspec": {
   "display_name": "Python 2",
   "language": "python",
   "name": "python2"
  },
  "language_info": {
   "codemirror_mode": {
    "name": "ipython",
    "version": 2
   },
   "file_extension": ".py",
   "mimetype": "text/x-python",
   "name": "python",
   "nbconvert_exporter": "python",
   "pygments_lexer": "ipython2",
   "version": "2.7.12"
  }
 },
 "nbformat": 4,
 "nbformat_minor": 1
}
