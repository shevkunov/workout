{
 "cells": [
  {
   "cell_type": "code",
   "execution_count": 1,
   "metadata": {
    "collapsed": true
   },
   "outputs": [],
   "source": [
    "import pandas as pd;\n",
    "import matplotlib.pyplot as plt;\n",
    "\n",
    "from matplotlib import style;\n",
    "style.use(\"ggplot\");"
   ]
  },
  {
   "cell_type": "code",
   "execution_count": 2,
   "metadata": {
    "collapsed": false
   },
   "outputs": [],
   "source": [
    "web_stats = {\"Day\":[1, 2, 3, 4, 5, 6],\n",
    "            \"Visitors\":[11, 12, 13, 14, 15, 16],\n",
    "            \"Bounce Rate\":[21, 22, 23, 24, 25, 26]};\n",
    "\n",
    "data_frame = pd.DataFrame(web_stats);"
   ]
  },
  {
   "cell_type": "code",
   "execution_count": 3,
   "metadata": {
    "collapsed": false
   },
   "outputs": [
    {
     "name": "stdout",
     "output_type": "stream",
     "text": [
      "   Bounce Rate  Day  Visitors\n",
      "0           21    1        11\n",
      "1           22    2        12\n",
      "2           23    3        13\n",
      "3           24    4        14\n",
      "4           25    5        15\n",
      "5           26    6        16\n",
      "   Bounce Rate  Day  Visitors\n",
      "0           21    1        11\n",
      "1           22    2        12\n",
      "2           23    3        13\n",
      "3           24    4        14\n",
      "4           25    5        15\n",
      "   Bounce Rate  Day  Visitors\n",
      "4           25    5        15\n",
      "5           26    6        16\n"
     ]
    }
   ],
   "source": [
    "print(data_frame);\n",
    "print(data_frame.head()); #feel the difference!\n",
    "\n",
    "print(data_frame.tail(2)); # able for head too"
   ]
  },
  {
   "cell_type": "code",
   "execution_count": 4,
   "metadata": {
    "collapsed": false
   },
   "outputs": [
    {
     "name": "stdout",
     "output_type": "stream",
     "text": [
      "   Bounce Rate  Day  Visitors\n",
      "0           21    1        11\n",
      "1           22    2        12\n",
      "2           23    3        13\n",
      "3           24    4        14\n",
      "4           25    5        15\n",
      "5           26    6        16\n",
      "     Bounce Rate  Visitors\n",
      "Day                       \n",
      "1             21        11\n",
      "2             22        12\n",
      "3             23        13\n",
      "4             24        14\n",
      "5             25        15\n",
      "6             26        16\n"
     ]
    }
   ],
   "source": [
    "data_frame.set_index(\"Day\");\n",
    "print(data_frame);\n",
    "\n",
    "print(data_frame.set_index(\"Day\")); #this is the function!"
   ]
  },
  {
   "cell_type": "code",
   "execution_count": 5,
   "metadata": {
    "collapsed": false
   },
   "outputs": [
    {
     "name": "stdout",
     "output_type": "stream",
     "text": [
      "     Bounce Rate  Visitors\n",
      "Day                       \n",
      "1             21        11\n",
      "2             22        12\n",
      "3             23        13\n",
      "4             24        14\n",
      "5             25        15\n",
      "6             26        16\n"
     ]
    }
   ],
   "source": [
    "data_frame = pd.DataFrame(web_stats); #refresh\n",
    "\n",
    "data_frame.set_index(\"Day\", inplace=True); #we cannot call this twice\n",
    "print(data_frame);\n",
    "\n",
    "data_frame = pd.DataFrame(web_stats);"
   ]
  },
  {
   "cell_type": "code",
   "execution_count": 8,
   "metadata": {
    "collapsed": false
   },
   "outputs": [
    {
     "name": "stdout",
     "output_type": "stream",
     "text": [
      "0    11\n",
      "1    12\n",
      "2    13\n",
      "3    14\n",
      "4    15\n",
      "5    16\n",
      "Name: Visitors, dtype: int64\n",
      "0    11\n",
      "1    12\n",
      "2    13\n",
      "3    14\n",
      "4    15\n",
      "5    16\n",
      "Name: Visitors, dtype: int64\n"
     ]
    }
   ],
   "source": [
    "print(data_frame[\"Visitors\"]); \n",
    "print(data_frame.Visitors); #there is no difference"
   ]
  },
  {
   "cell_type": "code",
   "execution_count": 12,
   "metadata": {
    "collapsed": false
   },
   "outputs": [
    {
     "name": "stdout",
     "output_type": "stream",
     "text": [
      "   Bounce Rate  Visitors\n",
      "0           21        11\n",
      "1           22        12\n",
      "2           23        13\n",
      "3           24        14\n",
      "4           25        15\n",
      "5           26        16\n"
     ]
    }
   ],
   "source": [
    "print(data_frame[[\"Bounce Rate\", \"Visitors\"]]);"
   ]
  },
  {
   "cell_type": "code",
   "execution_count": 14,
   "metadata": {
    "collapsed": false
   },
   "outputs": [
    {
     "name": "stdout",
     "output_type": "stream",
     "text": [
      "[11, 12, 13, 14, 15, 16]\n"
     ]
    }
   ],
   "source": [
    "print(data_frame.Visitors.tolist());"
   ]
  },
  {
   "cell_type": "code",
   "execution_count": 20,
   "metadata": {
    "collapsed": false
   },
   "outputs": [
    {
     "name": "stdout",
     "output_type": "stream",
     "text": [
      "[[21 11]\n",
      " [22 12]\n",
      " [23 13]\n",
      " [24 14]\n",
      " [25 15]\n",
      " [26 16]]\n",
      "22\n"
     ]
    }
   ],
   "source": [
    "import numpy as np;\n",
    "\n",
    "np_bounce_visitors_array = np.array(data_frame[[\"Bounce Rate\", \"Visitors\"]]);\n",
    "print(np.array(data_frame[[\"Bounce Rate\", \"Visitors\"]]));\n",
    "print(np_bounce_visitors_array[1][0]);"
   ]
  },
  {
   "cell_type": "code",
   "execution_count": 22,
   "metadata": {
    "collapsed": false
   },
   "outputs": [
    {
     "name": "stdout",
     "output_type": "stream",
     "text": [
      "    0   1\n",
      "0  21  11\n",
      "1  22  12\n",
      "2  23  13\n",
      "3  24  14\n",
      "4  25  15\n",
      "5  26  16\n"
     ]
    }
   ],
   "source": [
    "data_frame_2 = pd.DataFrame(np_bounce_visitors_array);\n",
    "print(data_frame_2);"
   ]
  },
  {
   "cell_type": "code",
   "execution_count": null,
   "metadata": {
    "collapsed": true
   },
   "outputs": [],
   "source": []
  }
 ],
 "metadata": {
  "kernelspec": {
   "display_name": "Python 2",
   "language": "python",
   "name": "python2"
  },
  "language_info": {
   "codemirror_mode": {
    "name": "ipython",
    "version": 2
   },
   "file_extension": ".py",
   "mimetype": "text/x-python",
   "name": "python",
   "nbconvert_exporter": "python",
   "pygments_lexer": "ipython2",
   "version": "2.7.12"
  }
 },
 "nbformat": 4,
 "nbformat_minor": 1
}
