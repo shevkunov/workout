{
 "cells": [
  {
   "cell_type": "markdown",
   "metadata": {},
   "source": [
    "# Joining and merging dataframes\n",
    "\n",
    "https://youtu.be/XMjSGGej9y8"
   ]
  },
  {
   "cell_type": "code",
   "execution_count": 6,
   "metadata": {
    "collapsed": true
   },
   "outputs": [],
   "source": [
    "import pandas as pd;\n",
    "\n",
    "df1 = pd.DataFrame({'HPI':[80,85,88,85],\n",
    "                    'Int_rate':[2, 3, 2, 2],\n",
    "                    'US_GDP_Thousands':[50, 55, 65, 55]},\n",
    "                   index = [2001, 2002, 2003, 2004])\n",
    "\n",
    "df2 = pd.DataFrame({'HPI':[80,85,88,85],\n",
    "                    'Int_rate':[2, 3, 2, 2],\n",
    "                    'US_GDP_Thousands':[50, 55, 65, 55]},\n",
    "                   index = [2005, 2006, 2007, 2008])\n",
    "\n",
    "df3 = pd.DataFrame({'HPI':[80,85,88,85],\n",
    "                    'Unemployment':[7, 8, 9, 6],\n",
    "                    'Low_tier_HPI':[50, 52, 50, 53]},\n",
    "                   index = [2001, 2002, 2003, 2004])"
   ]
  },
  {
   "cell_type": "code",
   "execution_count": 12,
   "metadata": {
    "collapsed": false
   },
   "outputs": [
    {
     "name": "stdout",
     "output_type": "stream",
     "text": [
      "   HPI  Int_rate_x  US_GDP_Thousands_x  Int_rate_y  US_GDP_Thousands_y\n",
      "0   80           2                  50           2                  50\n",
      "1   85           3                  55           3                  55\n",
      "2   85           3                  55           2                  55\n",
      "3   85           2                  55           3                  55\n",
      "4   85           2                  55           2                  55\n",
      "5   88           2                  65           2                  65\n"
     ]
    }
   ],
   "source": [
    "print(pd.merge(df1, df2, on = \"HPI\")); #like SQL merge"
   ]
  },
  {
   "cell_type": "code",
   "execution_count": 13,
   "metadata": {
    "collapsed": false
   },
   "outputs": [
    {
     "name": "stdout",
     "output_type": "stream",
     "text": [
      "   HPI  Int_rate  US_GDP_Thousands_x  US_GDP_Thousands_y\n",
      "0   80         2                  50                  50\n",
      "1   85         3                  55                  55\n",
      "2   88         2                  65                  65\n",
      "3   85         2                  55                  55\n"
     ]
    }
   ],
   "source": [
    "print(pd.merge(df1, df2, on = [\"HPI\", \"Int_rate\"])); "
   ]
  },
  {
   "cell_type": "code",
   "execution_count": 15,
   "metadata": {
    "collapsed": false
   },
   "outputs": [
    {
     "name": "stdout",
     "output_type": "stream",
     "text": [
      "     Int_rate  US_GDP_Thousands  Low_tier_HPI  Unemployment\n",
      "HPI                                                        \n",
      "80          2                50            50             7\n",
      "85          3                55            52             8\n",
      "85          3                55            53             6\n",
      "85          2                55            52             8\n",
      "85          2                55            53             6\n",
      "88          2                65            50             9\n",
      "   HPI  Int_rate  US_GDP_Thousands  Low_tier_HPI  Unemployment\n",
      "0   80         2                50            50             7\n",
      "1   85         3                55            52             8\n",
      "2   85         3                55            53             6\n",
      "3   85         2                55            52             8\n",
      "4   85         2                55            53             6\n",
      "5   88         2                65            50             9\n"
     ]
    }
   ],
   "source": [
    "df1_indexed = df1.set_index(\"HPI\");\n",
    "df3_indexed = df3.set_index(\"HPI\");\n",
    "joindex = df1_indexed.join(df3_indexed);\n",
    "\n",
    "print(joindex);\n",
    "print(pd.merge(df1, df3, on = \"HPI\"));"
   ]
  },
  {
   "cell_type": "code",
   "execution_count": 17,
   "metadata": {
    "collapsed": false
   },
   "outputs": [
    {
     "name": "stdout",
     "output_type": "stream",
     "text": [
      "      Int_rate  US_GDP_Thousands  Low_tier_HPI  Unemployment\n",
      "Year                                                        \n",
      "2001         2                50            50             7\n",
      "2003         2                65            52             8\n",
      "2004         2                55            50             9\n"
     ]
    }
   ],
   "source": [
    "ndf1 = pd.DataFrame({'Year':[2001, 2002, 2003, 2004],\n",
    "                    'Int_rate':[2, 3, 2, 2],\n",
    "                    'US_GDP_Thousands':[50, 55, 65, 55]});\n",
    "\n",
    "ndf2 = pd.DataFrame({'Year':[2001, 2003, 2004, 2005],\n",
    "                    'Unemployment':[7, 8, 9, 6],\n",
    "                    'Low_tier_HPI':[50, 52, 50, 53]});\n",
    "\n",
    "merged = pd.merge(ndf1, ndf2, on = \"Year\");\n",
    "merged.set_index(\"Year\", inplace = True);\n",
    "print(merged);"
   ]
  },
  {
   "cell_type": "code",
   "execution_count": 18,
   "metadata": {
    "collapsed": false
   },
   "outputs": [
    {
     "name": "stdout",
     "output_type": "stream",
     "text": [
      "      Int_rate  US_GDP_Thousands  Low_tier_HPI  Unemployment\n",
      "Year                                                        \n",
      "2001         2                50          50.0           7.0\n",
      "2002         3                55           NaN           NaN\n",
      "2003         2                65          52.0           8.0\n",
      "2004         2                55          50.0           9.0\n"
     ]
    }
   ],
   "source": [
    "merged = pd.merge(ndf1, ndf2, on = \"Year\", how = \"left\");\n",
    "merged.set_index(\"Year\", inplace = True);\n",
    "print(merged);"
   ]
  },
  {
   "cell_type": "code",
   "execution_count": 19,
   "metadata": {
    "collapsed": false
   },
   "outputs": [
    {
     "name": "stdout",
     "output_type": "stream",
     "text": [
      "      Int_rate  US_GDP_Thousands  Low_tier_HPI  Unemployment\n",
      "Year                                                        \n",
      "2001       2.0              50.0            50             7\n",
      "2003       2.0              65.0            52             8\n",
      "2004       2.0              55.0            50             9\n",
      "2005       NaN               NaN            53             6\n"
     ]
    }
   ],
   "source": [
    "merged = pd.merge(ndf1, ndf2, on = \"Year\", how = \"right\");\n",
    "merged.set_index(\"Year\", inplace = True);\n",
    "print(merged);"
   ]
  },
  {
   "cell_type": "code",
   "execution_count": 20,
   "metadata": {
    "collapsed": false
   },
   "outputs": [
    {
     "name": "stdout",
     "output_type": "stream",
     "text": [
      "      Int_rate  US_GDP_Thousands  Low_tier_HPI  Unemployment\n",
      "Year                                                        \n",
      "2001       2.0              50.0          50.0           7.0\n",
      "2002       3.0              55.0           NaN           NaN\n",
      "2003       2.0              65.0          52.0           8.0\n",
      "2004       2.0              55.0          50.0           9.0\n",
      "2005       NaN               NaN          53.0           6.0\n"
     ]
    }
   ],
   "source": [
    "merged = pd.merge(ndf1, ndf2, on = \"Year\", how = \"outer\");\n",
    "merged.set_index(\"Year\", inplace = True);\n",
    "print(merged);"
   ]
  },
  {
   "cell_type": "code",
   "execution_count": 21,
   "metadata": {
    "collapsed": false
   },
   "outputs": [
    {
     "name": "stdout",
     "output_type": "stream",
     "text": [
      "      Int_rate  US_GDP_Thousands  Low_tier_HPI  Unemployment\n",
      "Year                                                        \n",
      "2001         2                50            50             7\n",
      "2003         2                65            52             8\n",
      "2004         2                55            50             9\n"
     ]
    }
   ],
   "source": [
    "merged = pd.merge(ndf1, ndf2, on = \"Year\", how = \"inner\"); #default\n",
    "merged.set_index(\"Year\", inplace = True);\n",
    "print(merged);"
   ]
  },
  {
   "cell_type": "code",
   "execution_count": null,
   "metadata": {
    "collapsed": true
   },
   "outputs": [],
   "source": [
    "# Use merge when index doesn't matter smth to you, and join when it does."
   ]
  }
 ],
 "metadata": {
  "kernelspec": {
   "display_name": "Python 2",
   "language": "python",
   "name": "python2"
  },
  "language_info": {
   "codemirror_mode": {
    "name": "ipython",
    "version": 2
   },
   "file_extension": ".py",
   "mimetype": "text/x-python",
   "name": "python",
   "nbconvert_exporter": "python",
   "pygments_lexer": "ipython2",
   "version": "2.7.12"
  }
 },
 "nbformat": 4,
 "nbformat_minor": 1
}
