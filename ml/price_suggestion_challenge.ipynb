{
  "cells": [
    {
      "metadata": {
        "_uuid": "8ff878d436096000a338a9930a55a8896772821c",
        "_cell_guid": "3babffbc-27e6-4443-8ce9-ffb0a9e1886e",
        "trusted": false,
        "collapsed": true
      },
      "cell_type": "code",
      "source": "# This Python 3 environment comes with many helpful analytics libraries installed\n# It is defined by the kaggle/python docker image: https://github.com/kaggle/docker-python\n# For example, here's several helpful packages to load in \n\nimport numpy as np # linear algebra\nimport pandas as pd # data processing, CSV file I/O (e.g. pd.read_csv)\nfrom sklearn.feature_extraction.text import TfidfVectorizer, CountVectorizer\nimport scipy.sparse\n\n# Input data files are available in the \"../input/\" directory.\n# For example, running this (by clicking run or pressing Shift+Enter) will list the files in the input directory\n\nfrom subprocess import check_output\nprint(check_output([\"ls\", \"../input\"]).decode(\"utf8\"))\n\n# Any results you write to the current directory are saved as output.",
      "execution_count": null,
      "outputs": []
    },
    {
      "metadata": {
        "_uuid": "72d4ef4fb6672d3ee3bad4d9dab6128834b19cf4",
        "_cell_guid": "0f921593-52bd-4cd8-ab1c-08762c4640b0",
        "trusted": false,
        "collapsed": true
      },
      "cell_type": "code",
      "source": "!cat ../input/train.tsv | head -n 5",
      "execution_count": null,
      "outputs": []
    },
    {
      "metadata": {
        "_uuid": "0a92009c76a8bd958f543bca9fe423e2cce9aa3d",
        "_cell_guid": "c9902192-c6b4-4226-8bfc-9e14b010e3ce",
        "trusted": false,
        "collapsed": true
      },
      "cell_type": "code",
      "source": "df_test = pd.read_csv(\"../input/test.tsv\", sep=\"\\t\")\ndf_test.head()",
      "execution_count": null,
      "outputs": []
    },
    {
      "metadata": {
        "_uuid": "b284ba6fad42f5de686c4063eff64b1a667892a1",
        "_cell_guid": "56ba1aa9-8e0b-4762-9d3b-0d24c7a5d8e9",
        "trusted": false,
        "collapsed": true
      },
      "cell_type": "code",
      "source": "df_train = pd.read_csv(\"../input/train.tsv\", sep=\"\\t\")\ndf_train.head()",
      "execution_count": null,
      "outputs": []
    },
    {
      "metadata": {
        "_uuid": "17e2d64b9c3a7e4a79919be8a95357441b21f6f5",
        "_cell_guid": "9d368711-9259-4a2c-8420-d8ebf51e905a",
        "trusted": false,
        "collapsed": true
      },
      "cell_type": "code",
      "source": "df_train.info()",
      "execution_count": null,
      "outputs": []
    },
    {
      "metadata": {
        "_uuid": "919576abb1a8029e65b6bc0cd2df8d831950deb2",
        "_cell_guid": "88e1d527-2b31-4ef7-a2c9-cc2e19e10e24",
        "trusted": false,
        "collapsed": true
      },
      "cell_type": "code",
      "source": "brand_vect = CountVectorizer()\ndef get_brands(df):\n    return df[\"brand_name\"].fillna(\"NotABrand\")\nX_train = brand_vect.fit_transform(get_brands(df_train))",
      "execution_count": null,
      "outputs": []
    },
    {
      "metadata": {
        "_uuid": "653b698e18ddbf25ff071f8dc66b15871f2d99d5",
        "_cell_guid": "2779d1ff-961e-44d0-b08d-d24a06627cbe",
        "trusted": false,
        "collapsed": true
      },
      "cell_type": "code",
      "source": "X_train.shape  # about 5k brands",
      "execution_count": null,
      "outputs": []
    },
    {
      "metadata": {
        "_uuid": "2487196ec3eb4dddd761724077781db5c7b83868",
        "_cell_guid": "3031718d-a59f-4455-8d22-b55155dbfd10",
        "trusted": false,
        "collapsed": true
      },
      "cell_type": "code",
      "source": "name_vect = TfidfVectorizer(max_features=10000, stop_words=\"english\")\nname_vect.fit(df_train[\"name\"])",
      "execution_count": null,
      "outputs": []
    },
    {
      "metadata": {
        "_uuid": "7d3b514a3078dfc34acd15baedd8db6a623e7522",
        "_cell_guid": "c9fcee49-2990-403c-acb1-18568c3b24ba",
        "trusted": false,
        "collapsed": true
      },
      "cell_type": "code",
      "source": "descr_vect = TfidfVectorizer(max_features=10000, stop_words=\"english\")\ndescr_vect.fit(df_train[\"item_description\"].fillna(\"No description yet\"))",
      "execution_count": null,
      "outputs": []
    },
    {
      "metadata": {
        "_uuid": "0cc048801af366047aa46502d527bbee529b858f",
        "_cell_guid": "5c8da3a1-0ad0-471e-8927-dd5ae89281b2"
      },
      "cell_type": "markdown",
      "source": "_________________________\n|"
    },
    {
      "metadata": {
        "collapsed": true,
        "_uuid": "587188996abb1ebb69f7bd7e97ee1d4d72eb5d95",
        "_cell_guid": "4cab8640-8ed4-4384-8f10-e8cbc2c1732b",
        "trusted": false
      },
      "cell_type": "code",
      "source": "def get_features(df):\n    X = brand_vect.transform(get_brands(df))\n    shipping = df[\"shipping\"].values.reshape((len(df), 1))\n    condition = df[\"item_condition_id\"].values.reshape((len(df), 1))\n    names = name_vect.transform(df[\"name\"])\n    descr = descr_vect.transform(df[\"item_description\"].fillna(\"No description yet\"))\n    X = scipy.sparse.hstack([X, shipping, condition, names, descr])\n    return X",
      "execution_count": null,
      "outputs": []
    },
    {
      "metadata": {
        "_uuid": "65066fe3c473dc9139289182e70820e7be89dd2e",
        "_cell_guid": "32c98806-3e00-462f-9e67-1d18d069af82",
        "trusted": false,
        "collapsed": true
      },
      "cell_type": "code",
      "source": "X_train = get_features(df_train)\nX_train.shape",
      "execution_count": null,
      "outputs": []
    },
    {
      "metadata": {
        "_uuid": "e094c93cfc9bf482df28d8983a209b0fe0bf55aa",
        "_cell_guid": "f4958681-48e6-4ba3-8ec0-2857efdaa5e1",
        "trusted": false,
        "collapsed": true
      },
      "cell_type": "code",
      "source": "y_train = np.log(1. + df_train[\"price\"].values)  # Root Mean Squared Logarithmic Error\ny_train",
      "execution_count": null,
      "outputs": []
    },
    {
      "metadata": {
        "_uuid": "7cd0228d4032489087869171953201b88d75a74d",
        "_cell_guid": "14aa6016-5815-48b7-a029-0c81ea3d1a38",
        "trusted": false,
        "collapsed": true
      },
      "cell_type": "code",
      "source": "from sklearn.linear_model import Ridge\nfrom sklearn.model_selection import cross_val_score",
      "execution_count": null,
      "outputs": []
    },
    {
      "metadata": {
        "_uuid": "e18105a3d41fb580f6e64258021d4d082d9cc919",
        "_cell_guid": "3029fe61-f397-4adc-af17-9cbbcdc657b9",
        "trusted": false,
        "collapsed": true
      },
      "cell_type": "code",
      "source": "%%time\nLR = Ridge()\nres = cross_val_score(LR, X = X_train, y=y_train, cv=3, scoring=\"neg_mean_squared_error\")",
      "execution_count": null,
      "outputs": []
    },
    {
      "metadata": {
        "_uuid": "3a3a699f03a139d1934336041c6486a07503c295",
        "_cell_guid": "ab0277f8-62aa-42ab-92f8-d78669965af8",
        "trusted": false,
        "collapsed": true
      },
      "cell_type": "code",
      "source": "((-res) ** 0.5).mean()  # ((-res) ** 0.5).mean()  # 0.49722430553049496",
      "execution_count": null,
      "outputs": []
    },
    {
      "metadata": {
        "_uuid": "1040799a692bddb010f5e26dbc6fdd6ae6e20ac7",
        "_cell_guid": "b0914550-e4d5-420b-bba3-d14555b3ff4a"
      },
      "cell_type": "markdown",
      "source": "______________________________"
    },
    {
      "metadata": {
        "scrolled": true,
        "_uuid": "087b4c229b0d74ed909d96262a200e17948d4b7c",
        "_cell_guid": "db06f5e2-dc3a-4ea9-a250-c64296e3a274",
        "trusted": false,
        "collapsed": true
      },
      "cell_type": "code",
      "source": "!cat ../input/sample_submission.csv |head -n5",
      "execution_count": null,
      "outputs": []
    },
    {
      "metadata": {
        "_uuid": "ff132b3a196dbd48fd4c5d8dc1913bb08c69ca6e",
        "_cell_guid": "ac7c123b-7b4d-4480-85cd-b4be6e6ad1a3",
        "trusted": false,
        "collapsed": true
      },
      "cell_type": "code",
      "source": "%%time\nX_test = get_features(df_test)",
      "execution_count": null,
      "outputs": []
    },
    {
      "metadata": {
        "_uuid": "79198a25e65b7daf00a9d95a5e1bb0578995fb34",
        "_cell_guid": "41e3d36e-0903-4840-b705-f31504f95124",
        "trusted": false,
        "collapsed": true
      },
      "cell_type": "code",
      "source": "X_test.shape, X_train.shape",
      "execution_count": null,
      "outputs": []
    },
    {
      "metadata": {
        "_uuid": "14dfa09ae185577f3264a650ae60c9e996b90fac",
        "_cell_guid": "3850b301-bb7e-4484-b40a-85fc14c02c34",
        "trusted": false,
        "collapsed": true
      },
      "cell_type": "code",
      "source": "%%time\nLR = Ridge()\nLR.fit(X_train, y_train)",
      "execution_count": null,
      "outputs": []
    },
    {
      "metadata": {
        "_uuid": "4e1b513a0119ff129b16da07977ec640118edc68",
        "_cell_guid": "20466c60-4ea6-463f-be85-c1f445423805",
        "trusted": false,
        "collapsed": true
      },
      "cell_type": "code",
      "source": "%%time\nprediction = LR.predict(X_test)",
      "execution_count": null,
      "outputs": []
    },
    {
      "metadata": {
        "_uuid": "fb10907997727acc4de1495f23a461d5328ded5b",
        "_cell_guid": "cc556ea8-a6ef-4be5-8f4f-5587a78e295c",
        "trusted": false,
        "collapsed": true
      },
      "cell_type": "code",
      "source": "df = pd.DataFrame()\ndf[\"test_id\"] = df_test[\"test_id\"].values\ndf[\"price\"] = np.exp(prediction) - 1.\ndf.head()",
      "execution_count": null,
      "outputs": []
    },
    {
      "metadata": {
        "collapsed": true,
        "_uuid": "b5e433137bfece5fdfbe35489c0046c2e90fc9d9",
        "_cell_guid": "6d3eaa04-2888-46fe-be32-8b8328ed5070",
        "trusted": false
      },
      "cell_type": "code",
      "source": "df.to_csv(\"predction.csv\", index=False)",
      "execution_count": null,
      "outputs": []
    },
    {
      "metadata": {
        "_uuid": "8970d91a0b96a4dcaf5be3dba43c05e9c3853bd8",
        "_cell_guid": "04475163-2865-499b-9c02-81b2d130076e",
        "trusted": false,
        "collapsed": true
      },
      "cell_type": "code",
      "source": "!cat predction.csv |head -n5",
      "execution_count": null,
      "outputs": []
    },
    {
      "metadata": {
        "_uuid": "38eb7aaf87479bb9498caa55e5af4262a0342337",
        "_cell_guid": "f78b107c-d1c1-4f80-a3f5-4063e854bcc1",
        "trusted": false,
        "collapsed": true
      },
      "cell_type": "code",
      "source": "!cat ../input/sample_submission.csv |head -n5",
      "execution_count": null,
      "outputs": []
    },
    {
      "metadata": {
        "collapsed": true,
        "_uuid": "db19a790a6e90b74f53ec1c4201c9974c5a83f06",
        "_cell_guid": "de55c15b-ecb6-4128-9a56-e86bb1c1256a",
        "trusted": false
      },
      "cell_type": "code",
      "source": "",
      "execution_count": null,
      "outputs": []
    }
  ],
  "metadata": {
    "kernelspec": {
      "display_name": "Python 3",
      "language": "python",
      "name": "python3"
    },
    "language_info": {
      "file_extension": ".py",
      "nbconvert_exporter": "python",
      "mimetype": "text/x-python",
      "pygments_lexer": "ipython3",
      "version": "3.6.4",
      "name": "python",
      "codemirror_mode": {
        "version": 3,
        "name": "ipython"
      }
    }
  },
  "nbformat": 4,
  "nbformat_minor": 1
}